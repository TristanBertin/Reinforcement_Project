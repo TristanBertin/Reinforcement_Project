{
 "cells": [
  {
   "cell_type": "code",
   "execution_count": 37,
   "metadata": {},
   "outputs": [],
   "source": [
    "import import_ipynb\n",
    "import i_creation_environnement"
   ]
  },
  {
   "cell_type": "code",
   "execution_count": 38,
   "metadata": {},
   "outputs": [],
   "source": [
    "def policy_eval(policy, env, discount_factor=1.0, theta=0.00001):\n",
    "    \"\"\"\n",
    "    Evaluate a policy given an environment and a full description of the environment's dynamics.\n",
    "    \n",
    "    Args:\n",
    "        policy: [S, A] shaped matrix representing the policy.\n",
    "        env: OpenAI env. env.P represents the transition probabilities of the environment.\n",
    "            env.P[s][a] is a list of transition tuples (prob, next_state, reward, done).\n",
    "            env.nS is a number of states in the environment. \n",
    "            env.nA is a number of actions in the environment.\n",
    "        theta: We stop evaluation once our value function change is less than theta for all states.\n",
    "        discount_factor: Gamma discount factor.\n",
    "    \n",
    "    Returns:\n",
    "        Vector of length env.nS representing the value function.\n",
    "    \"\"\"\n",
    "    \n",
    "    # Start with a random (all 0) value function\n",
    "\n",
    "    V = np.zeros(env.nS)\n",
    "    while True:\n",
    "        delta = 0\n",
    "        # For each state, perform a \"full backup\"\n",
    "        for s in range(env.nS):  # for all the states\n",
    "            v = 0\n",
    "            # Look at the possible next actions\n",
    "            for a, action_prob in enumerate(policy[s]):\n",
    "                \n",
    "                # For each action, look at the possible next states...\n",
    "                for  prob, next_state, reward, done in env.P[s][a]:\n",
    "                    \n",
    "                    # Calculate the expected value. Ref: Sutton book eq. 4.6.\n",
    "                    v += action_prob * prob * (reward + discount_factor * V[next_state])\n",
    "                    \n",
    "            # How much our value function changed (across any states)\n",
    "            delta = max(delta, np.abs(v - V[s]))\n",
    "            V[s] = v\n",
    "            \n",
    "        # Stop evaluating once our value function change is below a threshold\n",
    "        if delta < theta:\n",
    "            break\n",
    "    return np.array(V)"
   ]
  },
  {
   "cell_type": "code",
   "execution_count": 39,
   "metadata": {},
   "outputs": [],
   "source": [
    "random_policy = np.ones([env.nS, env.nA]) / env.nA\n",
    "v = policy_eval(random_policy, env)"
   ]
  },
  {
   "cell_type": "code",
   "execution_count": 40,
   "metadata": {},
   "outputs": [
    {
     "name": "stdout",
     "output_type": "stream",
     "text": [
      "Reshaped Grid Value Function:\n",
      "[[-990 -920 -780 -572 -305 -180 -414 -823 -1.24e+03 -1.68e+03 -1.98e+03 -2.25e+03 -2.45e+03 -2.55e+03 -2.6e+03 -2.61e+03 -2.61e+03\n",
      "  -2.62e+03 -2.62e+03 -2.61e+03]\n",
      " [-1.06e+03 -986 -844 -628 -339 -189 -416 -809 -1.23e+03 -1.82e+03 -1.82e+03 -2e+03 -2.16e+03 -2.32e+03 -2.44e+03 -2.53e+03 -2.59e+03\n",
      "  -2.62e+03 -2.64e+03 -2.63e+03]\n",
      " [-1.19e+03 -1.12e+03 -978 -753 -432 -215 -436 -775 -1.05e+03 -1.28e+03 -1.36e+03 -1.49e+03 -1.66e+03 -1.92e+03 -2.23e+03 -2.47e+03\n",
      "  -2.6e+03 -2.65e+03 -2.68e+03 -2.66e+03]\n",
      " [-1.38e+03 -1.32e+03 -1.19e+03 -980 -634 -524 -552 -803 -909 -898 -770 -812 -990 -1.48e+03 -2.1e+03 -2.54e+03 -2.66e+03 -2.69e+03\n",
      "  -2.69e+03 -2.71e+03]\n",
      " [-1.64e+03 -1.59e+03 -1.49e+03 -1.34e+03 -1.13e+03 -908 -964 -973 -882 -628 -445 -256 -499 -909 -2.15e+03 -2.15e+03 -2.32e+03 -2.45e+03\n",
      "  -2.58e+03 -2.6e+03]\n",
      " [-1.93e+03 -1.9e+03 -1.84e+03 -1.75e+03 -1.64e+03 -1.53e+03 -1.42e+03 -1.24e+03 -1.01e+03 -728 -381 -208 -94.9 -531 -1.12e+03 -1.6e+03\n",
      "  -1.9e+03 -2.12e+03 -2.27e+03 -2.33e+03]\n",
      " [-2.26e+03 -2.25e+03 -2.22e+03 -2.17e+03 -2.17e+03 -2.05e+03 -1.85e+03 -1.54e+03 -1.2e+03 -886 -584 -353 -170 -223 -722 -1.21e+03\n",
      "  -1.55e+03 -1.78e+03 -1.94e+03 -2.02e+03]\n",
      " [-2.59e+03 -2.61e+03 -2.64e+03 -2.64e+03 -2.6e+03 -2.46e+03 -2.16e+03 -1.77e+03 -1.37e+03 -1.02e+03 -712 -458 -228 -196 -553 -987\n",
      "  -1.3e+03 -1.54e+03 -1.69e+03 -1.78e+03]\n",
      " [-2.82e+03 -2.88e+03 -2.96e+03 -2.96e+03 -2.92e+03 -2.73e+03 -2.38e+03 -1.91e+03 -1.49e+03 -1.11e+03 -803 -533 -292 -279 -498 -879\n",
      "  -1.17e+03 -1.38e+03 -1.55e+03 -1.63e+03]\n",
      " [-2.87e+03 -2.9e+03 -3.01e+03 -3.1e+03 -3.1e+03 -2.88e+03 -2.49e+03 -2.01e+03 -1.55e+03 -1.16e+03 -849 -597 -405 -323 -560 -854 -1.12e+03\n",
      "  -1.33e+03 -1.48e+03 -1.55e+03]]\n",
      "\n"
     ]
    }
   ],
   "source": [
    "print(\"Reshaped Grid Value Function:\")\n",
    "print(v.reshape(env.shape))\n",
    "print(\"\")"
   ]
  },
  {
   "cell_type": "code",
   "execution_count": null,
   "metadata": {},
   "outputs": [],
   "source": []
  }
 ],
 "metadata": {
  "kernelspec": {
   "display_name": "Python 3",
   "language": "python",
   "name": "python3"
  },
  "language_info": {
   "codemirror_mode": {
    "name": "ipython",
    "version": 3
   },
   "file_extension": ".py",
   "mimetype": "text/x-python",
   "name": "python",
   "nbconvert_exporter": "python",
   "pygments_lexer": "ipython3",
   "version": "3.7.4"
  }
 },
 "nbformat": 4,
 "nbformat_minor": 2
}
