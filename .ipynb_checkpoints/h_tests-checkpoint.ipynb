{
 "cells": [
  {
   "cell_type": "code",
   "execution_count": 1,
   "metadata": {},
   "outputs": [
    {
     "name": "stdout",
     "output_type": "stream",
     "text": [
      "importing Jupyter notebook from i_creation_environnement.ipynb\n"
     ]
    }
   ],
   "source": [
    "import import_ipynb\n",
    "import i_creation_environnement"
   ]
  },
  {
   "cell_type": "code",
   "execution_count": 2,
   "metadata": {},
   "outputs": [
    {
     "name": "stdout",
     "output_type": "stream",
     "text": [
      "🐭 ○ ○ ○ ○█ ○ ○ ○ ○ ○🌊🌊🌊🌊 ○ ○ ○ ○🥕\n",
      "○ ○ ○ ○ ○█ ○ ○🥕⇒🌊🌊🌊🥕🥕 ○ ○ ○ ○🥕\n",
      "○ ○ ○ ○🥕█ ○ ○ ○ ○ ○ ○ ○ ○ ○ ○ ○ ○ ○🥕\n",
      "○ ○ ○ ○ ○█ ○ ○ ○ ○ ○ ○ ○ ○ ○⇒⇒⇒🌊🥕\n",
      "○ ○ ○ ○ ○ ○ ○ ○ ○ ○███ ○⇒ ○ ○🌊🌊🌊\n",
      "○ ○🥕 ○ ○ ○ ○ ○ ○ ○ ○ ○ ○█ ○ ○ ○ ○ ○ ○\n",
      "○ ○ ○⇒ ○🌊🌊 ○ ○ ○ ○ ○ ○█ ○ ○ ○ ○ ○ ○\n",
      "⇒⇒⇒ ○🌊🌊🌊 ○ ○ ○ ○🥕 ○█ ○ ○ ○🧀 ○ ○\n",
      "⇒⇒⇒🌊🌊 ○ ○ ○ ○ ○🥕 ○ ○█ ○ ○ ○ ○ ○ ○\n",
      "○ ○🧀🌊🌊🌊🌊 ○🥕🥕 ○ ○ ○ ○ ○ ○ ○ ○ ○ ○\n",
      "\n"
     ]
    }
   ],
   "source": [
    "env = i_creation_environnement.AugmentedGridworldEnv()\n",
    "env.render()"
   ]
  },
  {
   "cell_type": "code",
   "execution_count": 3,
   "metadata": {},
   "outputs": [
    {
     "name": "stdout",
     "output_type": "stream",
     "text": [
      "○ ○ ○ ○ ○█ ○ ○ ○ ○ ○🌊🌊🌊🌊 ○ ○ ○ ○🥕\n",
      "🐭 ○ ○ ○ ○█ ○ ○🥕⇒🌊🌊🌊🥕🥕 ○ ○ ○ ○🥕\n",
      "○ ○ ○ ○🥕█ ○ ○ ○ ○ ○ ○ ○ ○ ○ ○ ○ ○ ○🥕\n",
      "○ ○ ○ ○ ○█ ○ ○ ○ ○ ○ ○ ○ ○ ○⇒⇒⇒🌊🥕\n",
      "○ ○ ○ ○ ○ ○ ○ ○ ○ ○███ ○⇒ ○ ○🌊🌊🌊\n",
      "○ ○🥕 ○ ○ ○ ○ ○ ○ ○ ○ ○ ○█ ○ ○ ○ ○ ○ ○\n",
      "○ ○ ○⇒ ○🌊🌊 ○ ○ ○ ○ ○ ○█ ○ ○ ○ ○ ○ ○\n",
      "⇒⇒⇒ ○🌊🌊🌊 ○ ○ ○ ○🥕 ○█ ○ ○ ○🧀 ○ ○\n",
      "⇒⇒⇒🌊🌊 ○ ○ ○ ○ ○🥕 ○ ○█ ○ ○ ○ ○ ○ ○\n",
      "○ ○🧀🌊🌊🌊🌊 ○🥕🥕 ○ ○ ○ ○ ○ ○ ○ ○ ○ ○\n",
      "\n"
     ]
    }
   ],
   "source": [
    "env.step(2)\n",
    "env.render()"
   ]
  },
  {
   "cell_type": "code",
   "execution_count": 4,
   "metadata": {},
   "outputs": [
    {
     "name": "stdout",
     "output_type": "stream",
     "text": [
      "○ ○ ○ ○ ○█ ○ ○ ○ ○ ○🌊🌊🌊🌊 ○ ○ ○ ○🥕\n",
      "○ ○ ○ ○ ○█ ○ ○🥕⇒🌊🌊🌊🥕🥕 ○ ○ ○ ○🥕\n",
      "🐭 ○ ○ ○🥕█ ○ ○ ○ ○ ○ ○ ○ ○ ○ ○ ○ ○ ○🥕\n",
      "○ ○ ○ ○ ○█ ○ ○ ○ ○ ○ ○ ○ ○ ○⇒⇒⇒🌊🥕\n",
      "○ ○ ○ ○ ○ ○ ○ ○ ○ ○███ ○⇒ ○ ○🌊🌊🌊\n",
      "○ ○🥕 ○ ○ ○ ○ ○ ○ ○ ○ ○ ○█ ○ ○ ○ ○ ○ ○\n",
      "○ ○ ○⇒ ○🌊🌊 ○ ○ ○ ○ ○ ○█ ○ ○ ○ ○ ○ ○\n",
      "⇒⇒⇒ ○🌊🌊🌊 ○ ○ ○ ○🥕 ○█ ○ ○ ○🧀 ○ ○\n",
      "⇒⇒⇒🌊🌊 ○ ○ ○ ○ ○🥕 ○ ○█ ○ ○ ○ ○ ○ ○\n",
      "○ ○🧀🌊🌊🌊🌊 ○🥕🥕 ○ ○ ○ ○ ○ ○ ○ ○ ○ ○\n",
      "\n"
     ]
    }
   ],
   "source": [
    "env.step(2)\n",
    "env.render()"
   ]
  },
  {
   "cell_type": "code",
   "execution_count": 5,
   "metadata": {},
   "outputs": [
    {
     "name": "stdout",
     "output_type": "stream",
     "text": [
      "○ ○ ○ ○ ○█ ○ ○ ○ ○ ○🌊🌊🌊🌊 ○ ○ ○ ○🥕\n",
      "○ ○ ○ ○ ○█ ○ ○🥕⇒🌊🌊🌊🥕🥕 ○ ○ ○ ○🥕\n",
      "○ ○ ○ ○🥕█ ○ ○ ○ ○ ○ ○ ○ ○ ○ ○ ○ ○ ○🥕\n",
      "🐭 ○ ○ ○ ○█ ○ ○ ○ ○ ○ ○ ○ ○ ○⇒⇒⇒🌊🥕\n",
      "○ ○ ○ ○ ○ ○ ○ ○ ○ ○███ ○⇒ ○ ○🌊🌊🌊\n",
      "○ ○🥕 ○ ○ ○ ○ ○ ○ ○ ○ ○ ○█ ○ ○ ○ ○ ○ ○\n",
      "○ ○ ○⇒ ○🌊🌊 ○ ○ ○ ○ ○ ○█ ○ ○ ○ ○ ○ ○\n",
      "⇒⇒⇒ ○🌊🌊🌊 ○ ○ ○ ○🥕 ○█ ○ ○ ○🧀 ○ ○\n",
      "⇒⇒⇒🌊🌊 ○ ○ ○ ○ ○🥕 ○ ○█ ○ ○ ○ ○ ○ ○\n",
      "○ ○🧀🌊🌊🌊🌊 ○🥕🥕 ○ ○ ○ ○ ○ ○ ○ ○ ○ ○\n",
      "\n"
     ]
    }
   ],
   "source": [
    "env.step(2)\n",
    "env.render()"
   ]
  },
  {
   "cell_type": "code",
   "execution_count": 6,
   "metadata": {},
   "outputs": [
    {
     "name": "stdout",
     "output_type": "stream",
     "text": [
      "○ ○ ○ ○ ○█ ○ ○ ○ ○ ○🌊🌊🌊🌊 ○ ○ ○ ○🥕\n",
      "○ ○ ○ ○ ○█ ○ ○🥕⇒🌊🌊🌊🥕🥕 ○ ○ ○ ○🥕\n",
      "○ ○ ○ ○🥕█ ○ ○ ○ ○ ○ ○ ○ ○ ○ ○ ○ ○ ○🥕\n",
      "○🐭 ○ ○ ○█ ○ ○ ○ ○ ○ ○ ○ ○ ○⇒⇒⇒🌊🥕\n",
      "○ ○ ○ ○ ○ ○ ○ ○ ○ ○███ ○⇒ ○ ○🌊🌊🌊\n",
      "○ ○🥕 ○ ○ ○ ○ ○ ○ ○ ○ ○ ○█ ○ ○ ○ ○ ○ ○\n",
      "○ ○ ○⇒ ○🌊🌊 ○ ○ ○ ○ ○ ○█ ○ ○ ○ ○ ○ ○\n",
      "⇒⇒⇒ ○🌊🌊🌊 ○ ○ ○ ○🥕 ○█ ○ ○ ○🧀 ○ ○\n",
      "⇒⇒⇒🌊🌊 ○ ○ ○ ○ ○🥕 ○ ○█ ○ ○ ○ ○ ○ ○\n",
      "○ ○🧀🌊🌊🌊🌊 ○🥕🥕 ○ ○ ○ ○ ○ ○ ○ ○ ○ ○\n",
      "\n"
     ]
    }
   ],
   "source": [
    "env.step(1)\n",
    "env.render()"
   ]
  },
  {
   "cell_type": "code",
   "execution_count": 7,
   "metadata": {},
   "outputs": [
    {
     "name": "stdout",
     "output_type": "stream",
     "text": [
      "○ ○ ○ ○ ○█ ○ ○ ○ ○ ○🌊🌊🌊🌊 ○ ○ ○ ○🥕\n",
      "○ ○ ○ ○ ○█ ○ ○🥕⇒🌊🌊🌊🥕🥕 ○ ○ ○ ○🥕\n",
      "○ ○ ○ ○🥕█ ○ ○ ○ ○ ○ ○ ○ ○ ○ ○ ○ ○ ○🥕\n",
      "○ ○ ○ ○ ○█ ○ ○ ○ ○ ○ ○ ○ ○ ○⇒⇒⇒🌊🥕\n",
      "○🐭 ○ ○ ○ ○ ○ ○ ○ ○███ ○⇒ ○ ○🌊🌊🌊\n",
      "○ ○🥕 ○ ○ ○ ○ ○ ○ ○ ○ ○ ○█ ○ ○ ○ ○ ○ ○\n",
      "○ ○ ○⇒ ○🌊🌊 ○ ○ ○ ○ ○ ○█ ○ ○ ○ ○ ○ ○\n",
      "⇒⇒⇒ ○🌊🌊🌊 ○ ○ ○ ○🥕 ○█ ○ ○ ○🧀 ○ ○\n",
      "⇒⇒⇒🌊🌊 ○ ○ ○ ○ ○🥕 ○ ○█ ○ ○ ○ ○ ○ ○\n",
      "○ ○🧀🌊🌊🌊🌊 ○🥕🥕 ○ ○ ○ ○ ○ ○ ○ ○ ○ ○\n",
      "\n"
     ]
    }
   ],
   "source": [
    "env.step(2)\n",
    "env.render()"
   ]
  },
  {
   "cell_type": "code",
   "execution_count": 8,
   "metadata": {},
   "outputs": [
    {
     "name": "stdout",
     "output_type": "stream",
     "text": [
      "○ ○ ○ ○ ○█ ○ ○ ○ ○ ○🌊🌊🌊🌊 ○ ○ ○ ○🥕\n",
      "○ ○ ○ ○ ○█ ○ ○🥕⇒🌊🌊🌊🥕🥕 ○ ○ ○ ○🥕\n",
      "○ ○ ○ ○🥕█ ○ ○ ○ ○ ○ ○ ○ ○ ○ ○ ○ ○ ○🥕\n",
      "○ ○ ○ ○ ○█ ○ ○ ○ ○ ○ ○ ○ ○ ○⇒⇒⇒🌊🥕\n",
      "○ ○ ○ ○ ○ ○ ○ ○ ○ ○███ ○⇒ ○ ○🌊🌊🌊\n",
      "○🐭🥕 ○ ○ ○ ○ ○ ○ ○ ○ ○ ○█ ○ ○ ○ ○ ○ ○\n",
      "○ ○ ○⇒ ○🌊🌊 ○ ○ ○ ○ ○ ○█ ○ ○ ○ ○ ○ ○\n",
      "⇒⇒⇒ ○🌊🌊🌊 ○ ○ ○ ○🥕 ○█ ○ ○ ○🧀 ○ ○\n",
      "⇒⇒⇒🌊🌊 ○ ○ ○ ○ ○🥕 ○ ○█ ○ ○ ○ ○ ○ ○\n",
      "○ ○🧀🌊🌊🌊🌊 ○🥕🥕 ○ ○ ○ ○ ○ ○ ○ ○ ○ ○\n",
      "\n"
     ]
    }
   ],
   "source": [
    "env.step(2)\n",
    "env.render()"
   ]
  },
  {
   "cell_type": "code",
   "execution_count": 9,
   "metadata": {},
   "outputs": [
    {
     "name": "stdout",
     "output_type": "stream",
     "text": [
      "○ ○ ○ ○ ○█ ○ ○ ○ ○ ○🌊🌊🌊🌊 ○ ○ ○ ○🥕\n",
      "○ ○ ○ ○ ○█ ○ ○🥕⇒🌊🌊🌊🥕🥕 ○ ○ ○ ○🥕\n",
      "○ ○ ○ ○🥕█ ○ ○ ○ ○ ○ ○ ○ ○ ○ ○ ○ ○ ○🥕\n",
      "○ ○ ○ ○ ○█ ○ ○ ○ ○ ○ ○ ○ ○ ○⇒⇒⇒🌊🥕\n",
      "○ ○ ○ ○ ○ ○ ○ ○ ○ ○███ ○⇒ ○ ○🌊🌊🌊\n",
      "○ ○🐭 ○ ○ ○ ○ ○ ○ ○ ○ ○ ○█ ○ ○ ○ ○ ○ ○\n",
      "○ ○ ○⇒ ○🌊🌊 ○ ○ ○ ○ ○ ○█ ○ ○ ○ ○ ○ ○\n",
      "⇒⇒⇒ ○🌊🌊🌊 ○ ○ ○ ○🥕 ○█ ○ ○ ○🧀 ○ ○\n",
      "⇒⇒⇒🌊🌊 ○ ○ ○ ○ ○🥕 ○ ○█ ○ ○ ○ ○ ○ ○\n",
      "○ ○🧀🌊🌊🌊🌊 ○🥕🥕 ○ ○ ○ ○ ○ ○ ○ ○ ○ ○\n",
      "\n"
     ]
    }
   ],
   "source": [
    "env.step(1)\n",
    "env.render()"
   ]
  },
  {
   "cell_type": "code",
   "execution_count": 10,
   "metadata": {},
   "outputs": [
    {
     "name": "stdout",
     "output_type": "stream",
     "text": [
      "○ ○ ○ ○ ○█ ○ ○ ○ ○ ○🌊🌊🌊🌊 ○ ○ ○ ○🥕\n",
      "○ ○ ○ ○ ○█ ○ ○🥕⇒🌊🌊🌊🥕🥕 ○ ○ ○ ○🥕\n",
      "○ ○ ○ ○🥕█ ○ ○ ○ ○ ○ ○ ○ ○ ○ ○ ○ ○ ○🥕\n",
      "○ ○ ○ ○ ○█ ○ ○ ○ ○ ○ ○ ○ ○ ○⇒⇒⇒🌊🥕\n",
      "○ ○ ○ ○ ○ ○ ○ ○ ○ ○███ ○⇒ ○ ○🌊🌊🌊\n",
      "○ ○ ○ ○ ○ ○ ○ ○ ○ ○ ○ ○ ○█ ○ ○ ○ ○ ○ ○\n",
      "○ ○🐭⇒ ○🌊🌊 ○ ○ ○ ○ ○ ○█ ○ ○ ○ ○ ○ ○\n",
      "⇒⇒⇒ ○🌊🌊🌊 ○ ○ ○ ○🥕 ○█ ○ ○ ○🧀 ○ ○\n",
      "⇒⇒⇒🌊🌊 ○ ○ ○ ○ ○🥕 ○ ○█ ○ ○ ○ ○ ○ ○\n",
      "○ ○🧀🌊🌊🌊🌊 ○🥕🥕 ○ ○ ○ ○ ○ ○ ○ ○ ○ ○\n",
      "\n"
     ]
    }
   ],
   "source": [
    "env.step(2)\n",
    "env.render()"
   ]
  },
  {
   "cell_type": "code",
   "execution_count": 11,
   "metadata": {},
   "outputs": [
    {
     "name": "stdout",
     "output_type": "stream",
     "text": [
      "○ ○ ○ ○ ○█ ○ ○ ○ ○ ○🌊🌊🌊🌊 ○ ○ ○ ○🥕\n",
      "○ ○ ○ ○ ○█ ○ ○🥕⇒🌊🌊🌊🥕🥕 ○ ○ ○ ○🥕\n",
      "○ ○ ○ ○🥕█ ○ ○ ○ ○ ○ ○ ○ ○ ○ ○ ○ ○ ○🥕\n",
      "○ ○ ○ ○ ○█ ○ ○ ○ ○ ○ ○ ○ ○ ○⇒⇒⇒🌊🥕\n",
      "○ ○ ○ ○ ○ ○ ○ ○ ○ ○███ ○⇒ ○ ○🌊🌊🌊\n",
      "○ ○ ○ ○ ○ ○ ○ ○ ○ ○ ○ ○ ○█ ○ ○ ○ ○ ○ ○\n",
      "○ ○ ○⇒ ○🌊🌊 ○ ○ ○ ○ ○ ○█ ○ ○ ○ ○ ○ ○\n",
      "⇒⇒🐭 ○🌊🌊🌊 ○ ○ ○ ○🥕 ○█ ○ ○ ○🧀 ○ ○\n",
      "⇒⇒⇒🌊🌊 ○ ○ ○ ○ ○🥕 ○ ○█ ○ ○ ○ ○ ○ ○\n",
      "○ ○🧀🌊🌊🌊🌊 ○🥕🥕 ○ ○ ○ ○ ○ ○ ○ ○ ○ ○\n",
      "\n"
     ]
    }
   ],
   "source": [
    "env.step(2)\n",
    "env.render()"
   ]
  },
  {
   "cell_type": "code",
   "execution_count": 12,
   "metadata": {},
   "outputs": [
    {
     "data": {
      "text/plain": [
       "(163, -100.0, True, {'prob': 1.0})"
      ]
     },
     "execution_count": 12,
     "metadata": {},
     "output_type": "execute_result"
    }
   ],
   "source": [
    "env.step(2)"
   ]
  },
  {
   "cell_type": "code",
   "execution_count": 13,
   "metadata": {},
   "outputs": [
    {
     "name": "stdout",
     "output_type": "stream",
     "text": [
      "○ ○ ○ ○ ○█ ○ ○ ○ ○ ○🌊🌊🌊🌊 ○ ○ ○ ○🥕\n",
      "○ ○ ○ ○ ○█ ○ ○🥕⇒🌊🌊🌊🥕🥕 ○ ○ ○ ○🥕\n",
      "○ ○ ○ ○🥕█ ○ ○ ○ ○ ○ ○ ○ ○ ○ ○ ○ ○ ○🥕\n",
      "○ ○ ○ ○ ○█ ○ ○ ○ ○ ○ ○ ○ ○ ○⇒⇒⇒🌊🥕\n",
      "○ ○ ○ ○ ○ ○ ○ ○ ○ ○███ ○⇒ ○ ○🌊🌊🌊\n",
      "○ ○ ○ ○ ○ ○ ○ ○ ○ ○ ○ ○ ○█ ○ ○ ○ ○ ○ ○\n",
      "○ ○ ○⇒ ○🌊🌊 ○ ○ ○ ○ ○ ○█ ○ ○ ○ ○ ○ ○\n",
      "⇒⇒⇒ ○🌊🌊🌊 ○ ○ ○ ○🥕 ○█ ○ ○ ○🧀 ○ ○\n",
      "⇒⇒⇒🐭🌊 ○ ○ ○ ○ ○🥕 ○ ○█ ○ ○ ○ ○ ○ ○\n",
      "○ ○🧀🌊🌊🌊🌊 ○🥕🥕 ○ ○ ○ ○ ○ ○ ○ ○ ○ ○\n",
      "\n"
     ]
    }
   ],
   "source": [
    "env.render()"
   ]
  },
  {
   "cell_type": "code",
   "execution_count": 14,
   "metadata": {},
   "outputs": [
    {
     "name": "stdout",
     "output_type": "stream",
     "text": [
      "(array([0, 1, 1, 1, 1, 1, 2, 3, 4, 4, 4, 4, 4, 5, 5, 5, 5, 4, 4],\n",
      "      dtype=int64), array([ 0,  0,  1,  2,  3,  4,  4,  4,  4,  5,  6,  7,  8,  8,  9, 10, 11,\n",
      "       11, 12], dtype=int64))\n"
     ]
    },
    {
     "data": {
      "image/png": "[encoded data removed]",
      "text/plain": [
       "<Figure size 432x288 with 2 Axes>"
      ]
     },
     "metadata": {
      "needs_background": "light"
     },
     "output_type": "display_data"
    }
   ],
   "source": [
    "env.render_trajectory([0,20,21,22,23,24,44,64,84,85,86,87,88,108,109,110,111,91,92,])"
   ]
  },
  {
   "cell_type": "code",
   "execution_count": null,
   "metadata": {},
   "outputs": [],
   "source": [
    "env.step(2)"
   ]
  },
  {
   "cell_type": "code",
   "execution_count": null,
   "metadata": {},
   "outputs": [],
   "source": [
    "env"
   ]
  },
  {
   "cell_type": "code",
   "execution_count": null,
   "metadata": {},
   "outputs": [],
   "source": []
  }
 ],
 "metadata": {
  "kernelspec": {
   "display_name": "Python 3",
   "language": "python",
   "name": "python3"
  },
  "language_info": {
   "codemirror_mode": {
    "name": "ipython",
    "version": 3
   },
   "file_extension": ".py",
   "mimetype": "text/x-python",
   "name": "python",
   "nbconvert_exporter": "python",
   "pygments_lexer": "ipython3",
   "version": "3.7.4"
  }
 },
 "nbformat": 4,
 "nbformat_minor": 2
}
