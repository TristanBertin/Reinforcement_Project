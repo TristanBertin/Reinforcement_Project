{
 "cells": [
  {
   "cell_type": "code",
   "execution_count": 1,
   "metadata": {},
   "outputs": [
    {
     "name": "stdout",
     "output_type": "stream",
     "text": [
      "importing Jupyter notebook from i_creation_environnement.ipynb\n"
     ]
    }
   ],
   "source": [
    "import import_ipynb\n",
    "import i_creation_environnement\n",
    "import numpy as np\n",
    "import matplotlib.pyplot as plt"
   ]
  },
  {
   "cell_type": "code",
   "execution_count": 2,
   "metadata": {},
   "outputs": [],
   "source": [
    "env = i_creation_environnement.AugmentedGridworldEnv()"
   ]
  },
  {
   "cell_type": "markdown",
   "metadata": {},
   "source": [
    "# Value Iteration"
   ]
  },
  {
   "cell_type": "code",
   "execution_count": 3,
   "metadata": {},
   "outputs": [],
   "source": [
    "def value_iteration(env, theta=0.0001, discount_factor=1.0):\n",
    "    \"\"\"\n",
    "    Value Iteration Algorithm.\n",
    "    \n",
    "    Args:\n",
    "        env: OpenAI env. env.P represents the transition probabilities of the environment.\n",
    "            env.P[s][a] is a list of transition tuples (prob, next_state, reward, done).\n",
    "            env.nS is a number of states in the environment. \n",
    "            env.nA is a number of actions in the environment.\n",
    "        theta: We stop evaluation once our value function change is less than theta for all states.\n",
    "        discount_factor: Gamma discount factor.\n",
    "        \n",
    "    Returns:\n",
    "        A tuple (policy, V) of the optimal policy and the optimal value function.\n",
    "    \"\"\"\n",
    "    \n",
    "    def one_step_lookahead(state, V):\n",
    "        \"\"\"\n",
    "        Helper function to calculate the value for all action in a given state.\n",
    "        \n",
    "        Args:\n",
    "            state: The state to consider (int)\n",
    "            V: The value to use as an estimator, Vector of length env.nS\n",
    "        \n",
    "        Returns:\n",
    "            A vector of length env.nA containing the expected value of each action.\n",
    "        \"\"\"\n",
    "        A = np.zeros(env.nA)\n",
    "        for a in range(env.nA):\n",
    "            for prob, next_state, reward, done in env.P[state][a]:\n",
    "                A[a] += prob * (reward + discount_factor * V[next_state])\n",
    "        return A\n",
    "    \n",
    "    V = np.zeros(env.nS)\n",
    "    for i in range(10000):\n",
    "        # Stopping condition\n",
    "        delta = 0\n",
    "        # Update each state...\n",
    "        for s in range(env.nS):\n",
    "            # Do a one-step lookahead to find the best action\n",
    "            A = one_step_lookahead(s, V)\n",
    "            best_action_value = np.max(A)\n",
    "            # Calculate delta across all states seen so far\n",
    "            delta = max(delta, np.abs(best_action_value - V[s]))\n",
    "            # Update the value function. Ref: Sutton book eq. 4.10. \n",
    "            V[s] = best_action_value        \n",
    "        # Check if we can stop \n",
    "        if delta < theta:\n",
    "            print(\"\")\n",
    "            print(\" --------- >       VALUE FUNCTION STABLE\")\n",
    "            break\n",
    "            \n",
    "        if i%30==0:\n",
    "            print(\"Step :\", i, \"     Delta : \", delta)\n",
    "            plt.imshow(V.reshape(env.shape))\n",
    "            plt.show()\n",
    "    \n",
    "    # Create a deterministic policy using the optimal value function\n",
    "    policy = np.zeros([env.nS, env.nA])\n",
    "    for s in range(env.nS):\n",
    "        # One step lookahead to find the best action for this state\n",
    "        A = one_step_lookahead(s, V)\n",
    "        best_action = np.argmax(A)\n",
    "        # Always take the best action\n",
    "        policy[s, best_action] = 1.0\n",
    "    \n",
    "    return policy, V"
   ]
  },
  {
   "cell_type": "code",
   "execution_count": 4,
   "metadata": {},
   "outputs": [
    {
     "name": "stdout",
     "output_type": "stream",
     "text": [
      "Step : 0      Delta :  99.5\n"
     ]
    },
    {
     "data": {
      "image/png": "[encoded data removed]",
      "text/plain": [
       "<Figure size 432x288 with 1 Axes>"
      ]
     },
     "metadata": {
      "needs_background": "light"
     },
     "output_type": "display_data"
    },
    {
     "name": "stdout",
     "output_type": "stream",
     "text": [
      "Step : 30      Delta :  36.98501866941433\n"
     ]
    },
    {
     "data": {
      "image/png": "[encoded data removed]",
      "text/plain": [
       "<Figure size 432x288 with 1 Axes>"
      ]
     },
     "metadata": {
      "needs_background": "light"
     },
     "output_type": "display_data"
    },
    {
     "name": "stdout",
     "output_type": "stream",
     "text": [
      "Step : 60      Delta :  27.357832119538216\n"
     ]
    },
    {
     "data": {
      "image/png": "[encoded data removed]",
      "text/plain": [
       "<Figure size 432x288 with 1 Axes>"
      ]
     },
     "metadata": {
      "needs_background": "light"
     },
     "output_type": "display_data"
    },
    {
     "name": "stdout",
     "output_type": "stream",
     "text": [
      "Step : 90      Delta :  20.236598633916856\n"
     ]
    },
    {
     "data": {
      "image/png": "[encoded data removed]",
      "text/plain": [
       "<Figure size 432x288 with 1 Axes>"
      ]
     },
     "metadata": {
      "needs_background": "light"
     },
     "output_type": "display_data"
    },
    {
     "name": "stdout",
     "output_type": "stream",
     "text": [
      "Step : 120      Delta :  14.96901956561669\n"
     ]
    },
    {
     "data": {
      "image/png": "[encoded data removed]",
      "text/plain": [
       "<Figure size 432x288 with 1 Axes>"
      ]
     },
     "metadata": {
      "needs_background": "light"
     },
     "output_type": "display_data"
    },
    {
     "name": "stdout",
     "output_type": "stream",
     "text": [
      "Step : 150      Delta :  11.072589361943756\n"
     ]
    },
    {
     "data": {
      "image/png": "[encoded data removed]",
      "text/plain": [
       "<Figure size 432x288 with 1 Axes>"
      ]
     },
     "metadata": {
      "needs_background": "light"
     },
     "output_type": "display_data"
    },
    {
     "name": "stdout",
     "output_type": "stream",
     "text": [
      "Step : 180      Delta :  8.190398485404785\n"
     ]
    },
    {
     "data": {
      "image/png": "[encoded data removed]",
      "text/plain": [
       "<Figure size 432x288 with 1 Axes>"
      ]
     },
     "metadata": {
      "needs_background": "light"
     },
     "output_type": "display_data"
    },
    {
     "name": "stdout",
     "output_type": "stream",
     "text": [
      "Step : 210      Delta :  6.058440817853352\n"
     ]
    },
    {
     "data": {
      "image/png": "[encoded data removed]",
      "text/plain": [
       "<Figure size 432x288 with 1 Axes>"
      ]
     },
     "metadata": {
      "needs_background": "light"
     },
     "output_type": "display_data"
    },
    {
     "name": "stdout",
     "output_type": "stream",
     "text": [
      "Step : 240      Delta :  4.481430935117714\n"
     ]
    },
    {
     "data": {
      "image/png": "[encoded data removed]",
      "text/plain": [
       "<Figure size 432x288 with 1 Axes>"
      ]
     },
     "metadata": {
      "needs_background": "light"
     },
     "output_type": "display_data"
    },
    {
     "name": "stdout",
     "output_type": "stream",
     "text": [
      "Step : 270      Delta :  3.3149161360206563\n"
     ]
    },
    {
     "data": {
      "image/png": "[encoded data removed]",
      "text/plain": [
       "<Figure size 432x288 with 1 Axes>"
      ]
     },
     "metadata": {
      "needs_background": "light"
     },
     "output_type": "display_data"
    },
    {
     "name": "stdout",
     "output_type": "stream",
     "text": [
      "Step : 300      Delta :  2.4520447035656616\n"
     ]
    },
    {
     "data": {
      "image/png": "[encoded data removed]",
      "text/plain": [
       "<Figure size 432x288 with 1 Axes>"
      ]
     },
     "metadata": {
      "needs_background": "light"
     },
     "output_type": "display_data"
    },
    {
     "name": "stdout",
     "output_type": "stream",
     "text": [
      "Step : 330      Delta :  1.8137783827924068\n"
     ]
    },
    {
     "data": {
      "image/png": "[encoded data removed]",
      "text/plain": [
       "<Figure size 432x288 with 1 Axes>"
      ]
     },
     "metadata": {
      "needs_background": "light"
     },
     "output_type": "display_data"
    },
    {
     "name": "stdout",
     "output_type": "stream",
     "text": [
      "Step : 360      Delta :  1.3416525469947373\n"
     ]
    },
    {
     "data": {
      "image/png": "[encoded data removed]",
      "text/plain": [
       "<Figure size 432x288 with 1 Axes>"
      ]
     },
     "metadata": {
      "needs_background": "light"
     },
     "output_type": "display_data"
    },
    {
     "name": "stdout",
     "output_type": "stream",
     "text": [
      "Step : 390      Delta :  0.9924208899701625\n"
     ]
    },
    {
     "data": {
      "image/png": "[encoded data removed]",
      "text/plain": [
       "<Figure size 432x288 with 1 Axes>"
      ]
     },
     "metadata": {
      "needs_background": "light"
     },
     "output_type": "display_data"
    },
    {
     "name": "stdout",
     "output_type": "stream",
     "text": [
      "Step : 420      Delta :  0.7340941028696761\n"
     ]
    },
    {
     "data": {
      "image/png": "[encoded data removed]",
      "text/plain": [
       "<Figure size 432x288 with 1 Axes>"
      ]
     },
     "metadata": {
      "needs_background": "light"
     },
     "output_type": "display_data"
    },
    {
     "name": "stdout",
     "output_type": "stream",
     "text": [
      "Step : 450      Delta :  0.5430096819945902\n"
     ]
    },
    {
     "data": {
      "image/png": "[encoded data removed]",
      "text/plain": [
       "<Figure size 432x288 with 1 Axes>"
      ]
     },
     "metadata": {
      "needs_background": "light"
     },
     "output_type": "display_data"
    },
    {
     "name": "stdout",
     "output_type": "stream",
     "text": [
      "Step : 480      Delta :  0.4016644645253109\n"
     ]
    },
    {
     "data": {
      "image/png": "[encoded data removed]",
      "text/plain": [
       "<Figure size 432x288 with 1 Axes>"
      ]
     },
     "metadata": {
      "needs_background": "light"
     },
     "output_type": "display_data"
    },
    {
     "name": "stdout",
     "output_type": "stream",
     "text": [
      "Step : 510      Delta :  0.29711135438628844\n"
     ]
    },
    {
     "data": {
      "image/png": "[encoded data removed]",
      "text/plain": [
       "<Figure size 432x288 with 1 Axes>"
      ]
     },
     "metadata": {
      "needs_background": "light"
     },
     "output_type": "display_data"
    },
    {
     "name": "stdout",
     "output_type": "stream",
     "text": [
      "Step : 540      Delta :  0.21977337977750722\n"
     ]
    },
    {
     "data": {
      "image/png": "[encoded data removed]",
      "text/plain": [
       "<Figure size 432x288 with 1 Axes>"
      ]
     },
     "metadata": {
      "needs_background": "light"
     },
     "output_type": "display_data"
    },
    {
     "name": "stdout",
     "output_type": "stream",
     "text": [
      "Step : 570      Delta :  0.16256645108296652\n"
     ]
    },
    {
     "data": {
      "image/png": "[encoded data removed]",
      "text/plain": [
       "<Figure size 432x288 with 1 Axes>"
      ]
     },
     "metadata": {
      "needs_background": "light"
     },
     "output_type": "display_data"
    },
    {
     "name": "stdout",
     "output_type": "stream",
     "text": [
      "Step : 600      Delta :  0.12025046456619748\n"
     ]
    },
    {
     "data": {
      "image/png": "[encoded data removed]",
      "text/plain": [
       "<Figure size 432x288 with 1 Axes>"
      ]
     },
     "metadata": {
      "needs_background": "light"
     },
     "output_type": "display_data"
    },
    {
     "name": "stdout",
     "output_type": "stream",
     "text": [
      "Step : 630      Delta :  0.08894931354006985\n"
     ]
    },
    {
     "data": {
      "image/png": "[encoded data removed]",
      "text/plain": [
       "<Figure size 432x288 with 1 Axes>"
      ]
     },
     "metadata": {
      "needs_background": "light"
     },
     "output_type": "display_data"
    },
    {
     "name": "stdout",
     "output_type": "stream",
     "text": [
      "Step : 660      Delta :  0.06579584043811337\n"
     ]
    },
    {
     "data": {
      "image/png": "[encoded data removed]",
      "text/plain": [
       "<Figure size 432x288 with 1 Axes>"
      ]
     },
     "metadata": {
      "needs_background": "light"
     },
     "output_type": "display_data"
    },
    {
     "name": "stdout",
     "output_type": "stream",
     "text": [
      "Step : 690      Delta :  0.048669207740204\n"
     ]
    },
    {
     "data": {
      "image/png": "[encoded data removed]",
      "text/plain": [
       "<Figure size 432x288 with 1 Axes>"
      ]
     },
     "metadata": {
      "needs_background": "light"
     },
     "output_type": "display_data"
    },
    {
     "name": "stdout",
     "output_type": "stream",
     "text": [
      "Step : 720      Delta :  0.036000631138449535\n"
     ]
    },
    {
     "data": {
      "image/png": "[encoded data removed]",
      "text/plain": [
       "<Figure size 432x288 with 1 Axes>"
      ]
     },
     "metadata": {
      "needs_background": "light"
     },
     "output_type": "display_data"
    },
    {
     "name": "stdout",
     "output_type": "stream",
     "text": [
      "Step : 750      Delta :  0.026629680295627622\n"
     ]
    },
    {
     "data": {
      "image/png": "[encoded data removed]",
      "text/plain": [
       "<Figure size 432x288 with 1 Axes>"
      ]
     },
     "metadata": {
      "needs_background": "light"
     },
     "output_type": "display_data"
    },
    {
     "name": "stdout",
     "output_type": "stream",
     "text": [
      "Step : 780      Delta :  0.019697984456797712\n"
     ]
    },
    {
     "data": {
      "image/png": "[encoded data removed]",
      "text/plain": [
       "<Figure size 432x288 with 1 Axes>"
      ]
     },
     "metadata": {
      "needs_background": "light"
     },
     "output_type": "display_data"
    },
    {
     "name": "stdout",
     "output_type": "stream",
     "text": [
      "Step : 810      Delta :  0.014570606458619295\n"
     ]
    },
    {
     "data": {
      "image/png": "[encoded data removed]",
      "text/plain": [
       "<Figure size 432x288 with 1 Axes>"
      ]
     },
     "metadata": {
      "needs_background": "light"
     },
     "output_type": "display_data"
    },
    {
     "name": "stdout",
     "output_type": "stream",
     "text": [
      "Step : 840      Delta :  0.01077788303791749\n"
     ]
    },
    {
     "data": {
      "image/png": "[encoded data removed]",
      "text/plain": [
       "<Figure size 432x288 with 1 Axes>"
      ]
     },
     "metadata": {
      "needs_background": "light"
     },
     "output_type": "display_data"
    },
    {
     "name": "stdout",
     "output_type": "stream",
     "text": [
      "Step : 870      Delta :  0.007972404107931652\n"
     ]
    },
    {
     "data": {
      "image/png": "[encoded data removed]",
      "text/plain": [
       "<Figure size 432x288 with 1 Axes>"
      ]
     },
     "metadata": {
      "needs_background": "light"
     },
     "output_type": "display_data"
    },
    {
     "name": "stdout",
     "output_type": "stream",
     "text": [
      "Step : 900      Delta :  0.005897190296309418\n"
     ]
    },
    {
     "data": {
      "image/png": "[encoded data removed]",
      "text/plain": [
       "<Figure size 432x288 with 1 Axes>"
      ]
     },
     "metadata": {
      "needs_background": "light"
     },
     "output_type": "display_data"
    },
    {
     "name": "stdout",
     "output_type": "stream",
     "text": [
      "Step : 930      Delta :  0.004362153864349239\n"
     ]
    },
    {
     "data": {
      "image/png": "[encoded data removed]",
      "text/plain": [
       "<Figure size 432x288 with 1 Axes>"
      ]
     },
     "metadata": {
      "needs_background": "light"
     },
     "output_type": "display_data"
    },
    {
     "name": "stdout",
     "output_type": "stream",
     "text": [
      "Step : 960      Delta :  0.003226686842026538\n"
     ]
    },
    {
     "data": {
      "image/png": "[encoded data removed]",
      "text/plain": [
       "<Figure size 432x288 with 1 Axes>"
      ]
     },
     "metadata": {
      "needs_background": "light"
     },
     "output_type": "display_data"
    },
    {
     "name": "stdout",
     "output_type": "stream",
     "text": [
      "Step : 990      Delta :  0.0023867814634286333\n"
     ]
    },
    {
     "data": {
      "image/png": "[encoded data removed]",
      "text/plain": [
       "<Figure size 432x288 with 1 Axes>"
      ]
     },
     "metadata": {
      "needs_background": "light"
     },
     "output_type": "display_data"
    },
    {
     "name": "stdout",
     "output_type": "stream",
     "text": [
      "Step : 1020      Delta :  0.0017655031388130737\n"
     ]
    },
    {
     "data": {
      "image/png": "[encoded data removed]",
      "text/plain": [
       "<Figure size 432x288 with 1 Axes>"
      ]
     },
     "metadata": {
      "needs_background": "light"
     },
     "output_type": "display_data"
    },
    {
     "name": "stdout",
     "output_type": "stream",
     "text": [
      "Step : 1050      Delta :  0.001305943331317394\n"
     ]
    },
    {
     "data": {
      "image/png": "[encoded data removed]",
      "text/plain": [
       "<Figure size 432x288 with 1 Axes>"
      ]
     },
     "metadata": {
      "needs_background": "light"
     },
     "output_type": "display_data"
    },
    {
     "name": "stdout",
     "output_type": "stream",
     "text": [
      "Step : 1080      Delta :  0.0009660067698860075\n"
     ]
    },
    {
     "data": {
      "image/png": "[encoded data removed]",
      "text/plain": [
       "<Figure size 432x288 with 1 Axes>"
      ]
     },
     "metadata": {
      "needs_background": "light"
     },
     "output_type": "display_data"
    },
    {
     "name": "stdout",
     "output_type": "stream",
     "text": [
      "Step : 1110      Delta :  0.0007145555682654958\n"
     ]
    },
    {
     "data": {
      "image/png": "[encoded data removed]",
      "text/plain": [
       "<Figure size 432x288 with 1 Axes>"
      ]
     },
     "metadata": {
      "needs_background": "light"
     },
     "output_type": "display_data"
    },
    {
     "name": "stdout",
     "output_type": "stream",
     "text": [
      "Step : 1140      Delta :  0.0005285570223350078\n"
     ]
    },
    {
     "data": {
      "image/png": "[encoded data removed]",
      "text/plain": [
       "<Figure size 432x288 with 1 Axes>"
      ]
     },
     "metadata": {
      "needs_background": "light"
     },
     "output_type": "display_data"
    },
    {
     "name": "stdout",
     "output_type": "stream",
     "text": [
      "Step : 1170      Delta :  0.00039097382614272647\n"
     ]
    },
    {
     "data": {
      "image/png": "[encoded data removed]",
      "text/plain": [
       "<Figure size 432x288 with 1 Axes>"
      ]
     },
     "metadata": {
      "needs_background": "light"
     },
     "output_type": "display_data"
    },
    {
     "name": "stdout",
     "output_type": "stream",
     "text": [
      "Step : 1200      Delta :  0.0002892034854085068\n"
     ]
    },
    {
     "data": {
      "image/png": "[encoded data removed]",
      "text/plain": [
       "<Figure size 432x288 with 1 Axes>"
      ]
     },
     "metadata": {
      "needs_background": "light"
     },
     "output_type": "display_data"
    },
    {
     "name": "stdout",
     "output_type": "stream",
     "text": [
      "Step : 1230      Delta :  0.00021392392682173522\n"
     ]
    },
    {
     "data": {
      "image/png": "[encoded data removed]",
      "text/plain": [
       "<Figure size 432x288 with 1 Axes>"
      ]
     },
     "metadata": {
      "needs_background": "light"
     },
     "output_type": "display_data"
    },
    {
     "name": "stdout",
     "output_type": "stream",
     "text": [
      "Step : 1260      Delta :  0.0001582396089361282\n"
     ]
    },
    {
     "data": {
      "image/png": "[encoded data removed]",
      "text/plain": [
       "<Figure size 432x288 with 1 Axes>"
      ]
     },
     "metadata": {
      "needs_background": "light"
     },
     "output_type": "display_data"
    },
    {
     "name": "stdout",
     "output_type": "stream",
     "text": [
      "Step : 1290      Delta :  0.00011704989810823463\n"
     ]
    },
    {
     "data": {
      "image/png": "[encoded data removed]",
      "text/plain": [
       "<Figure size 432x288 with 1 Axes>"
      ]
     },
     "metadata": {
      "needs_background": "light"
     },
     "output_type": "display_data"
    },
    {
     "name": "stdout",
     "output_type": "stream",
     "text": [
      "\n",
      " --------- >       VALUE FUNCTION STABLE\n"
     ]
    }
   ],
   "source": [
    "policy_1, v_1 = value_iteration(env, discount_factor = 0.99)"
   ]
  },
  {
   "cell_type": "markdown",
   "metadata": {},
   "source": [
    "### Final results for Value Iteration"
   ]
  },
  {
   "cell_type": "code",
   "execution_count": 16,
   "metadata": {},
   "outputs": [
    {
     "name": "stdout",
     "output_type": "stream",
     "text": [
      "Value Function:\n"
     ]
    },
    {
     "data": {
      "image/png": "[encoded data removed]",
      "text/plain": [
       "<Figure size 432x288 with 1 Axes>"
      ]
     },
     "metadata": {
      "needs_background": "light"
     },
     "output_type": "display_data"
    },
    {
     "name": "stdout",
     "output_type": "stream",
     "text": [
      "\n",
      "Reshaped Grid Policy (0=up, 1=right, 2=down, 3=left):\n",
      "\n",
      "↓↓↓↓↓←↓↓↓←←←←↓↓↓↓↓↓↓\n",
      "↓↓↓↓↓←↓↓↓↓↓↓↓↓←←←←←←\n",
      "↓↓↓↓↓←↓↓↓↓↓↓↓↓↓←←←←←\n",
      "↓↓↓↓↓↓↓↓↓↓←←←←←↑↑↑↑↑\n",
      "↓↓↓↓↓↓↓↓↓↓↓↓↓↑↑↑↑↓↓↑\n",
      "↓↓↓←←←←←←←←←←←↓↓↓↓↓↓\n",
      "↓←←↑↑↑↑↑↑↑↑↑↑←↓↓↓↓↓↓\n",
      "↓↓↓↓←↓↓↑↑↑↑↑←←↓↓↓↓←←\n",
      "↓↓↓↓↓↓←←←←←←←←↓↓↓↓↓↓\n",
      "→→↓←←←←↑↑↑↑↑↑←←←←←←←\n",
      "\n",
      "\n"
     ]
    }
   ],
   "source": [
    "print(\"Value Function:\")\n",
    "plt.imshow(v_1.reshape(env.shape))\n",
    "plt.show()\n",
    "print(\"\")\n",
    "\n",
    "print(\"Reshaped Grid Policy (0=up, 1=right, 2=down, 3=left):\")\n",
    "print(\"\")\n",
    "env.render_policy(np.reshape(np.argmax(policy_1, axis=1), env.shape))\n",
    "print(\"\")"
   ]
  },
  {
   "cell_type": "code",
   "execution_count": 18,
   "metadata": {},
   "outputs": [
    {
     "data": {
      "image/png": "[encoded data removed]",
      "text/plain": [
       "<Figure size 720x360 with 1 Axes>"
      ]
     },
     "metadata": {
      "needs_background": "light"
     },
     "output_type": "display_data"
    }
   ],
   "source": [
    "env.render_trajectory([0,1,2,3])"
   ]
  },
  {
   "cell_type": "markdown",
   "metadata": {},
   "source": [
    "# Policy Evaluation"
   ]
  },
  {
   "cell_type": "code",
   "execution_count": 6,
   "metadata": {},
   "outputs": [],
   "source": [
    "def policy_eval(policy, env, discount_factor=0.999, theta=0.000001):\n",
    "    \"\"\"\n",
    "    Evaluate a policy given an environment and a full description of the environment's dynamics.\n",
    "    \n",
    "    Args:\n",
    "        policy: [S, A] shaped matrix representing the policy.\n",
    "        env: OpenAI env. env.P represents the transition probabilities of the environment.\n",
    "            env.P[s][a] is a list of transition tuples (prob, next_state, reward, done).\n",
    "            env.nS is a number of states in the environment. \n",
    "            env.nA is a number of actions in the environment.\n",
    "        theta: We stop evaluation once our value function change is less than theta for all states.\n",
    "        discount_factor: Gamma discount factor.\n",
    "    \n",
    "    Returns:\n",
    "        Vector of length env.nS representing the value function.\n",
    "    \"\"\"\n",
    "    \n",
    "    # Start with a random (all 0) value function\n",
    "\n",
    "    V = np.zeros(env.nS)\n",
    "    while True:\n",
    "        delta = 0\n",
    "        # For each state, perform a \"full backup\"\n",
    "        for s in range(env.nS):  # for all the states\n",
    "            v = 0\n",
    "            # Look at the possible next actions\n",
    "            for a, action_prob in enumerate(policy[s]):\n",
    "                \n",
    "                # For each action, look at the possible next states...\n",
    "                for  prob, next_state, reward, done in env.P[s][a]:\n",
    "                    \n",
    "                    # Calculate the expected value. Ref: Sutton book eq. 4.6.\n",
    "                    v += action_prob * prob * (reward + discount_factor * V[next_state])\n",
    "                    \n",
    "            # How much our value function changed (across any states)\n",
    "            delta = max(delta, np.abs(v - V[s]))\n",
    "            V[s] = v\n",
    "            \n",
    "        # Stop evaluating once our value function change is below a threshold\n",
    "        #print(delta)\n",
    "        if delta < theta:\n",
    "            break\n",
    "    return np.array(V), delta"
   ]
  },
  {
   "cell_type": "code",
   "execution_count": 7,
   "metadata": {},
   "outputs": [],
   "source": [
    "random_policy = np.ones([env.nS, env.nA]) / env.nA\n",
    "v, delta = policy_eval(random_policy, env, 1)"
   ]
  },
  {
   "cell_type": "code",
   "execution_count": 8,
   "metadata": {},
   "outputs": [
    {
     "name": "stdout",
     "output_type": "stream",
     "text": [
      "Reshaped Grid Value Function:\n",
      "[[-998 -928 -787 -578 -308 -181 -415 -825 -1.24e+03 -1.68e+03 -1.98e+03 -2.25e+03 -2.45e+03 -2.55e+03 -2.6e+03 -2.61e+03 -2.61e+03\n",
      "  -2.62e+03 -2.62e+03 -2.61e+03]\n",
      " [-1.06e+03 -994 -852 -634 -342 -190 -417 -812 -1.23e+03 -1.82e+03 -1.82e+03 -2e+03 -2.16e+03 -2.32e+03 -2.44e+03 -2.53e+03 -2.59e+03\n",
      "  -2.63e+03 -2.64e+03 -2.63e+03]\n",
      " [-1.2e+03 -1.13e+03 -987 -760 -436 -216 -439 -779 -1.05e+03 -1.29e+03 -1.37e+03 -1.49e+03 -1.67e+03 -1.92e+03 -2.23e+03 -2.47e+03\n",
      "  -2.6e+03 -2.65e+03 -2.68e+03 -2.67e+03]\n",
      " [-1.4e+03 -1.33e+03 -1.2e+03 -989 -640 -529 -556 -809 -914 -902 -771 -813 -991 -1.48e+03 -2.1e+03 -2.54e+03 -2.67e+03 -2.69e+03 -2.69e+03\n",
      "  -2.71e+03]\n",
      " [-1.65e+03 -1.6e+03 -1.5e+03 -1.35e+03 -1.14e+03 -917 -974 -983 -891 -634 -449 -257 -500 -909 -2.15e+03 -2.15e+03 -2.32e+03 -2.45e+03\n",
      "  -2.58e+03 -2.61e+03]\n",
      " [-1.95e+03 -1.92e+03 -1.86e+03 -1.76e+03 -1.66e+03 -1.55e+03 -1.44e+03 -1.25e+03 -1.03e+03 -740 -389 -213 -97.5 -532 -1.12e+03 -1.6e+03\n",
      "  -1.9e+03 -2.13e+03 -2.27e+03 -2.33e+03]\n",
      " [-2.28e+03 -2.27e+03 -2.24e+03 -2.19e+03 -2.19e+03 -2.07e+03 -1.87e+03 -1.56e+03 -1.23e+03 -906 -599 -363 -175 -225 -722 -1.22e+03\n",
      "  -1.55e+03 -1.78e+03 -1.94e+03 -2.02e+03]\n",
      " [-2.62e+03 -2.63e+03 -2.66e+03 -2.66e+03 -2.62e+03 -2.49e+03 -2.19e+03 -1.8e+03 -1.4e+03 -1.05e+03 -735 -473 -236 -198 -553 -988 -1.3e+03\n",
      "  -1.54e+03 -1.69e+03 -1.78e+03]\n",
      " [-2.85e+03 -2.91e+03 -2.98e+03 -2.98e+03 -2.95e+03 -2.76e+03 -2.41e+03 -1.95e+03 -1.53e+03 -1.16e+03 -835 -554 -303 -284 -500 -880\n",
      "  -1.17e+03 -1.39e+03 -1.55e+03 -1.63e+03]\n",
      " [-2.89e+03 -2.93e+03 -3.03e+03 -3.13e+03 -3.13e+03 -2.91e+03 -2.53e+03 -2.06e+03 -1.61e+03 -1.22e+03 -890 -622 -419 -328 -563 -856\n",
      "  -1.12e+03 -1.33e+03 -1.48e+03 -1.56e+03]]\n"
     ]
    }
   ],
   "source": [
    "print(\"Reshaped Grid Value Function:\")\n",
    "vv = v.reshape(env.shape)\n",
    "\n",
    "np.set_printoptions( threshold=20, edgeitems=10, linewidth=140,formatter = dict( float = lambda x: \"%.3g\" % x )) \n",
    "\n",
    "print(np.around(vv, 1))"
   ]
  },
  {
   "cell_type": "code",
   "execution_count": 9,
   "metadata": {},
   "outputs": [
    {
     "data": {
      "text/plain": [
       "<matplotlib.image.AxesImage at 0x24d8c5586c8>"
      ]
     },
     "execution_count": 9,
     "metadata": {},
     "output_type": "execute_result"
    },
    {
     "data": {
      "image/png": "[encoded data removed]",
      "text/plain": [
       "<Figure size 432x288 with 1 Axes>"
      ]
     },
     "metadata": {
      "needs_background": "light"
     },
     "output_type": "display_data"
    }
   ],
   "source": [
    "plt.imshow(vv)"
   ]
  },
  {
   "cell_type": "markdown",
   "metadata": {},
   "source": [
    "# Policy Iteration"
   ]
  },
  {
   "cell_type": "code",
   "execution_count": 10,
   "metadata": {},
   "outputs": [],
   "source": [
    "def policy_improvement(env, policy_eval_fn=policy_eval, discount_factor=1):\n",
    "    \"\"\"\n",
    "    Policy Improvement Algorithm. Iteratively evaluates and improves a policy\n",
    "    until an optimal policy is found.\n",
    "    \n",
    "    Args:\n",
    "        env: The OpenAI environment.\n",
    "        policy_eval_fn: Policy Evaluation function that takes 3 arguments:\n",
    "            policy, env, discount_factor.\n",
    "        discount_factor: gamma discount factor.\n",
    "        \n",
    "    Returns:\n",
    "        A tuple (policy, V). \n",
    "        policy is the optimal policy, a matrix of shape [S, A] where each state s\n",
    "        contains a valid probability distribution over actions.\n",
    "        V is the value function for the optimal policy.\n",
    "        \n",
    "    \"\"\"\n",
    "    \n",
    "    \n",
    "\n",
    "    def one_step_lookahead(state, V):\n",
    "        \"\"\"\n",
    "        Helper function to calculate the value for all action in a given state.\n",
    "        \n",
    "        Args:\n",
    "            state: The state to consider (int)\n",
    "            V: The value to use as an estimator, Vector of length env.nS\n",
    "        \n",
    "        Returns:\n",
    "            A vector of length env.nA containing the expected value of each action.\n",
    "        \"\"\"\n",
    "        A = np.zeros(env.nA)\n",
    "        for a in range(env.nA):\n",
    "            for prob, next_state, reward, done in env.P[state][a]:\n",
    "                A[a] += prob * (reward + discount_factor * V[next_state])\n",
    "        return A\n",
    "    \n",
    "    # Start with a random policy\n",
    "    policy = np.ones([env.nS, env.nA]) / env.nA\n",
    "    ancient_V = np.zeros(env.nS)\n",
    "\n",
    "    #while True:\n",
    "    for i in range(30):\n",
    "        \n",
    "        # Evaluate the current policy\n",
    "        V, delta = policy_eval_fn(policy, env, discount_factor)\n",
    "        print(\"###############################    STEP  : \", i, \"   ##############################\")\n",
    "        # Will be set to false if we make any changes to the policy\n",
    "        policy_stable = True\n",
    "        \n",
    "        # For each state...\n",
    "        for s in range(env.nS):\n",
    "            # The best action we would take under the current policy\n",
    "            chosen_a = np.argmax(policy[s])\n",
    "            \n",
    "            # Find the best action by one-step lookahead\n",
    "            # Ties are resolved arbitarily\n",
    "            action_values = one_step_lookahead(s, V)\n",
    "            best_a = np.argmax(action_values)\n",
    "            \n",
    "            # Greedily update the policy\n",
    "            if chosen_a != best_a:\n",
    "                policy_stable = False\n",
    "            policy[s] = np.eye(env.nA)[best_a]\n",
    "        \n",
    "        # If the policy is stable we've found an optimal policy. Return it\n",
    "        if policy_stable :\n",
    "            print(\"\")\n",
    "            print(\"----------> STABLE POLICY\")\n",
    "            return policy, V\n",
    "        \n",
    "        print(\"\")\n",
    "        print(\"CURRENT POLICY\")\n",
    "        env.render_policy(np.reshape(np.argmax(policy, axis=1), env.shape))\n",
    "        print(\"\")\n",
    "        \n",
    "        print(\"DIFFERENCES WITH PREVIOUS VALUE FUNCTION\")\n",
    "        plt.imshow(np.reshape(V - ancient_V, env.shape))\n",
    "        plt.show()\n",
    "        print(\"\")\n",
    "        \n",
    "        print(\"CURRENT VALUE FUNCTION\")\n",
    "        plt.imshow(np.reshape(V, env.shape))\n",
    "        plt.show()\n",
    "        print(\"\")\n",
    "        print(\"\")\n",
    "        \n",
    "    \n",
    "        ancient_V = V\n",
    "        \n",
    "        #rint(np.reshape(np.argmax(policy, axis=1), env.shape))\n",
    "        #rint(V.reshape(env.shape))\n",
    "        \n",
    "    return policy, V"
   ]
  },
  {
   "cell_type": "code",
   "execution_count": 11,
   "metadata": {},
   "outputs": [
    {
     "name": "stdout",
     "output_type": "stream",
     "text": [
      "###############################    STEP  :  0    ##############################\n",
      "\n",
      "CURRENT POLICY\n",
      "→→→→→↑←←←←←←↓↓↓→→→→↑\n",
      "↑→→→→↑←←←↓↓↓↓↓↓↓→→→↑\n",
      "↑↑→→→↑←←←↓↓↓↓↓↓←←↑↑↑\n",
      "↑↑↑→→↑←←←↓↓↓↓↓←↓↑↑↑↑\n",
      "↑↑↑↑↑↑↑↑→→→→←↓↓↓↓↓↓↓\n",
      "↑↑↑↑↑↑↑↑→→↑↑↑↓←←↓↓↓↓\n",
      "↑↑↑↑↑↑↑→→→→→→↑←←↓↓↓↓\n",
      "↑↑↑↑↑↑→→→→→→→↑←←←↓←↓\n",
      "↑↑↑↑↑→→→→→→→→↑←←←←←↓\n",
      "↓←←←→→→→→→→→→↑←←←←←←\n",
      "\n",
      "\n",
      "DIFFERENCES WITH PREVIOUS VALUE FUNCTION\n"
     ]
    },
    {
     "data": {
      "image/png": "[encoded data removed]",
      "text/plain": [
       "<Figure size 432x288 with 1 Axes>"
      ]
     },
     "metadata": {
      "needs_background": "light"
     },
     "output_type": "display_data"
    },
    {
     "name": "stdout",
     "output_type": "stream",
     "text": [
      "\n",
      "CURRENT VALUE FUNCTION\n"
     ]
    },
    {
     "data": {
      "image/png": "[encoded data removed]",
      "text/plain": [
       "<Figure size 432x288 with 1 Axes>"
      ]
     },
     "metadata": {
      "needs_background": "light"
     },
     "output_type": "display_data"
    },
    {
     "name": "stdout",
     "output_type": "stream",
     "text": [
      "\n",
      "\n",
      "###############################    STEP  :  1    ##############################\n",
      "\n",
      "CURRENT POLICY\n",
      "→→→→→↑←←↓↓←←→↓→→→→→↓\n",
      "→→↓↓↓↑←→←↓↓↓→→←→→→→↓\n",
      "→→→→←←←←↑→↓↓↓↑↑←→→→↓\n",
      "→→↑↑↑↑←←→→↓↓↓↓←→↑→→→\n",
      "→→↓←↑↑↑↑→→→→←↓↓↓↑↑↑↑\n",
      "→→↓←↑↑↑↑↑↑↑↑↑↓←←→↓↓←\n",
      "→→↑↑↑↑↑↓↓↓↓↓→↑←←→↓↓←\n",
      "→↑↑↑↑↓→→→→→←←↑←←→↑←←\n",
      "↑↑↑↑→→→→→→↑↑→↑←←←↑↑←\n",
      "↑↑↑←←↑↑↑↑↑↑↑↑↑↑↑↑↑↑←\n",
      "\n",
      "\n",
      "DIFFERENCES WITH PREVIOUS VALUE FUNCTION\n"
     ]
    },
    {
     "data": {
      "image/png": "[encoded data removed]",
      "text/plain": [
       "<Figure size 432x288 with 1 Axes>"
      ]
     },
     "metadata": {
      "needs_background": "light"
     },
     "output_type": "display_data"
    },
    {
     "name": "stdout",
     "output_type": "stream",
     "text": [
      "\n",
      "CURRENT VALUE FUNCTION\n"
     ]
    },
    {
     "data": {
      "image/png": "[encoded data removed]",
      "text/plain": [
       "<Figure size 432x288 with 1 Axes>"
      ]
     },
     "metadata": {
      "needs_background": "light"
     },
     "output_type": "display_data"
    },
    {
     "name": "stdout",
     "output_type": "stream",
     "text": [
      "\n",
      "\n",
      "###############################    STEP  :  2    ##############################\n",
      "\n",
      "CURRENT POLICY\n",
      "↓↓↓↓↓↑←→↓←←→→↓↓→→→→↑\n",
      "→→→→↓←→→↓↓↓→→→←←→→→↑\n",
      "→→→→↓←←→↑←↓↓→↑↑←←→→↑\n",
      "↓↓↓→↑←←←↑→↓↓↓↑↑→↑→→↑\n",
      "→→↓↓↑←↑↑→→→→←↓↑↑↓↓↓↓\n",
      "→→→←←←↑↓↓↓↓↓↑↓←→→↓↓↓\n",
      "→→↑↑↑←→→→→→↓↓↑←→→↓↓↓\n",
      "↑↑↑↑↑↓→→→→→→←←←→→↑←←\n",
      "↑↓↑↑→→→→→→→↑↑↑←←↑↑↑↑\n",
      "↑→↓←←↑→→→→↑↑←↑↑↑→↑↑↑\n",
      "\n",
      "\n",
      "DIFFERENCES WITH PREVIOUS VALUE FUNCTION\n"
     ]
    },
    {
     "data": {
      "image/png": "[encoded data removed]",
      "text/plain": [
       "<Figure size 432x288 with 1 Axes>"
      ]
     },
     "metadata": {
      "needs_background": "light"
     },
     "output_type": "display_data"
    },
    {
     "name": "stdout",
     "output_type": "stream",
     "text": [
      "\n",
      "CURRENT VALUE FUNCTION\n"
     ]
    },
    {
     "data": {
      "image/png": "[encoded data removed]",
      "text/plain": [
       "<Figure size 432x288 with 1 Axes>"
      ]
     },
     "metadata": {
      "needs_background": "light"
     },
     "output_type": "display_data"
    },
    {
     "name": "stdout",
     "output_type": "stream",
     "text": [
      "\n",
      "\n",
      "###############################    STEP  :  3    ##############################\n",
      "\n",
      "CURRENT POLICY\n",
      "→→→→↓←→→↓←→→→↓↓↓→→→↓\n",
      "→→→→↓←→→↑→→→→→←←←→→↓\n",
      "→→→→↑←↑↑↑←←→→↑↑↑←↓→↓\n",
      "→→↓↑↑←←↑↑↑↓↓↑↑↑↓↓↓↓↓\n",
      "→→↓↓↑←←↓↑↓↓↓←↑→→↓↓↓↓\n",
      "→→↑←←←←→→→→↓↓↓→→→↓↓↓\n",
      "↑↑↑↑↑↑→→→→→↓↓←→→→↓↓↓\n",
      "↓↑↑↑↑↓→→→→→↑←←→→→↑←←\n",
      "↓↓↓↓↓→→→→→↑↑↑←←↑↑↑↑↑\n",
      "→→↓←←←↑↑↑↑↑↑↑←↑→↑↑↑↑\n",
      "\n",
      "\n",
      "DIFFERENCES WITH PREVIOUS VALUE FUNCTION\n"
     ]
    },
    {
     "data": {
      "image/png": "[encoded data removed]",
      "text/plain": [
       "<Figure size 432x288 with 1 Axes>"
      ]
     },
     "metadata": {
      "needs_background": "light"
     },
     "output_type": "display_data"
    },
    {
     "name": "stdout",
     "output_type": "stream",
     "text": [
      "\n",
      "CURRENT VALUE FUNCTION\n"
     ]
    },
    {
     "data": {
      "image/png": "[encoded data removed]",
      "text/plain": [
       "<Figure size 432x288 with 1 Axes>"
      ]
     },
     "metadata": {
      "needs_background": "light"
     },
     "output_type": "display_data"
    },
    {
     "name": "stdout",
     "output_type": "stream",
     "text": [
      "\n",
      "\n",
      "###############################    STEP  :  4    ##############################\n",
      "\n",
      "CURRENT POLICY\n",
      "→→→→↓←→→↓↓→→→↓↓→→→→↓\n",
      "→→→→↓←→→→→→↓→→←←→↓→↓\n",
      "→→→→↑←↑↑↑↑→→→↑↑↓↓↓←↓\n",
      "→→↓↑↑←↑↑↑↑↑↑↑↑→↓↓↓↓↓\n",
      "→→↓↓↑←←↑↑↑↓↓↑→→→↓↓↓↓\n",
      "→→↑←←←←←↑→→↓↓→→→→↓↓↓\n",
      "↓↑↑↑↑↑↑→→→→↓↓→→→→↓↓↓\n",
      "↓↓↓↓↓↓→→→→→↑←→→→→↑←←\n",
      "↓↓↓↓↓↓→→→→↑↑↑←↑↑↑↑↑↑\n",
      "→→↓←←←←↑↑↑↑↑↑←→↑↑↑↑↑\n",
      "\n",
      "\n",
      "DIFFERENCES WITH PREVIOUS VALUE FUNCTION\n"
     ]
    },
    {
     "data": {
      "image/png": "[encoded data removed]",
      "text/plain": [
       "<Figure size 432x288 with 1 Axes>"
      ]
     },
     "metadata": {
      "needs_background": "light"
     },
     "output_type": "display_data"
    },
    {
     "name": "stdout",
     "output_type": "stream",
     "text": [
      "\n",
      "CURRENT VALUE FUNCTION\n"
     ]
    },
    {
     "data": {
      "image/png": "[encoded data removed]",
      "text/plain": [
       "<Figure size 432x288 with 1 Axes>"
      ]
     },
     "metadata": {
      "needs_background": "light"
     },
     "output_type": "display_data"
    },
    {
     "name": "stdout",
     "output_type": "stream",
     "text": [
      "\n",
      "\n",
      "###############################    STEP  :  5    ##############################\n",
      "\n",
      "CURRENT POLICY\n",
      "→→→→↓→→→↓↓←↓→↓→→↓↓→↓\n",
      "→→→→↓→→→→↓↓↓→→←↓↓↓→↓\n",
      "→→→→↑→↑↑↑→→→→↑→↓←←←↓\n",
      "→→↓↑↑→↑↑↑→↑↑↑→→↓↓↓↓↓\n",
      "→→↓↓↑←↑↑↑↑↑↑→→→→↓↓↓↓\n",
      "↓→↑←←←←↑↑↑→↓↓→→→→↓↓↓\n",
      "↓←↓↓↓↓↑→↑→→↓↓→→→→↓↓↓\n",
      "↓↓↓↓←↓←→→→→↑←→→→→↑←←\n",
      "↓↓↓↓↓↓←→→→↑↑↑→↑↑↑↑↑↑\n",
      "→→↓←←←←←↑↑↑↑↑→↑↑↑↑↑↑\n",
      "\n",
      "\n",
      "DIFFERENCES WITH PREVIOUS VALUE FUNCTION\n"
     ]
    },
    {
     "data": {
      "image/png": "[encoded data removed]",
      "text/plain": [
       "<Figure size 432x288 with 1 Axes>"
      ]
     },
     "metadata": {
      "needs_background": "light"
     },
     "output_type": "display_data"
    },
    {
     "name": "stdout",
     "output_type": "stream",
     "text": [
      "\n",
      "CURRENT VALUE FUNCTION\n"
     ]
    },
    {
     "data": {
      "image/png": "[encoded data removed]",
      "text/plain": [
       "<Figure size 432x288 with 1 Axes>"
      ]
     },
     "metadata": {
      "needs_background": "light"
     },
     "output_type": "display_data"
    },
    {
     "name": "stdout",
     "output_type": "stream",
     "text": [
      "\n",
      "\n",
      "###############################    STEP  :  6    ##############################\n",
      "\n",
      "CURRENT POLICY\n",
      "→→→→↓→→→↓↓←←→→→↓↓↓←↓\n",
      "→→→→↓→→→→↓↓↓→→→↓↓↓↓↓\n",
      "→→→→↑→↑↑↑→→→→→→↓←←←←\n",
      "→→↓↑↑→↑↑↑↑↑↑→→→↓↓↓↓↓\n",
      "↓→↓↓↑→↑↑↑↑↑↑→→→→↓↓↓↓\n",
      "↓↓↓↓↓↓↑↑↑↑←↓↓→→→→↓↓↓\n",
      "↓←←↓↓←↓↑↑↑→↓↓→→→→↓↓↓\n",
      "↓↓↓↓←↓↓←↑→→↑←→→→→↑←←\n",
      "↓↓↓↓↓↓←←→→↑↑↑→↑↑↑↑↑↑\n",
      "→→↓←←←←←←↑↑↑→→↑↑↑↑↑↑\n",
      "\n",
      "\n",
      "DIFFERENCES WITH PREVIOUS VALUE FUNCTION\n"
     ]
    },
    {
     "data": {
      "image/png": "[encoded data removed]",
      "text/plain": [
       "<Figure size 432x288 with 1 Axes>"
      ]
     },
     "metadata": {
      "needs_background": "light"
     },
     "output_type": "display_data"
    },
    {
     "name": "stdout",
     "output_type": "stream",
     "text": [
      "\n",
      "CURRENT VALUE FUNCTION\n"
     ]
    },
    {
     "data": {
      "image/png": "[encoded data removed]",
      "text/plain": [
       "<Figure size 432x288 with 1 Axes>"
      ]
     },
     "metadata": {
      "needs_background": "light"
     },
     "output_type": "display_data"
    },
    {
     "name": "stdout",
     "output_type": "stream",
     "text": [
      "\n",
      "\n",
      "###############################    STEP  :  7    ##############################\n",
      "\n",
      "CURRENT POLICY\n",
      "→→→→↓→→→↓↓←←↓↓↓↓↓↓↓↓\n",
      "→→→→↓→→→→↓↓↓→→→↓↓↓↓↓\n",
      "↓↓↓→↑→↑↑→→→→→→→↓←←←←\n",
      "↓→↓←↑→↑↑→↑↑→→→→↓↓↓↓↓\n",
      "↓↓↓←↓↓↑↑→↑↑↑→→→→↓↓↓↓\n",
      "↓↓↓←↓←←↑→↑←←↓→→→→↓↓↓\n",
      "↓←←↓↓←↓↓→↑↑↓↓→→→→↓↓↓\n",
      "↓↓↓↓←↓↓↓←↑→↑←→→→→↑←←\n",
      "↓↓↓↓↓↓←←←→↑↑↓→↑↑↑↑↑↑\n",
      "→→↓←←←←↑←←↑→→→↑↑↑↑↑↑\n",
      "\n",
      "\n",
      "DIFFERENCES WITH PREVIOUS VALUE FUNCTION\n"
     ]
    },
    {
     "data": {
      "image/png": "[encoded data removed]",
      "text/plain": [
       "<Figure size 432x288 with 1 Axes>"
      ]
     },
     "metadata": {
      "needs_background": "light"
     },
     "output_type": "display_data"
    },
    {
     "name": "stdout",
     "output_type": "stream",
     "text": [
      "\n",
      "CURRENT VALUE FUNCTION\n"
     ]
    },
    {
     "data": {
      "image/png": "[encoded data removed]",
      "text/plain": [
       "<Figure size 432x288 with 1 Axes>"
      ]
     },
     "metadata": {
      "needs_background": "light"
     },
     "output_type": "display_data"
    },
    {
     "name": "stdout",
     "output_type": "stream",
     "text": [
      "\n",
      "\n",
      "###############################    STEP  :  8    ##############################\n",
      "\n",
      "CURRENT POLICY\n",
      "→→→→↓→→→↓↓←←→↓↓↓↓↓↓↓\n",
      "↓↓↓→↓→→→→↓↓↓→→→↓↓↓↓↓\n",
      "↓←↓↓↑→↑→→→→→→→→↓←←←←\n",
      "↓↓↓↓←↓↑→↑↑→→→→→↓↓↓↓↓\n",
      "↓↓↓↓←↓↓→↑↑↑↑→→→→↓↓↓↓\n",
      "↓↓↓←←←←↓↑↑←←←→→→→↓↓↓\n",
      "↓←←↓↓←→↓↓↑↑↑↓→→→→↓↓↓\n",
      "↓↓↓↓←↓↓↓↓←↑↑↓→→→→↑←←\n",
      "↓↓↓↓↓↓←←←←↑→↓→↑↑↑↑↑↑\n",
      "→→↓←←←←↑↑←←→→→↑↑↑↑↑↑\n",
      "\n",
      "\n",
      "DIFFERENCES WITH PREVIOUS VALUE FUNCTION\n"
     ]
    },
    {
     "data": {
      "image/png": "[encoded data removed]",
      "text/plain": [
       "<Figure size 432x288 with 1 Axes>"
      ]
     },
     "metadata": {
      "needs_background": "light"
     },
     "output_type": "display_data"
    },
    {
     "name": "stdout",
     "output_type": "stream",
     "text": [
      "\n",
      "CURRENT VALUE FUNCTION\n"
     ]
    },
    {
     "data": {
      "image/png": "[encoded data removed]",
      "text/plain": [
       "<Figure size 432x288 with 1 Axes>"
      ]
     },
     "metadata": {
      "needs_background": "light"
     },
     "output_type": "display_data"
    },
    {
     "name": "stdout",
     "output_type": "stream",
     "text": [
      "\n",
      "\n",
      "###############################    STEP  :  9    ##############################\n",
      "\n",
      "CURRENT POLICY\n",
      "↓↓↓→↓→→→↓↓←←→↓↓↓↓↓↓↓\n",
      "↓↓↓↓↓→→→→↓↓↓→→→↓↓↓↓↓\n",
      "↓↓↓↓↓→→→→→→→→→→↓←←←←\n",
      "↓↓↓↓↓↓↓↑↑→→→→→→↓↓↓↓↓\n",
      "↓↓↓↓↓↓↓←↑↑↑↑→→→→↓↓↓↓\n",
      "↓↓↓←←←←←↓↑←←↓→→→→↓↓↓\n",
      "↓←←↑↑↑↑↓↓↓↑→↓→→→→↓↓↓\n",
      "↓↓↓↓←↓↓↓↓↓←→↓→→→→↑←←\n",
      "↓↓↓↓↓↓←←←←←→↓→↑↑↑↑↑↑\n",
      "→→↓←←←←↑↑↑←←→→↑↑↑↑↑↑\n",
      "\n",
      "\n",
      "DIFFERENCES WITH PREVIOUS VALUE FUNCTION\n"
     ]
    },
    {
     "data": {
      "image/png": "[encoded data removed]",
      "text/plain": [
       "<Figure size 432x288 with 1 Axes>"
      ]
     },
     "metadata": {
      "needs_background": "light"
     },
     "output_type": "display_data"
    },
    {
     "name": "stdout",
     "output_type": "stream",
     "text": [
      "\n",
      "CURRENT VALUE FUNCTION\n"
     ]
    },
    {
     "data": {
      "image/png": "[encoded data removed]",
      "text/plain": [
       "<Figure size 432x288 with 1 Axes>"
      ]
     },
     "metadata": {
      "needs_background": "light"
     },
     "output_type": "display_data"
    },
    {
     "name": "stdout",
     "output_type": "stream",
     "text": [
      "\n",
      "\n",
      "###############################    STEP  :  10    ##############################\n",
      "\n",
      "CURRENT POLICY\n",
      "↓↓↓↓↓←→→↓↓←←→↓↓↓↓↓↓↓\n",
      "↓↓↓↓↓←→→→↓↓↓→→→↓↓↓↓↓\n",
      "↓↓↓↓↓←↓→→→→→→→→↓←←←←\n",
      "↓↓↓↓↓↓↓↓→→→→→→→↓↓↓↓↓\n",
      "↓↓↓↓↓↓↓↓←↑↑↑→→→→↓↓↓↓\n",
      "↓↓↓←←←←←←↓←→↓→→→→↓↓↓\n",
      "↓←←↑↑↑↑↑↓↓↓↓↓→→→→↓↓↓\n",
      "↓↓↓↓←↓↓↓↓↓↓←↓→→→→↑←←\n",
      "↓↓↓↓↓↓←←←←←←↓→↑↑↑↑↑↑\n",
      "→→↓←←←←↑↑↑↑←←→↑↑↑↑↑↑\n",
      "\n",
      "\n",
      "DIFFERENCES WITH PREVIOUS VALUE FUNCTION\n"
     ]
    },
    {
     "data": {
      "image/png": "[encoded data removed]",
      "text/plain": [
       "<Figure size 432x288 with 1 Axes>"
      ]
     },
     "metadata": {
      "needs_background": "light"
     },
     "output_type": "display_data"
    },
    {
     "name": "stdout",
     "output_type": "stream",
     "text": [
      "\n",
      "CURRENT VALUE FUNCTION\n"
     ]
    },
    {
     "data": {
      "image/png": "[encoded data removed]",
      "text/plain": [
       "<Figure size 432x288 with 1 Axes>"
      ]
     },
     "metadata": {
      "needs_background": "light"
     },
     "output_type": "display_data"
    },
    {
     "name": "stdout",
     "output_type": "stream",
     "text": [
      "\n",
      "\n",
      "###############################    STEP  :  11    ##############################\n",
      "\n",
      "CURRENT POLICY\n",
      "↓↓↓↓↓←→→↓↓←←→↓↓↓↓↓↓↓\n",
      "↓↓↓↓↓←↓→→↓↓↓→→→↓↓↓↓↓\n",
      "↓↓↓↓↓←↓↓→→→→→→→↓←←←←\n",
      "↓↓↓↓↓↓↓↓↓→→→→→→↓↓↓↓↓\n",
      "↓↓↓↓↓↓↓↓↓←↓↓↓→→→↓↓↓↓\n",
      "↓↓↓←←←←←←←↓↓↓←→→→↓↓↓\n",
      "↓←←↑↑↑↑↑↑↓↓↓←←→→→↓↓↓\n",
      "↓↓↓↓←↓↓↑↓↓↓↓←←→→→↑←←\n",
      "↓↓↓↓↓↓←←←←←←←←↑↑↑↑↑↑\n",
      "→→↓←←←←↑↑↑↑↑←←↑↑↑↑↑↑\n",
      "\n",
      "\n",
      "DIFFERENCES WITH PREVIOUS VALUE FUNCTION\n"
     ]
    },
    {
     "data": {
      "image/png": "[encoded data removed]",
      "text/plain": [
       "<Figure size 432x288 with 1 Axes>"
      ]
     },
     "metadata": {
      "needs_background": "light"
     },
     "output_type": "display_data"
    },
    {
     "name": "stdout",
     "output_type": "stream",
     "text": [
      "\n",
      "CURRENT VALUE FUNCTION\n"
     ]
    },
    {
     "data": {
      "image/png": "[encoded data removed]",
      "text/plain": [
       "<Figure size 432x288 with 1 Axes>"
      ]
     },
     "metadata": {
      "needs_background": "light"
     },
     "output_type": "display_data"
    },
    {
     "name": "stdout",
     "output_type": "stream",
     "text": [
      "\n",
      "\n",
      "###############################    STEP  :  12    ##############################\n",
      "\n",
      "CURRENT POLICY\n",
      "↓↓↓↓↓←↓→↓↓←←→↓↓↓↓↓↓↓\n",
      "↓↓↓↓↓←↓↓→↓↓↓→→→↓↓↓↓↓\n",
      "↓↓↓↓↓←↓↓↓→→→→→→↓←←←←\n",
      "↓↓↓↓↓↓↓↓↓↓→→→→→↓↓↓↓↓\n",
      "↓↓↓↓↓↓↓↓↓↓←↓↓→→→↓↓↓↓\n",
      "↓↓↓←←←←←←←←↓↓←→→→↓↓↓\n",
      "↓←←↑↑↑↑↑↑↑↓↓↓←→→→↓↓↓\n",
      "↓↓↓↓←↓↓↑↑↓↓↓←←→→→↑←←\n",
      "↓↓↓↓↓↓←←←←←←←←↑↑↑↑↑↑\n",
      "→→↓←←←←↑↑↑↑↑↑←←↑↑↑↑↑\n",
      "\n",
      "\n",
      "DIFFERENCES WITH PREVIOUS VALUE FUNCTION\n"
     ]
    },
    {
     "data": {
      "image/png": "[encoded data removed]",
      "text/plain": [
       "<Figure size 432x288 with 1 Axes>"
      ]
     },
     "metadata": {
      "needs_background": "light"
     },
     "output_type": "display_data"
    },
    {
     "name": "stdout",
     "output_type": "stream",
     "text": [
      "\n",
      "CURRENT VALUE FUNCTION\n"
     ]
    },
    {
     "data": {
      "image/png": "[encoded data removed]",
      "text/plain": [
       "<Figure size 432x288 with 1 Axes>"
      ]
     },
     "metadata": {
      "needs_background": "light"
     },
     "output_type": "display_data"
    },
    {
     "name": "stdout",
     "output_type": "stream",
     "text": [
      "\n",
      "\n",
      "###############################    STEP  :  13    ##############################\n",
      "\n",
      "CURRENT POLICY\n",
      "↓↓↓↓↓←↓↓↓↓←←→↓↓↓↓↓↓↓\n",
      "↓↓↓↓↓←↓↓↓↓↓↓→→→↓↓↓↓↓\n",
      "↓↓↓↓↓←↓↓↓↓→→→→→↓←←←←\n",
      "↓↓↓↓↓↓↓↓↓↓←→→→→↓↓↓↓↓\n",
      "↓↓↓↓↓↓↓↓↓↓↓↓↓→→→↓↓↓↓\n",
      "↓↓↓←←←←←←←←←↓←→→→↓↓↓\n",
      "↓←←↑↑↑↑↑↑↑↑↓↓←→→→↓↓↓\n",
      "↓↓↓↓←↓↓↑↑↑↓↓←←→→→↑←←\n",
      "↓↓↓↓↓↓←←←←←←←←↓↑↑↑↑↑\n",
      "→→↓←←←←↑↑↑↑↑↑←←←↑↑↑↑\n",
      "\n",
      "\n",
      "DIFFERENCES WITH PREVIOUS VALUE FUNCTION\n"
     ]
    },
    {
     "data": {
      "image/png": "[encoded data removed]",
      "text/plain": [
       "<Figure size 432x288 with 1 Axes>"
      ]
     },
     "metadata": {
      "needs_background": "light"
     },
     "output_type": "display_data"
    },
    {
     "name": "stdout",
     "output_type": "stream",
     "text": [
      "\n",
      "CURRENT VALUE FUNCTION\n"
     ]
    },
    {
     "data": {
      "image/png": "[encoded data removed]",
      "text/plain": [
       "<Figure size 432x288 with 1 Axes>"
      ]
     },
     "metadata": {
      "needs_background": "light"
     },
     "output_type": "display_data"
    },
    {
     "name": "stdout",
     "output_type": "stream",
     "text": [
      "\n",
      "\n",
      "###############################    STEP  :  14    ##############################\n",
      "\n",
      "CURRENT POLICY\n",
      "↓↓↓↓↓←↓↓↓←←←→↓↓↓↓↓↓↓\n",
      "↓↓↓↓↓←↓↓↓↓↓↓→→→↓↓↓↓↓\n",
      "↓↓↓↓↓←↓↓↓↓↓→→→→↓←←←←\n",
      "↓↓↓↓↓↓↓↓↓↓←←→→→↓↓↓↓↓\n",
      "↓↓↓↓↓↓↓↓↓↓↓↓↓→→→↓↓↓↓\n",
      "↓↓↓←←←←←←←←←←←→→→↓↓↓\n",
      "↓←←↑↑↑↑↑↑↑↑↑↓←→→→↓↓↓\n",
      "↓↓↓↓←↓↓↑↑↑↑↓←←↓→→↑←←\n",
      "↓↓↓↓↓↓←←←←←←←←↓↓↑↑↑↑\n",
      "→→↓←←←←↑↑↑↑↑↑←←←←↑↑↑\n",
      "\n",
      "\n",
      "DIFFERENCES WITH PREVIOUS VALUE FUNCTION\n"
     ]
    },
    {
     "data": {
      "image/png": "[encoded data removed]",
      "text/plain": [
       "<Figure size 432x288 with 1 Axes>"
      ]
     },
     "metadata": {
      "needs_background": "light"
     },
     "output_type": "display_data"
    },
    {
     "name": "stdout",
     "output_type": "stream",
     "text": [
      "\n",
      "CURRENT VALUE FUNCTION\n"
     ]
    },
    {
     "data": {
      "image/png": "[encoded data removed]",
      "text/plain": [
       "<Figure size 432x288 with 1 Axes>"
      ]
     },
     "metadata": {
      "needs_background": "light"
     },
     "output_type": "display_data"
    },
    {
     "name": "stdout",
     "output_type": "stream",
     "text": [
      "\n",
      "\n",
      "###############################    STEP  :  15    ##############################\n",
      "\n",
      "CURRENT POLICY\n",
      "↓↓↓↓↓←↓↓↓←←←←↓↓↓↓↓↓↓\n",
      "↓↓↓↓↓←↓↓↓↓↓←→→→↓↓↓↓↓\n",
      "↓↓↓↓↓←↓↓↓↓↓↓→→→↓←←←←\n",
      "↓↓↓↓↓↓↓↓↓↓←←←→→↓↓↓↓↓\n",
      "↓↓↓↓↓↓↓↓↓↓↓↓↓→→→↓↓↓↓\n",
      "↓↓↓←←←←←←←←←←←→→→↓↓↓\n",
      "↓←←↑↑↑↑↑↑↑↑↑↑←↓→→↓↓↓\n",
      "↓↓↓↓←↓↓↑↑↑↑↑←←↓↓→↑←←\n",
      "↓↓↓↓↓↓←←←←←←←←↓↓↓↑↑↑\n",
      "→→↓←←←←↑↑↑↑↑↑←←←←←↑↑\n",
      "\n",
      "\n",
      "DIFFERENCES WITH PREVIOUS VALUE FUNCTION\n"
     ]
    },
    {
     "data": {
      "image/png": "[encoded data removed]",
      "text/plain": [
       "<Figure size 432x288 with 1 Axes>"
      ]
     },
     "metadata": {
      "needs_background": "light"
     },
     "output_type": "display_data"
    },
    {
     "name": "stdout",
     "output_type": "stream",
     "text": [
      "\n",
      "CURRENT VALUE FUNCTION\n"
     ]
    },
    {
     "data": {
      "image/png": "[encoded data removed]",
      "text/plain": [
       "<Figure size 432x288 with 1 Axes>"
      ]
     },
     "metadata": {
      "needs_background": "light"
     },
     "output_type": "display_data"
    },
    {
     "name": "stdout",
     "output_type": "stream",
     "text": [
      "\n",
      "\n",
      "###############################    STEP  :  16    ##############################\n",
      "\n",
      "CURRENT POLICY\n",
      "↓↓↓↓↓←↓↓↓←←←←←↓↓↓↓↓↓\n",
      "↓↓↓↓↓←↓↓↓↓↓↓←→→↓↓↓↓↓\n",
      "↓↓↓↓↓←↓↓↓↓↓↓↓→→↓←←←←\n",
      "↓↓↓↓↓↓↓↓↓↓←←←←→↓↓↓↓↓\n",
      "↓↓↓↓↓↓↓↓↓↓↓↓↓→→→↓↓↓↓\n",
      "↓↓↓←←←←←←←←←←←↓→→↓↓↓\n",
      "↓←←↑↑↑↑↑↑↑↑↑↑←↓↓→↓↓↓\n",
      "↓↓↓↓←↓↓↑↑↑↑↑←←↓↓↓↑←←\n",
      "↓↓↓↓↓↓←←←←←←←←↓↓↓↓↑↑\n",
      "→→↓←←←←↑↑↑↑↑↑←←←←←←↑\n",
      "\n",
      "\n",
      "DIFFERENCES WITH PREVIOUS VALUE FUNCTION\n"
     ]
    },
    {
     "data": {
      "image/png": "[encoded data removed]",
      "text/plain": [
       "<Figure size 432x288 with 1 Axes>"
      ]
     },
     "metadata": {
      "needs_background": "light"
     },
     "output_type": "display_data"
    },
    {
     "name": "stdout",
     "output_type": "stream",
     "text": [
      "\n",
      "CURRENT VALUE FUNCTION\n"
     ]
    },
    {
     "data": {
      "image/png": "[encoded data removed]",
      "text/plain": [
       "<Figure size 432x288 with 1 Axes>"
      ]
     },
     "metadata": {
      "needs_background": "light"
     },
     "output_type": "display_data"
    },
    {
     "name": "stdout",
     "output_type": "stream",
     "text": [
      "\n",
      "\n",
      "###############################    STEP  :  17    ##############################\n",
      "\n",
      "CURRENT POLICY\n",
      "↓↓↓↓↓←↓↓↓←←←←←←↓↓↓↓↓\n",
      "↓↓↓↓↓←↓↓↓↓↓↓↓←→↓↓↓↓↓\n",
      "↓↓↓↓↓←↓↓↓↓↓↓↓↓→↓←←←←\n",
      "↓↓↓↓↓↓↓↓↓↓←←←←←↓↓↓↓↓\n",
      "↓↓↓↓↓↓↓↓↓↓↓↓↓↑→→↓↓↓↓\n",
      "↓↓↓←←←←←←←←←←←↓↓→↓↓↓\n",
      "↓←←↑↑↑↑↑↑↑↑↑↑←↓↓↓↓↓↓\n",
      "↓↓↓↓←↓↓↑↑↑↑↑←←↓↓↓↓←←\n",
      "↓↓↓↓↓↓←←←←←←←←↓↓↓↓↓↑\n",
      "→→↓←←←←↑↑↑↑↑↑←←←←←←←\n",
      "\n",
      "\n",
      "DIFFERENCES WITH PREVIOUS VALUE FUNCTION\n"
     ]
    },
    {
     "data": {
      "image/png": "[encoded data removed]",
      "text/plain": [
       "<Figure size 432x288 with 1 Axes>"
      ]
     },
     "metadata": {
      "needs_background": "light"
     },
     "output_type": "display_data"
    },
    {
     "name": "stdout",
     "output_type": "stream",
     "text": [
      "\n",
      "CURRENT VALUE FUNCTION\n"
     ]
    },
    {
     "data": {
      "image/png": "[encoded data removed]",
      "text/plain": [
       "<Figure size 432x288 with 1 Axes>"
      ]
     },
     "metadata": {
      "needs_background": "light"
     },
     "output_type": "display_data"
    },
    {
     "name": "stdout",
     "output_type": "stream",
     "text": [
      "\n",
      "\n",
      "###############################    STEP  :  18    ##############################\n",
      "\n",
      "CURRENT POLICY\n",
      "↓↓↓↓↓←↓↓↓←←←←↓←↓↓↓↓↓\n",
      "↓↓↓↓↓←↓↓↓↓↓↓↓↓←↓↓↓↓↓\n",
      "↓↓↓↓↓←↓↓↓↓↓↓↓↓↓↓←←←↓\n",
      "↓↓↓↓↓↓↓↓↓↓←←←←←↓↓↓↓↓\n",
      "↓↓↓↓↓↓↓↓↓↓↓↓↓↑↓↓↓↓↓↓\n",
      "↓↓↓←←←←←←←←←←←↓↓↓↓↓↓\n",
      "↓←←↑↑↑↑↑↑↑↑↑↑←↓↓↓↓↓↓\n",
      "↓↓↓↓←↓↓↑↑↑↑↑←←↓↓↓↓←←\n",
      "↓↓↓↓↓↓←←←←←←←←↓↓↓↓↓↓\n",
      "→→↓←←←←↑↑↑↑↑↑←←←←←←←\n",
      "\n",
      "\n",
      "DIFFERENCES WITH PREVIOUS VALUE FUNCTION\n"
     ]
    },
    {
     "data": {
      "image/png": "[encoded data removed]",
      "text/plain": [
       "<Figure size 432x288 with 1 Axes>"
      ]
     },
     "metadata": {
      "needs_background": "light"
     },
     "output_type": "display_data"
    },
    {
     "name": "stdout",
     "output_type": "stream",
     "text": [
      "\n",
      "CURRENT VALUE FUNCTION\n"
     ]
    },
    {
     "data": {
      "image/png": "[encoded data removed]",
      "text/plain": [
       "<Figure size 432x288 with 1 Axes>"
      ]
     },
     "metadata": {
      "needs_background": "light"
     },
     "output_type": "display_data"
    },
    {
     "name": "stdout",
     "output_type": "stream",
     "text": [
      "\n",
      "\n",
      "###############################    STEP  :  19    ##############################\n",
      "\n",
      "CURRENT POLICY\n",
      "↓↓↓↓↓←↓↓↓←←←←↓↓←↓↓↓↓\n",
      "↓↓↓↓↓←↓↓↓↓↓↓↓↓←←↓↓↓↓\n",
      "↓↓↓↓↓←↓↓↓↓↓↓↓↓↓←←←←←\n",
      "↓↓↓↓↓↓↓↓↓↓←←←←←↓↓↓↓↓\n",
      "↓↓↓↓↓↓↓↓↓↓↓↓↓↑↓↓↓↓↓↓\n",
      "↓↓↓←←←←←←←←←←←↓↓↓↓↓↓\n",
      "↓←←↑↑↑↑↑↑↑↑↑↑←↓↓↓↓↓↓\n",
      "↓↓↓↓←↓↓↑↑↑↑↑←←↓↓↓↓←←\n",
      "↓↓↓↓↓↓←←←←←←←←↓↓↓↓↓↓\n",
      "→→↓←←←←↑↑↑↑↑↑←←←←←←←\n",
      "\n",
      "\n",
      "DIFFERENCES WITH PREVIOUS VALUE FUNCTION\n"
     ]
    },
    {
     "data": {
      "image/png": "[encoded data removed]",
      "text/plain": [
       "<Figure size 432x288 with 1 Axes>"
      ]
     },
     "metadata": {
      "needs_background": "light"
     },
     "output_type": "display_data"
    },
    {
     "name": "stdout",
     "output_type": "stream",
     "text": [
      "\n",
      "CURRENT VALUE FUNCTION\n"
     ]
    },
    {
     "data": {
      "image/png": "[encoded data removed]",
      "text/plain": [
       "<Figure size 432x288 with 1 Axes>"
      ]
     },
     "metadata": {
      "needs_background": "light"
     },
     "output_type": "display_data"
    },
    {
     "name": "stdout",
     "output_type": "stream",
     "text": [
      "\n",
      "\n",
      "###############################    STEP  :  20    ##############################\n",
      "\n",
      "CURRENT POLICY\n",
      "↓↓↓↓↓←↓↓↓←←←←↓↓↓↓↓↓↓\n",
      "↓↓↓↓↓←↓↓↓↓↓↓↓↓←←←↓↓↓\n",
      "↓↓↓↓↓←↓↓↓↓↓↓↓↓↓←←←←←\n",
      "↓↓↓↓↓↓↓↓↓↓←←←←←↑↑↑↑↑\n",
      "↓↓↓↓↓↓↓↓↓↓↓↓↓↑↓↓↓↓↓↓\n",
      "↓↓↓←←←←←←←←←←←↓↓↓↓↓↓\n",
      "↓←←↑↑↑↑↑↑↑↑↑↑←↓↓↓↓↓↓\n",
      "↓↓↓↓←↓↓↑↑↑↑↑←←↓↓↓↓←←\n",
      "↓↓↓↓↓↓←←←←←←←←↓↓↓↓↓↓\n",
      "→→↓←←←←↑↑↑↑↑↑←←←←←←←\n",
      "\n",
      "\n",
      "DIFFERENCES WITH PREVIOUS VALUE FUNCTION\n"
     ]
    },
    {
     "data": {
      "image/png": "[encoded data removed]",
      "text/plain": [
       "<Figure size 432x288 with 1 Axes>"
      ]
     },
     "metadata": {
      "needs_background": "light"
     },
     "output_type": "display_data"
    },
    {
     "name": "stdout",
     "output_type": "stream",
     "text": [
      "\n",
      "CURRENT VALUE FUNCTION\n"
     ]
    },
    {
     "data": {
      "image/png": "[encoded data removed]",
      "text/plain": [
       "<Figure size 432x288 with 1 Axes>"
      ]
     },
     "metadata": {
      "needs_background": "light"
     },
     "output_type": "display_data"
    },
    {
     "name": "stdout",
     "output_type": "stream",
     "text": [
      "\n",
      "\n",
      "###############################    STEP  :  21    ##############################\n",
      "\n",
      "CURRENT POLICY\n",
      "↓↓↓↓↓←↓↓↓←←←←↓↓↓↓←↓↓\n",
      "↓↓↓↓↓←↓↓↓↓↓↓↓↓←←←←↓↓\n",
      "↓↓↓↓↓←↓↓↓↓↓↓↓↓↓←←←←←\n",
      "↓↓↓↓↓↓↓↓↓↓←←←←←↑↑↑↑↑\n",
      "↓↓↓↓↓↓↓↓↓↓↓↓↓↑↑↑↑↓↓↑\n",
      "↓↓↓←←←←←←←←←←←↓↓↓↓↓↓\n",
      "↓←←↑↑↑↑↑↑↑↑↑↑←↓↓↓↓↓↓\n",
      "↓↓↓↓←↓↓↑↑↑↑↑←←↓↓↓↓←←\n",
      "↓↓↓↓↓↓←←←←←←←←↓↓↓↓↓↓\n",
      "→→↓←←←←↑↑↑↑↑↑←←←←←←←\n",
      "\n",
      "\n",
      "DIFFERENCES WITH PREVIOUS VALUE FUNCTION\n"
     ]
    },
    {
     "data": {
      "image/png": "[encoded data removed]",
      "text/plain": [
       "<Figure size 432x288 with 1 Axes>"
      ]
     },
     "metadata": {
      "needs_background": "light"
     },
     "output_type": "display_data"
    },
    {
     "name": "stdout",
     "output_type": "stream",
     "text": [
      "\n",
      "CURRENT VALUE FUNCTION\n"
     ]
    },
    {
     "data": {
      "image/png": "[encoded data removed]",
      "text/plain": [
       "<Figure size 432x288 with 1 Axes>"
      ]
     },
     "metadata": {
      "needs_background": "light"
     },
     "output_type": "display_data"
    },
    {
     "name": "stdout",
     "output_type": "stream",
     "text": [
      "\n",
      "\n",
      "###############################    STEP  :  22    ##############################\n",
      "\n",
      "CURRENT POLICY\n",
      "↓↓↓↓↓←↓↓↓←←←←↓↓↓↓↓←↓\n",
      "↓↓↓↓↓←↓↓↓↓↓↓↓↓←←←←←↓\n",
      "↓↓↓↓↓←↓↓↓↓↓↓↓↓↓←←←←←\n",
      "↓↓↓↓↓↓↓↓↓↓←←←←←↑↑↑↑↑\n",
      "↓↓↓↓↓↓↓↓↓↓↓↓↓↑↑↑↑↓↓↑\n",
      "↓↓↓←←←←←←←←←←←↓↓↓↓↓↓\n",
      "↓←←↑↑↑↑↑↑↑↑↑↑←↓↓↓↓↓↓\n",
      "↓↓↓↓←↓↓↑↑↑↑↑←←↓↓↓↓←←\n",
      "↓↓↓↓↓↓←←←←←←←←↓↓↓↓↓↓\n",
      "→→↓←←←←↑↑↑↑↑↑←←←←←←←\n",
      "\n",
      "\n",
      "DIFFERENCES WITH PREVIOUS VALUE FUNCTION\n"
     ]
    },
    {
     "data": {
      "image/png": "[encoded data removed]",
      "text/plain": [
       "<Figure size 432x288 with 1 Axes>"
      ]
     },
     "metadata": {
      "needs_background": "light"
     },
     "output_type": "display_data"
    },
    {
     "name": "stdout",
     "output_type": "stream",
     "text": [
      "\n",
      "CURRENT VALUE FUNCTION\n"
     ]
    },
    {
     "data": {
      "image/png": "[encoded data removed]",
      "text/plain": [
       "<Figure size 432x288 with 1 Axes>"
      ]
     },
     "metadata": {
      "needs_background": "light"
     },
     "output_type": "display_data"
    },
    {
     "name": "stdout",
     "output_type": "stream",
     "text": [
      "\n",
      "\n",
      "###############################    STEP  :  23    ##############################\n",
      "\n",
      "CURRENT POLICY\n",
      "↓↓↓↓↓←↓↓↓←←←←↓↓↓↓↓↓↓\n",
      "↓↓↓↓↓←↓↓↓↓↓↓↓↓←←←←←←\n",
      "↓↓↓↓↓←↓↓↓↓↓↓↓↓↓←←←←←\n",
      "↓↓↓↓↓↓↓↓↓↓←←←←←↑↑↑↑↑\n",
      "↓↓↓↓↓↓↓↓↓↓↓↓↓↑↑↑↑↓↓↑\n",
      "↓↓↓←←←←←←←←←←←↓↓↓↓↓↓\n",
      "↓←←↑↑↑↑↑↑↑↑↑↑←↓↓↓↓↓↓\n",
      "↓↓↓↓←↓↓↑↑↑↑↑←←↓↓↓↓←←\n",
      "↓↓↓↓↓↓←←←←←←←←↓↓↓↓↓↓\n",
      "→→↓←←←←↑↑↑↑↑↑←←←←←←←\n",
      "\n",
      "\n",
      "DIFFERENCES WITH PREVIOUS VALUE FUNCTION\n"
     ]
    },
    {
     "data": {
      "image/png": "[encoded data removed]",
      "text/plain": [
       "<Figure size 432x288 with 1 Axes>"
      ]
     },
     "metadata": {
      "needs_background": "light"
     },
     "output_type": "display_data"
    },
    {
     "name": "stdout",
     "output_type": "stream",
     "text": [
      "\n",
      "CURRENT VALUE FUNCTION\n"
     ]
    },
    {
     "data": {
      "image/png": "[encoded data removed]",
      "text/plain": [
       "<Figure size 432x288 with 1 Axes>"
      ]
     },
     "metadata": {
      "needs_background": "light"
     },
     "output_type": "display_data"
    },
    {
     "name": "stdout",
     "output_type": "stream",
     "text": [
      "\n",
      "\n",
      "###############################    STEP  :  24    ##############################\n",
      "\n",
      "----------> STABLE POLICY\n"
     ]
    }
   ],
   "source": [
    "policy_2, v_2 = policy_improvement(env, discount_factor = 0.99)"
   ]
  },
  {
   "cell_type": "markdown",
   "metadata": {},
   "source": [
    "### Final results for Policy Iteration"
   ]
  },
  {
   "cell_type": "code",
   "execution_count": 12,
   "metadata": {},
   "outputs": [
    {
     "name": "stdout",
     "output_type": "stream",
     "text": [
      "Final policy\n",
      "\n",
      "↓↓↓↓↓←↓↓↓←←←←↓↓↓↓↓↓↓\n",
      "↓↓↓↓↓←↓↓↓↓↓↓↓↓←←←←←←\n",
      "↓↓↓↓↓←↓↓↓↓↓↓↓↓↓←←←←←\n",
      "↓↓↓↓↓↓↓↓↓↓←←←←←↑↑↑↑↑\n",
      "↓↓↓↓↓↓↓↓↓↓↓↓↓↑↑↑↑↓↓↑\n",
      "↓↓↓←←←←←←←←←←←↓↓↓↓↓↓\n",
      "↓←←↑↑↑↑↑↑↑↑↑↑←↓↓↓↓↓↓\n",
      "↓↓↓↓←↓↓↑↑↑↑↑←←↓↓↓↓←←\n",
      "↓↓↓↓↓↓←←←←←←←←↓↓↓↓↓↓\n",
      "→→↓←←←←↑↑↑↑↑↑←←←←←←←\n",
      "\n",
      "Final Value Function:\n"
     ]
    },
    {
     "data": {
      "text/plain": [
       "<matplotlib.image.AxesImage at 0x24d8d6c7888>"
      ]
     },
     "execution_count": 12,
     "metadata": {},
     "output_type": "execute_result"
    },
    {
     "data": {
      "image/png": "[encoded data removed]",
      "text/plain": [
       "<Figure size 432x288 with 1 Axes>"
      ]
     },
     "metadata": {
      "needs_background": "light"
     },
     "output_type": "display_data"
    }
   ],
   "source": [
    "print(\"Final policy\")\n",
    "print(\"\")\n",
    "env.render_policy(np.reshape(np.argmax(policy_2, axis=1), env.shape))\n",
    "\n",
    "print(\"Final Value Function:\")\n",
    "plt.imshow(v_2.reshape(env.shape))"
   ]
  },
  {
   "cell_type": "markdown",
   "metadata": {},
   "source": [
    "## Comments : \n",
    "- With a discount rate of 0.95, the policy is stable at the end... it's not the case with smaller discount rates (like 0.9 for example). \n",
    "- We need 16 steps to get the optimal policy and we therefore can say that the initial value function estimation (found with the random policy) wasn't the optimal one. \n"
   ]
  },
  {
   "cell_type": "code",
   "execution_count": 13,
   "metadata": {},
   "outputs": [
    {
     "data": {
      "text/plain": [
       "<matplotlib.colorbar.Colorbar at 0x24d8d7b5148>"
      ]
     },
     "execution_count": 13,
     "metadata": {},
     "output_type": "execute_result"
    },
    {
     "data": {
      "image/png": "[encoded data removed]",
      "text/plain": [
       "<Figure size 432x288 with 2 Axes>"
      ]
     },
     "metadata": {
      "needs_background": "light"
     },
     "output_type": "display_data"
    }
   ],
   "source": [
    "plt.imshow((v_2 - v_1).reshape(env.shape))\n",
    "plt.colorbar()"
   ]
  },
  {
   "cell_type": "markdown",
   "metadata": {},
   "source": [
    "- the value function given by Policy Iteration slightly differs from the one given by Value Iteration"
   ]
  },
  {
   "cell_type": "code",
   "execution_count": 14,
   "metadata": {},
   "outputs": [
    {
     "data": {
      "text/plain": [
       "array([[0, 0, 0, 0, 0, 0, 0, 0, 0, 0, 0, 0, 0, 0, 0, 0, 0, 0, 0, 0],\n",
       "       [0, 0, 0, 0, 0, 0, 0, 0, 0, 0, 0, 0, 0, 0, 0, 0, 0, 0, 0, 0],\n",
       "       [0, 0, 0, 0, 0, 0, 0, 0, 0, 0, 0, 0, 0, 0, 0, 0, 0, 0, 0, 0],\n",
       "       [0, 0, 0, 0, 0, 0, 0, 0, 0, 0, 0, 0, 0, 0, 0, 0, 0, 0, 0, 0],\n",
       "       [0, 0, 0, 0, 0, 0, 0, 0, 0, 0, 0, 0, 0, 0, 0, 0, 0, 0, 0, 0],\n",
       "       [0, 0, 0, 0, 0, 0, 0, 0, 0, 0, 0, 0, 0, 0, 0, 0, 0, 0, 0, 0],\n",
       "       [0, 0, 0, 0, 0, 0, 0, 0, 0, 0, 0, 0, 0, 0, 0, 0, 0, 0, 0, 0],\n",
       "       [0, 0, 0, 0, 0, 0, 0, 0, 0, 0, 0, 0, 0, 0, 0, 0, 0, 0, 0, 0],\n",
       "       [0, 0, 0, 0, 0, 0, 0, 0, 0, 0, 0, 0, 0, 0, 0, 0, 0, 0, 0, 0],\n",
       "       [0, 0, 0, 0, 0, 0, 0, 0, 0, 0, 0, 0, 0, 0, 0, 0, 0, 0, 0, 0]], dtype=int64)"
      ]
     },
     "execution_count": 14,
     "metadata": {},
     "output_type": "execute_result"
    }
   ],
   "source": [
    "np.reshape(np.argmax(policy_2, axis=1) - np.argmax(policy_1, axis=1), env.shape)"
   ]
  },
  {
   "cell_type": "markdown",
   "metadata": {},
   "source": [
    "#### - But policies are the same ! "
   ]
  },
  {
   "cell_type": "code",
   "execution_count": null,
   "metadata": {},
   "outputs": [],
   "source": []
  }
 ],
 "metadata": {
  "kernelspec": {
   "display_name": "Python 3",
   "language": "python",
   "name": "python3"
  },
  "language_info": {
   "codemirror_mode": {
    "name": "ipython",
    "version": 3
   },
   "file_extension": ".py",
   "mimetype": "text/x-python",
   "name": "python",
   "nbconvert_exporter": "python",
   "pygments_lexer": "ipython3",
   "version": "3.7.4"
  }
 },
 "nbformat": 4,
 "nbformat_minor": 2
}
