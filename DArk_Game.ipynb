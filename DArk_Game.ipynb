{
 "cells": [
  {
   "cell_type": "code",
   "execution_count": 1,
   "metadata": {},
   "outputs": [
    {
     "name": "stdout",
     "output_type": "stream",
     "text": [
      "pygame 1.9.6\n",
      "Hello from the pygame community. https://www.pygame.org/contribute.html\n",
      "importing Jupyter notebook from i_creation_environnement.ipynb\n"
     ]
    },
    {
     "data": {
      "image/png": "[encoded data removed]",
      "text/plain": [
       "<Figure size 720x360 with 1 Axes>"
      ]
     },
     "metadata": {
      "needs_background": "light"
     },
     "output_type": "display_data"
    }
   ],
   "source": [
    "import pygame\n",
    "import numpy as np\n",
    "import os\n",
    "import import_ipynb\n",
    "import i_creation_environnement\n",
    "import numpy as np\n",
    "import matplotlib.pyplot as plt"
   ]
  },
  {
   "cell_type": "code",
   "execution_count": 2,
   "metadata": {},
   "outputs": [],
   "source": [
    "class Mouse :\n",
    "\n",
    "    def __init__(self):\n",
    "        self.pos_x = 0\n",
    "        self.pos_y = 0\n",
    "        self.rewards = []"
   ]
  },
  {
   "cell_type": "code",
   "execution_count": 3,
   "metadata": {},
   "outputs": [],
   "source": [
    "agent = Mouse()\n",
    "env = i_creation_environnement.AugmentedGridworldEnv()"
   ]
  },
  {
   "cell_type": "code",
   "execution_count": 4,
   "metadata": {},
   "outputs": [
    {
     "name": "stdout",
     "output_type": "stream",
     "text": [
      "34.0\n",
      "42.0\n",
      "42.0\n",
      "[-1000, 34.0, 42.0, 42.0]\n"
     ]
    }
   ],
   "source": [
    "size_case = 30\n",
    "nb_x_cases = env.shape[0]\n",
    "nb_y_cases = env.shape[1]\n",
    "\n",
    "w_height = size_case * nb_x_cases\n",
    "w_width = size_case * nb_y_cases + 200\n",
    "\n",
    "pygame.init()\n",
    "\n",
    "win = pygame.display.set_mode((w_width, w_height))\n",
    "Scores = [-1000]\n",
    "\n",
    "pygame.font.init() # you have to call this at the start, \n",
    "                   # if you want to use this module.\n",
    "myfont = pygame.font.SysFont('Comic Sans MS', 30)\n",
    "\n",
    "\n",
    "\n",
    "def new_game():\n",
    "    env.reset()\n",
    "    global score\n",
    "    score = 0\n",
    "    global obs\n",
    "    obs = []\n",
    "    global reward_matrix\n",
    "    global score_i\n",
    "    score_i = 0\n",
    "    reward_matrix = - np.ones(env.shape)\n",
    "    reward_matrix[env._cliff] = -100\n",
    "    reward_matrix[env._carrots] = 3\n",
    "    reward_matrix[env._cheese] = 50\n",
    "    \n",
    "    agent.pos_x = size_case//2;\n",
    "    agent.pos_y = size_case//2;\n",
    "\n",
    "\n",
    "    \n",
    "    \n",
    "new_game()\n",
    "run = True\n",
    "\n",
    "while run:\n",
    "    pygame.time.delay(100)\n",
    "\n",
    "    for event in pygame.event.get():\n",
    "\n",
    "        if event.type == pygame.QUIT:\n",
    "            run = False\n",
    "        \n",
    "        if event.type == pygame.KEYDOWN:\n",
    "\n",
    "            if event.key == pygame.K_UP:\n",
    "                if agent.pos_y>size_case//2:\n",
    "                    new_y = agent.pos_y - size_case\n",
    "                    new_x = agent.pos_x\n",
    "\n",
    "            if event.key == pygame.K_DOWN:\n",
    "                if agent.pos_y<w_height - size_case//2:\n",
    "                    new_y = agent.pos_y + size_case\n",
    "                    new_x = agent.pos_x\n",
    "\n",
    "            if event.key == pygame.K_LEFT:\n",
    "                if agent.pos_x>size_case//2:\n",
    "                    new_x = agent.pos_x - size_case\n",
    "                    new_y = agent.pos_y\n",
    "\n",
    "            if event.key == pygame.K_RIGHT:\n",
    "                if agent.pos_x<w_width-200 - size_case//2:\n",
    "                    new_x = agent.pos_x + size_case\n",
    "                    new_y = agent.pos_y\n",
    "                    \n",
    "            if env._walls[new_y//size_case, new_x//size_case]==True:\n",
    "                (new_x, new_y) = (agent.pos_x, agent.pos_y)\n",
    "                \n",
    "            if env._winds[new_y//size_case, new_x//size_case]==True:\n",
    "                new_x = new_x + size_case\n",
    "                obs.append((agent.pos_x, agent.pos_y))\n",
    "            \n",
    "            (agent.pos_x, agent.pos_y) = (new_x, new_y)\n",
    "            \n",
    "            score_i = reward_matrix[agent.pos_y//size_case, agent.pos_x//size_case]\n",
    "            score += score_i\n",
    "            \n",
    "            if (agent.pos_x, agent.pos_y) not in obs : \n",
    "                        obs.append((agent.pos_x, agent.pos_y))\n",
    "                    \n",
    "            if abs(reward_matrix[agent.pos_y//size_case, agent.pos_x//size_case])>45:\n",
    "                Scores.append(score)\n",
    "                print(score)\n",
    "                new_game()\n",
    "            \n",
    "            if env._carrots[agent.pos_y//size_case, agent.pos_x//size_case]==True:\n",
    "                env._carrots[agent.pos_y//size_case, agent.pos_x//size_case]==False\n",
    "                reward_matrix[agent.pos_y//size_case, agent.pos_x//size_case] = -1;\n",
    "              \n",
    "                \n",
    "    win.fill((0,0,0))\n",
    "    textsurface = myfont.render('Reward : %d'%score_i, False, (150, 120, 0))\n",
    "    win.blit(textsurface,(w_width - 180,0))\n",
    "    textsurface2 = myfont.render('Score : %d'%score, False, (150, 120, 0))\n",
    "    win.blit(textsurface2,(w_width - 180,50))\n",
    "    dd = max(Scores)\n",
    "    textsurface3 = myfont.render('Max : %d'%dd, False, (150, 120, 0))\n",
    "    win.blit(textsurface3,(w_width - 180,100))\n",
    "    \n",
    "    for a in obs : \n",
    "        pygame.draw.rect(win, (13,188,123), (a[0] - size_case//2, a[1] - size_case//2, size_case, size_case), 20)\n",
    "    pygame.draw.circle(win, (0,10,210), (agent.pos_x, agent.pos_y), 10)\n",
    "    \n",
    "    #agent_rect = pygame.Rect(agent.pos_x, agent.pos_y, agent.pos_x + 10, agent.pos_y+10)\n",
    "    #pygame.draw.rect(win, (23, 125, 210), agent_rect) \n",
    "\n",
    "    pygame.display.update()\n",
    "\n",
    "pygame.quit()\n",
    "print(Scores)"
   ]
  },
  {
   "cell_type": "code",
   "execution_count": 5,
   "metadata": {},
   "outputs": [
    {
     "name": "stdout",
     "output_type": "stream",
     "text": [
      "[-1000, 34.0, 42.0, 42.0]\n"
     ]
    }
   ],
   "source": [
    "print(Scores)"
   ]
  },
  {
   "cell_type": "code",
   "execution_count": null,
   "metadata": {},
   "outputs": [],
   "source": []
  }
 ],
 "metadata": {
  "kernelspec": {
   "display_name": "Python 3",
   "language": "python",
   "name": "python3"
  },
  "language_info": {
   "codemirror_mode": {
    "name": "ipython",
    "version": 3
   },
   "file_extension": ".py",
   "mimetype": "text/x-python",
   "name": "python",
   "nbconvert_exporter": "python",
   "pygments_lexer": "ipython3",
   "version": "3.7.4"
  }
 },
 "nbformat": 4,
 "nbformat_minor": 2
}
