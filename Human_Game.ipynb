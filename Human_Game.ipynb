{
 "cells": [
  {
   "cell_type": "code",
   "execution_count": 1,
   "metadata": {},
   "outputs": [
    {
     "name": "stdout",
     "output_type": "stream",
     "text": [
      "pygame 1.9.6\n",
      "Hello from the pygame community. https://www.pygame.org/contribute.html\n",
      "start\n",
      "start\n",
      "start\n",
      "Quit\n"
     ]
    },
    {
     "ename": "SystemExit",
     "evalue": "",
     "output_type": "error",
     "traceback": [
      "An exception has occurred, use %tb to see the full traceback.\n",
      "\u001b[1;31mSystemExit\u001b[0m\n"
     ]
    },
    {
     "name": "stderr",
     "output_type": "stream",
     "text": [
      "C:\\Users\\Tristan\\Miniconda3\\lib\\site-packages\\IPython\\core\\interactiveshell.py:3327: UserWarning: To exit: use 'exit', 'quit', or Ctrl-D.\n",
      "  warn(\"To exit: use 'exit', 'quit', or Ctrl-D.\", stacklevel=1)\n"
     ]
    }
   ],
   "source": [
    "class Mouse\n",
    "\n",
    "    def __init__(self):\n",
    "        self.pos_x = 0\n",
    "        self.pos_y = 0\n",
    "        self.rewards = []\n"
   ]
  },
  {
   "cell_type": "code",
   "execution_count": null,
   "metadata": {},
   "outputs": [],
   "source": [
    "import pygame\n",
    "import numpy as np\n",
    "import os\n",
    "\n",
    "pygame.init()\n",
    "w_height = 600\n",
    "w_width = 600\n",
    "case_dim = w_width//8\n",
    "pygame.font.init()\n",
    "myfont = pygame.font.SysFont('Comic Sans MS', 70)\n",
    "win = pygame.display.set_mode((w_width+200,w_width))\n",
    "pygame.display.set_caption(\"First Game\")\n",
    "\n",
    "new_game_button = pygame.Rect(630, 150, 140, 50)\n",
    "font = pygame.font.SysFont('Arial', 25)\n",
    "\n",
    "\n",
    "anim_count = 0\n",
    "\n",
    "def new_game():\n",
    "\n",
    "    pass\n",
    "\n",
    "\n",
    "new_game()\n",
    "\n",
    "\n",
    "while run:\n",
    "    pygame.time.delay(100)\n",
    "\n",
    "    for event in pygame.event.get():\n",
    "\n",
    "        if event.type == pygame.QUIT:\n",
    "            run = False\n",
    "\n",
    "        if event.type == pygame.KEYUP:\n",
    "            agent.pos_y = -1\n",
    "        \n",
    "        if event.type == pygame.KEYDOWN:\n",
    "            agent.pos_y = +1\n",
    "            \n",
    "        if event.type == pygame.KEYLEFT:\n",
    "            agent.pos_x = -1\n",
    "            \n",
    "        if event.type == pygame.KEYRIGHT:\n",
    "            agent.pos_x = +1\n",
    "            \n",
    "    agent_rect = pygame.Rect(630, 150, 140, 50)\n",
    "    pygame.draw.rect(win, (23, 125, 210), agent_rect) \n",
    "\n",
    "    pygame.draw.line(win, (125,123,253), (601,0), (601,600), 4)\n",
    "\n",
    "    w_score_text = font.render(\"White Score : %d\" % white_score, False, (54, 54, 54))\n",
    "    w_score_rect = w_score_text.get_rect(center=(685, 300))\n",
    "    b_score_text = font.render(\"Black Score : %d\" % black_score, False, (54, 54, 54))\n",
    "    b_score_rect = w_score_text.get_rect(center=(685, 350))\n",
    "    new_game_text = font.render(\"NEW GAME\", False, (54, 54, 54))\n",
    "    new_game_rect = new_game_text.get_rect(center=(700, 175))\n",
    "\n",
    "    for pos in potential_depla:\n",
    "        image = circles[int(anim_count)%10]\n",
    "        image_rect = image.get_rect(center=(pos[0], pos[1]))\n",
    "        win.blit(image, image_rect)\n",
    "        # pygame.draw.circle(win, (233,34,172), (pos[0], pos[1]), 5)\n",
    "\n",
    "    win.blit(b_score_text, b_score_rect)\n",
    "    win.blit(w_score_text, w_score_rect)\n",
    "    win.blit(new_game_text, new_game_rect)\n",
    "\n",
    "    if final_mate:\n",
    "\n",
    "        loose_text = myfont.render(\"YOU LOOSE\", False, (255, 160, 16))\n",
    "        loose_rect = loose_text.get_rect(center=(300, 300))\n",
    "        win.blit(loose_text, loose_rect)\n",
    "\n",
    "\n",
    "\n",
    "\n",
    "            # textsurface = myfont.render('%d,%d'%(i,j), False, (152, 235, 0))\n",
    "            # win.blit(textsurface, (A[i,j,0], A[i,j,1]))\n",
    "\n",
    "    # run=False\n",
    "\n",
    "    pygame.display.update()\n",
    "\n",
    "\n",
    "\n",
    "\n"
   ]
  },
  {
   "cell_type": "code",
   "execution_count": null,
   "metadata": {},
   "outputs": [],
   "source": []
  }
 ],
 "metadata": {
  "kernelspec": {
   "display_name": "Python 3",
   "language": "python",
   "name": "python3"
  },
  "language_info": {
   "codemirror_mode": {
    "name": "ipython",
    "version": 3
   },
   "file_extension": ".py",
   "mimetype": "text/x-python",
   "name": "python",
   "nbconvert_exporter": "python",
   "pygments_lexer": "ipython3",
   "version": "3.7.4"
  }
 },
 "nbformat": 4,
 "nbformat_minor": 2
}
