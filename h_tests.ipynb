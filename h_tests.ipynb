{
 "cells": [
  {
   "cell_type": "code",
   "execution_count": 1,
   "metadata": {},
   "outputs": [
    {
     "name": "stdout",
     "output_type": "stream",
     "text": [
      "importing Jupyter notebook from i_creation_environnement.ipynb\n"
     ]
    }
   ],
   "source": [
    "import import_ipynb\n",
    "import i_creation_environnement"
   ]
  },
  {
   "cell_type": "code",
   "execution_count": 2,
   "metadata": {},
   "outputs": [
    {
     "name": "stdout",
     "output_type": "stream",
     "text": [
      "🐭 ○ ○ ○ ○█ ○ ○ ○ ○ ○🌊🌊🌊🌊 ○ ○ ○ ○🥕\n",
      "○ ○ ○ ○ ○█ ○ ○🥕⇒🌊🌊🌊🥕🥕 ○ ○ ○ ○🥕\n",
      "○ ○ ○ ○🥕█ ○ ○ ○ ○ ○ ○ ○ ○ ○ ○ ○ ○ ○🥕\n",
      "○ ○ ○ ○ ○█ ○ ○ ○ ○ ○ ○ ○ ○ ○⇒⇒⇒🌊🥕\n",
      "○ ○ ○ ○ ○ ○ ○ ○ ○ ○███ ○⇒ ○ ○🌊🌊🌊\n",
      "○ ○🥕 ○ ○ ○ ○ ○ ○ ○ ○ ○ ○█ ○ ○ ○ ○ ○ ○\n",
      "○ ○ ○⇒ ○🌊🌊 ○ ○ ○ ○ ○ ○█ ○ ○ ○ ○ ○ ○\n",
      "⇒⇒⇒ ○🌊🌊🌊 ○ ○ ○ ○🥕 ○█ ○ ○ ○🧀 ○ ○\n",
      "⇒⇒⇒🌊🌊 ○ ○ ○ ○ ○🥕 ○ ○█ ○ ○ ○ ○ ○ ○\n",
      "○ ○🧀🌊🌊🌊🌊 ○ ○ ○ ○ ○ ○ ○ ○ ○ ○ ○ ○ ○\n",
      "\n"
     ]
    }
   ],
   "source": [
    "env = i_creation_environnement.AugmentedGridworldEnv()\n",
    "env.render()"
   ]
  },
  {
   "cell_type": "code",
   "execution_count": 3,
   "metadata": {},
   "outputs": [
    {
     "name": "stdout",
     "output_type": "stream",
     "text": [
      "○ ○ ○ ○ ○█ ○ ○ ○ ○ ○🌊🌊🌊🌊 ○ ○ ○ ○🥕\n",
      "🐭 ○ ○ ○ ○█ ○ ○🥕⇒🌊🌊🌊🥕🥕 ○ ○ ○ ○🥕\n",
      "○ ○ ○ ○🥕█ ○ ○ ○ ○ ○ ○ ○ ○ ○ ○ ○ ○ ○🥕\n",
      "○ ○ ○ ○ ○█ ○ ○ ○ ○ ○ ○ ○ ○ ○⇒⇒⇒🌊🥕\n",
      "○ ○ ○ ○ ○ ○ ○ ○ ○ ○███ ○⇒ ○ ○🌊🌊🌊\n",
      "○ ○🥕 ○ ○ ○ ○ ○ ○ ○ ○ ○ ○█ ○ ○ ○ ○ ○ ○\n",
      "○ ○ ○⇒ ○🌊🌊 ○ ○ ○ ○ ○ ○█ ○ ○ ○ ○ ○ ○\n",
      "⇒⇒⇒ ○🌊🌊🌊 ○ ○ ○ ○🥕 ○█ ○ ○ ○🧀 ○ ○\n",
      "⇒⇒⇒🌊🌊 ○ ○ ○ ○ ○🥕 ○ ○█ ○ ○ ○ ○ ○ ○\n",
      "○ ○🧀🌊🌊🌊🌊 ○ ○ ○ ○ ○ ○ ○ ○ ○ ○ ○ ○ ○\n",
      "\n"
     ]
    }
   ],
   "source": [
    "env.step(2)\n",
    "env.render()"
   ]
  },
  {
   "cell_type": "code",
   "execution_count": 4,
   "metadata": {},
   "outputs": [
    {
     "name": "stdout",
     "output_type": "stream",
     "text": [
      "○ ○ ○ ○ ○█ ○ ○ ○ ○ ○🌊🌊🌊🌊 ○ ○ ○ ○🥕\n",
      "○ ○ ○ ○ ○█ ○ ○🥕⇒🌊🌊🌊🥕🥕 ○ ○ ○ ○🥕\n",
      "🐭 ○ ○ ○🥕█ ○ ○ ○ ○ ○ ○ ○ ○ ○ ○ ○ ○ ○🥕\n",
      "○ ○ ○ ○ ○█ ○ ○ ○ ○ ○ ○ ○ ○ ○⇒⇒⇒🌊🥕\n",
      "○ ○ ○ ○ ○ ○ ○ ○ ○ ○███ ○⇒ ○ ○🌊🌊🌊\n",
      "○ ○🥕 ○ ○ ○ ○ ○ ○ ○ ○ ○ ○█ ○ ○ ○ ○ ○ ○\n",
      "○ ○ ○⇒ ○🌊🌊 ○ ○ ○ ○ ○ ○█ ○ ○ ○ ○ ○ ○\n",
      "⇒⇒⇒ ○🌊🌊🌊 ○ ○ ○ ○🥕 ○█ ○ ○ ○🧀 ○ ○\n",
      "⇒⇒⇒🌊🌊 ○ ○ ○ ○ ○🥕 ○ ○█ ○ ○ ○ ○ ○ ○\n",
      "○ ○🧀🌊🌊🌊🌊 ○ ○ ○ ○ ○ ○ ○ ○ ○ ○ ○ ○ ○\n",
      "\n"
     ]
    }
   ],
   "source": [
    "env.step(2)\n",
    "env.render()"
   ]
  },
  {
   "cell_type": "code",
   "execution_count": 5,
   "metadata": {},
   "outputs": [
    {
     "name": "stdout",
     "output_type": "stream",
     "text": [
      "○ ○ ○ ○ ○█ ○ ○ ○ ○ ○🌊🌊🌊🌊 ○ ○ ○ ○🥕\n",
      "○ ○ ○ ○ ○█ ○ ○🥕⇒🌊🌊🌊🥕🥕 ○ ○ ○ ○🥕\n",
      "○ ○ ○ ○🥕█ ○ ○ ○ ○ ○ ○ ○ ○ ○ ○ ○ ○ ○🥕\n",
      "🐭 ○ ○ ○ ○█ ○ ○ ○ ○ ○ ○ ○ ○ ○⇒⇒⇒🌊🥕\n",
      "○ ○ ○ ○ ○ ○ ○ ○ ○ ○███ ○⇒ ○ ○🌊🌊🌊\n",
      "○ ○🥕 ○ ○ ○ ○ ○ ○ ○ ○ ○ ○█ ○ ○ ○ ○ ○ ○\n",
      "○ ○ ○⇒ ○🌊🌊 ○ ○ ○ ○ ○ ○█ ○ ○ ○ ○ ○ ○\n",
      "⇒⇒⇒ ○🌊🌊🌊 ○ ○ ○ ○🥕 ○█ ○ ○ ○🧀 ○ ○\n",
      "⇒⇒⇒🌊🌊 ○ ○ ○ ○ ○🥕 ○ ○█ ○ ○ ○ ○ ○ ○\n",
      "○ ○🧀🌊🌊🌊🌊 ○ ○ ○ ○ ○ ○ ○ ○ ○ ○ ○ ○ ○\n",
      "\n"
     ]
    }
   ],
   "source": [
    "env.step(2)\n",
    "env.render()"
   ]
  },
  {
   "cell_type": "code",
   "execution_count": 6,
   "metadata": {},
   "outputs": [
    {
     "name": "stdout",
     "output_type": "stream",
     "text": [
      "○ ○ ○ ○ ○█ ○ ○ ○ ○ ○🌊🌊🌊🌊 ○ ○ ○ ○🥕\n",
      "○ ○ ○ ○ ○█ ○ ○🥕⇒🌊🌊🌊🥕🥕 ○ ○ ○ ○🥕\n",
      "○ ○ ○ ○🥕█ ○ ○ ○ ○ ○ ○ ○ ○ ○ ○ ○ ○ ○🥕\n",
      "○🐭 ○ ○ ○█ ○ ○ ○ ○ ○ ○ ○ ○ ○⇒⇒⇒🌊🥕\n",
      "○ ○ ○ ○ ○ ○ ○ ○ ○ ○███ ○⇒ ○ ○🌊🌊🌊\n",
      "○ ○🥕 ○ ○ ○ ○ ○ ○ ○ ○ ○ ○█ ○ ○ ○ ○ ○ ○\n",
      "○ ○ ○⇒ ○🌊🌊 ○ ○ ○ ○ ○ ○█ ○ ○ ○ ○ ○ ○\n",
      "⇒⇒⇒ ○🌊🌊🌊 ○ ○ ○ ○🥕 ○█ ○ ○ ○🧀 ○ ○\n",
      "⇒⇒⇒🌊🌊 ○ ○ ○ ○ ○🥕 ○ ○█ ○ ○ ○ ○ ○ ○\n",
      "○ ○🧀🌊🌊🌊🌊 ○ ○ ○ ○ ○ ○ ○ ○ ○ ○ ○ ○ ○\n",
      "\n"
     ]
    }
   ],
   "source": [
    "env.step(1)\n",
    "env.render()"
   ]
  },
  {
   "cell_type": "code",
   "execution_count": 7,
   "metadata": {},
   "outputs": [
    {
     "name": "stdout",
     "output_type": "stream",
     "text": [
      "○ ○ ○ ○ ○█ ○ ○ ○ ○ ○🌊🌊🌊🌊 ○ ○ ○ ○🥕\n",
      "○ ○ ○ ○ ○█ ○ ○🥕⇒🌊🌊🌊🥕🥕 ○ ○ ○ ○🥕\n",
      "○ ○ ○ ○🥕█ ○ ○ ○ ○ ○ ○ ○ ○ ○ ○ ○ ○ ○🥕\n",
      "○ ○ ○ ○ ○█ ○ ○ ○ ○ ○ ○ ○ ○ ○⇒⇒⇒🌊🥕\n",
      "○🐭 ○ ○ ○ ○ ○ ○ ○ ○███ ○⇒ ○ ○🌊🌊🌊\n",
      "○ ○🥕 ○ ○ ○ ○ ○ ○ ○ ○ ○ ○█ ○ ○ ○ ○ ○ ○\n",
      "○ ○ ○⇒ ○🌊🌊 ○ ○ ○ ○ ○ ○█ ○ ○ ○ ○ ○ ○\n",
      "⇒⇒⇒ ○🌊🌊🌊 ○ ○ ○ ○🥕 ○█ ○ ○ ○🧀 ○ ○\n",
      "⇒⇒⇒🌊🌊 ○ ○ ○ ○ ○🥕 ○ ○█ ○ ○ ○ ○ ○ ○\n",
      "○ ○🧀🌊🌊🌊🌊 ○ ○ ○ ○ ○ ○ ○ ○ ○ ○ ○ ○ ○\n",
      "\n"
     ]
    }
   ],
   "source": [
    "env.step(2)\n",
    "env.render()"
   ]
  },
  {
   "cell_type": "code",
   "execution_count": 8,
   "metadata": {},
   "outputs": [
    {
     "name": "stdout",
     "output_type": "stream",
     "text": [
      "○ ○ ○ ○ ○█ ○ ○ ○ ○ ○🌊🌊🌊🌊 ○ ○ ○ ○🥕\n",
      "○ ○ ○ ○ ○█ ○ ○🥕⇒🌊🌊🌊🥕🥕 ○ ○ ○ ○🥕\n",
      "○ ○ ○ ○🥕█ ○ ○ ○ ○ ○ ○ ○ ○ ○ ○ ○ ○ ○🥕\n",
      "○ ○ ○ ○ ○█ ○ ○ ○ ○ ○ ○ ○ ○ ○⇒⇒⇒🌊🥕\n",
      "○ ○ ○ ○ ○ ○ ○ ○ ○ ○███ ○⇒ ○ ○🌊🌊🌊\n",
      "○🐭🥕 ○ ○ ○ ○ ○ ○ ○ ○ ○ ○█ ○ ○ ○ ○ ○ ○\n",
      "○ ○ ○⇒ ○🌊🌊 ○ ○ ○ ○ ○ ○█ ○ ○ ○ ○ ○ ○\n",
      "⇒⇒⇒ ○🌊🌊🌊 ○ ○ ○ ○🥕 ○█ ○ ○ ○🧀 ○ ○\n",
      "⇒⇒⇒🌊🌊 ○ ○ ○ ○ ○🥕 ○ ○█ ○ ○ ○ ○ ○ ○\n",
      "○ ○🧀🌊🌊🌊🌊 ○ ○ ○ ○ ○ ○ ○ ○ ○ ○ ○ ○ ○\n",
      "\n"
     ]
    }
   ],
   "source": [
    "env.step(2)\n",
    "env.render()"
   ]
  },
  {
   "cell_type": "code",
   "execution_count": 9,
   "metadata": {},
   "outputs": [
    {
     "name": "stdout",
     "output_type": "stream",
     "text": [
      "○ ○ ○ ○ ○█ ○ ○ ○ ○ ○🌊🌊🌊🌊 ○ ○ ○ ○🥕\n",
      "○ ○ ○ ○ ○█ ○ ○🥕⇒🌊🌊🌊🥕🥕 ○ ○ ○ ○🥕\n",
      "○ ○ ○ ○🥕█ ○ ○ ○ ○ ○ ○ ○ ○ ○ ○ ○ ○ ○🥕\n",
      "○ ○ ○ ○ ○█ ○ ○ ○ ○ ○ ○ ○ ○ ○⇒⇒⇒🌊🥕\n",
      "○ ○ ○ ○ ○ ○ ○ ○ ○ ○███ ○⇒ ○ ○🌊🌊🌊\n",
      "○ ○🐭 ○ ○ ○ ○ ○ ○ ○ ○ ○ ○█ ○ ○ ○ ○ ○ ○\n",
      "○ ○ ○⇒ ○🌊🌊 ○ ○ ○ ○ ○ ○█ ○ ○ ○ ○ ○ ○\n",
      "⇒⇒⇒ ○🌊🌊🌊 ○ ○ ○ ○🥕 ○█ ○ ○ ○🧀 ○ ○\n",
      "⇒⇒⇒🌊🌊 ○ ○ ○ ○ ○🥕 ○ ○█ ○ ○ ○ ○ ○ ○\n",
      "○ ○🧀🌊🌊🌊🌊 ○ ○ ○ ○ ○ ○ ○ ○ ○ ○ ○ ○ ○\n",
      "\n"
     ]
    }
   ],
   "source": [
    "env.step(1)\n",
    "env.render()"
   ]
  },
  {
   "cell_type": "code",
   "execution_count": 10,
   "metadata": {},
   "outputs": [
    {
     "data": {
      "text/plain": [
       "(122, -1, False, {'prob': 1.0})"
      ]
     },
     "execution_count": 10,
     "metadata": {},
     "output_type": "execute_result"
    }
   ],
   "source": [
    "env.step(2)"
   ]
  },
  {
   "cell_type": "code",
   "execution_count": 11,
   "metadata": {},
   "outputs": [
    {
     "name": "stdout",
     "output_type": "stream",
     "text": [
      "○ ○ ○ ○ ○█ ○ ○ ○ ○ ○🌊🌊🌊🌊 ○ ○ ○ ○🥕\n",
      "○ ○ ○ ○ ○█ ○ ○🥕⇒🌊🌊🌊🥕🥕 ○ ○ ○ ○🥕\n",
      "○ ○ ○ ○🥕█ ○ ○ ○ ○ ○ ○ ○ ○ ○ ○ ○ ○ ○🥕\n",
      "○ ○ ○ ○ ○█ ○ ○ ○ ○ ○ ○ ○ ○ ○⇒⇒⇒🌊🥕\n",
      "○ ○ ○ ○ ○ ○ ○ ○ ○ ○███ ○⇒ ○ ○🌊🌊🌊\n",
      "○ ○ ○ ○ ○ ○ ○ ○ ○ ○ ○ ○ ○█ ○ ○ ○ ○ ○ ○\n",
      "○ ○🐭⇒ ○🌊🌊 ○ ○ ○ ○ ○ ○█ ○ ○ ○ ○ ○ ○\n",
      "⇒⇒⇒ ○🌊🌊🌊 ○ ○ ○ ○🥕 ○█ ○ ○ ○🧀 ○ ○\n",
      "⇒⇒⇒🌊🌊 ○ ○ ○ ○ ○🥕 ○ ○█ ○ ○ ○ ○ ○ ○\n",
      "○ ○🧀🌊🌊🌊🌊 ○ ○ ○ ○ ○ ○ ○ ○ ○ ○ ○ ○ ○\n",
      "\n"
     ]
    }
   ],
   "source": [
    "env.render()"
   ]
  },
  {
   "cell_type": "code",
   "execution_count": 12,
   "metadata": {},
   "outputs": [
    {
     "data": {
      "text/plain": [
       "(102, -1, False, {'prob': 1.0})"
      ]
     },
     "execution_count": 12,
     "metadata": {},
     "output_type": "execute_result"
    }
   ],
   "source": [
    "env.step(0)"
   ]
  },
  {
   "cell_type": "code",
   "execution_count": 13,
   "metadata": {},
   "outputs": [
    {
     "name": "stdout",
     "output_type": "stream",
     "text": [
      "○ ○ ○ ○ ○█ ○ ○ ○ ○ ○🌊🌊🌊🌊 ○ ○ ○ ○🥕\n",
      "○ ○ ○ ○ ○█ ○ ○🥕⇒🌊🌊🌊🥕🥕 ○ ○ ○ ○🥕\n",
      "○ ○ ○ ○🥕█ ○ ○ ○ ○ ○ ○ ○ ○ ○ ○ ○ ○ ○🥕\n",
      "○ ○ ○ ○ ○█ ○ ○ ○ ○ ○ ○ ○ ○ ○⇒⇒⇒🌊🥕\n",
      "○ ○ ○ ○ ○ ○ ○ ○ ○ ○███ ○⇒ ○ ○🌊🌊🌊\n",
      "○ ○🐭 ○ ○ ○ ○ ○ ○ ○ ○ ○ ○█ ○ ○ ○ ○ ○ ○\n",
      "○ ○ ○⇒ ○🌊🌊 ○ ○ ○ ○ ○ ○█ ○ ○ ○ ○ ○ ○\n",
      "⇒⇒⇒ ○🌊🌊🌊 ○ ○ ○ ○🥕 ○█ ○ ○ ○🧀 ○ ○\n",
      "⇒⇒⇒🌊🌊 ○ ○ ○ ○ ○🥕 ○ ○█ ○ ○ ○ ○ ○ ○\n",
      "○ ○🧀🌊🌊🌊🌊 ○ ○ ○ ○ ○ ○ ○ ○ ○ ○ ○ ○ ○\n",
      "\n"
     ]
    }
   ],
   "source": [
    "env.render()"
   ]
  },
  {
   "cell_type": "code",
   "execution_count": 14,
   "metadata": {},
   "outputs": [
    {
     "data": {
      "image/png": "[encoded data removed]",
      "text/plain": [
       "<Figure size 720x360 with 1 Axes>"
      ]
     },
     "metadata": {
      "needs_background": "light"
     },
     "output_type": "display_data"
    }
   ],
   "source": [
    "env.render_trajectory([0,20,21,22,23,24,44,64,84,85,86,87,88,108,109,110,111,91,92,])"
   ]
  },
  {
   "cell_type": "code",
   "execution_count": 15,
   "metadata": {},
   "outputs": [
    {
     "ename": "TypeError",
     "evalue": "'bool' object is not subscriptable",
     "output_type": "error",
     "traceback": [
      "\u001b[1;31m---------------------------------------------------------------------------\u001b[0m",
      "\u001b[1;31mTypeError\u001b[0m                                 Traceback (most recent call last)",
      "\u001b[1;32m<ipython-input-15-8a5713ad44da>\u001b[0m in \u001b[0;36m<module>\u001b[1;34m\u001b[0m\n\u001b[1;32m----> 1\u001b[1;33m \u001b[0menv\u001b[0m\u001b[1;33m.\u001b[0m\u001b[0mstep\u001b[0m\u001b[1;33m(\u001b[0m\u001b[1;36m2\u001b[0m\u001b[1;33m)\u001b[0m\u001b[1;33m\u001b[0m\u001b[1;33m\u001b[0m\u001b[0m\n\u001b[0m",
      "\u001b[1;32m~\\Desktop\\Reinforcement_Project\\i_creation_environnement.ipynb\u001b[0m in \u001b[0;36mstep\u001b[1;34m(self, action)\u001b[0m\n",
      "\u001b[1;31mTypeError\u001b[0m: 'bool' object is not subscriptable"
     ]
    }
   ],
   "source": [
    "env.step(2)"
   ]
  },
  {
   "cell_type": "code",
   "execution_count": null,
   "metadata": {},
   "outputs": [],
   "source": [
    "env.render_trajectory([0,20,21,22,23,24,44,64,84,85,86,87,88,108,109,110,111,91,92], [-1,-1,-1,-1,10,10,-1,-1,50])"
   ]
  },
  {
   "cell_type": "code",
   "execution_count": null,
   "metadata": {},
   "outputs": [],
   "source": [
    "env._carrots"
   ]
  },
  {
   "cell_type": "code",
   "execution_count": null,
   "metadata": {},
   "outputs": [],
   "source": []
  }
 ],
 "metadata": {
  "kernelspec": {
   "display_name": "Python 3",
   "language": "python",
   "name": "python3"
  },
  "language_info": {
   "codemirror_mode": {
    "name": "ipython",
    "version": 3
   },
   "file_extension": ".py",
   "mimetype": "text/x-python",
   "name": "python",
   "nbconvert_exporter": "python",
   "pygments_lexer": "ipython3",
   "version": "3.7.4"
  }
 },
 "nbformat": 4,
 "nbformat_minor": 2
}
