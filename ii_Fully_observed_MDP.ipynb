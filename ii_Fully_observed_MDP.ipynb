{
 "cells": [
  {
   "cell_type": "code",
   "execution_count": 1,
   "metadata": {},
   "outputs": [
    {
     "name": "stdout",
     "output_type": "stream",
     "text": [
      "importing Jupyter notebook from i_creation_environnement.ipynb\n"
     ]
    }
   ],
   "source": [
    "import import_ipynb\n",
    "import i_creation_environnement\n",
    "import numpy as np\n",
    "import matplotlib.pyplot as plt"
   ]
  },
  {
   "cell_type": "code",
   "execution_count": 2,
   "metadata": {},
   "outputs": [],
   "source": [
    "env = i_creation_environnement.AugmentedGridworldEnv()"
   ]
  },
  {
   "cell_type": "markdown",
   "metadata": {},
   "source": [
    "# Value Iteration"
   ]
  },
  {
   "cell_type": "code",
   "execution_count": 3,
   "metadata": {},
   "outputs": [],
   "source": [
    "def value_iteration(env, theta=0.0001, discount_factor=1.0):\n",
    "    \"\"\"\n",
    "    Value Iteration Algorithm.\n",
    "    \n",
    "    Args:\n",
    "        env: OpenAI env. env.P represents the transition probabilities of the environment.\n",
    "            env.P[s][a] is a list of transition tuples (prob, next_state, reward, done).\n",
    "            env.nS is a number of states in the environment. \n",
    "            env.nA is a number of actions in the environment.\n",
    "        theta: We stop evaluation once our value function change is less than theta for all states.\n",
    "        discount_factor: Gamma discount factor.\n",
    "        \n",
    "    Returns:\n",
    "        A tuple (policy, V) of the optimal policy and the optimal value function.\n",
    "    \"\"\"\n",
    "    \n",
    "    def one_step_lookahead(state, V):\n",
    "        \"\"\"\n",
    "        Helper function to calculate the value for all action in a given state.\n",
    "        \n",
    "        Args:\n",
    "            state: The state to consider (int)\n",
    "            V: The value to use as an estimator, Vector of length env.nS\n",
    "        \n",
    "        Returns:\n",
    "            A vector of length env.nA containing the expected value of each action.\n",
    "        \"\"\"\n",
    "        A = np.zeros(env.nA)\n",
    "        for a in range(env.nA):\n",
    "            for prob, next_state, reward, done in env.P[state][a]:\n",
    "                A[a] += prob * (reward + discount_factor * V[next_state])\n",
    "        return A\n",
    "    \n",
    "    V = np.zeros(env.nS)\n",
    "    for i in range(1000):\n",
    "        # Stopping condition\n",
    "        delta = 0\n",
    "        # Update each state...\n",
    "        for s in range(env.nS):\n",
    "            # Do a one-step lookahead to find the best action\n",
    "            A = one_step_lookahead(s, V)\n",
    "            best_action_value = np.max(A)\n",
    "            # Calculate delta across all states seen so far\n",
    "            delta = max(delta, np.abs(best_action_value - V[s]))\n",
    "            # Update the value function. Ref: Sutton book eq. 4.10. \n",
    "            V[s] = best_action_value        \n",
    "        # Check if we can stop \n",
    "        if delta < theta:\n",
    "            print(\"\")\n",
    "            print(\" --------- >       VALUE FUNCTION STABLE\")\n",
    "            break\n",
    "            \n",
    "        if i%30==0:\n",
    "            print(\"Step :\", i, \"     Delta : \", delta)\n",
    "            plt.imshow(V.reshape(env.shape))\n",
    "            plt.show()\n",
    "    \n",
    "    # Create a deterministic policy using the optimal value function\n",
    "    policy = np.zeros([env.nS, env.nA])\n",
    "    for s in range(env.nS):\n",
    "        # One step lookahead to find the best action for this state\n",
    "        A = one_step_lookahead(s, V)\n",
    "        best_action = np.argmax(A)\n",
    "        # Always take the best action\n",
    "        policy[s, best_action] = 1.0\n",
    "    \n",
    "    return policy, V"
   ]
  },
  {
   "cell_type": "code",
   "execution_count": 4,
   "metadata": {},
   "outputs": [
    {
     "name": "stdout",
     "output_type": "stream",
     "text": [
      "Step : 0      Delta :  97.5\n"
     ]
    },
    {
     "data": {
      "image/png": "[encoded data removed]",
      "text/plain": [
       "<Figure size 432x288 with 1 Axes>"
      ]
     },
     "metadata": {
      "needs_background": "light"
     },
     "output_type": "display_data"
    },
    {
     "name": "stdout",
     "output_type": "stream",
     "text": [
      "Step : 30      Delta :  10.731938197146974\n"
     ]
    },
    {
     "data": {
      "image/png": "[encoded data removed]",
      "text/plain": [
       "<Figure size 432x288 with 1 Axes>"
      ]
     },
     "metadata": {
      "needs_background": "light"
     },
     "output_type": "display_data"
    },
    {
     "name": "stdout",
     "output_type": "stream",
     "text": [
      "Step : 60      Delta :  2.303489949347636\n"
     ]
    },
    {
     "data": {
      "image/png": "[encoded data removed]",
      "text/plain": [
       "<Figure size 432x288 with 1 Axes>"
      ]
     },
     "metadata": {
      "needs_background": "light"
     },
     "output_type": "display_data"
    },
    {
     "name": "stdout",
     "output_type": "stream",
     "text": [
      "Step : 90      Delta :  0.4944182354830673\n"
     ]
    },
    {
     "data": {
      "image/png": "[encoded data removed]",
      "text/plain": [
       "<Figure size 432x288 with 1 Axes>"
      ]
     },
     "metadata": {
      "needs_background": "light"
     },
     "output_type": "display_data"
    },
    {
     "name": "stdout",
     "output_type": "stream",
     "text": [
      "Step : 120      Delta :  0.1061213189349246\n"
     ]
    },
    {
     "data": {
      "image/png": "[encoded data removed]",
      "text/plain": [
       "<Figure size 432x288 with 1 Axes>"
      ]
     },
     "metadata": {
      "needs_background": "light"
     },
     "output_type": "display_data"
    },
    {
     "name": "stdout",
     "output_type": "stream",
     "text": [
      "Step : 150      Delta :  0.02277774872425198\n"
     ]
    },
    {
     "data": {
      "image/png": "[encoded data removed]",
      "text/plain": [
       "<Figure size 432x288 with 1 Axes>"
      ]
     },
     "metadata": {
      "needs_background": "light"
     },
     "output_type": "display_data"
    },
    {
     "name": "stdout",
     "output_type": "stream",
     "text": [
      "Step : 180      Delta :  0.004888987831577651\n"
     ]
    },
    {
     "data": {
      "image/png": "[encoded data removed]",
      "text/plain": [
       "<Figure size 432x288 with 1 Axes>"
      ]
     },
     "metadata": {
      "needs_background": "light"
     },
     "output_type": "display_data"
    },
    {
     "name": "stdout",
     "output_type": "stream",
     "text": [
      "Step : 210      Delta :  0.001049366305210242\n"
     ]
    },
    {
     "data": {
      "image/png": "[encoded data removed]",
      "text/plain": [
       "<Figure size 432x288 with 1 Axes>"
      ]
     },
     "metadata": {
      "needs_background": "light"
     },
     "output_type": "display_data"
    },
    {
     "name": "stdout",
     "output_type": "stream",
     "text": [
      "Step : 240      Delta :  0.00022523468680901715\n"
     ]
    },
    {
     "data": {
      "image/png": "[encoded data removed]",
      "text/plain": [
       "<Figure size 432x288 with 1 Axes>"
      ]
     },
     "metadata": {
      "needs_background": "light"
     },
     "output_type": "display_data"
    },
    {
     "name": "stdout",
     "output_type": "stream",
     "text": [
      "\n",
      " --------- >       VALUE FUNCTION STABLE\n"
     ]
    }
   ],
   "source": [
    "policy_1, v_1 = value_iteration(env, discount_factor = 0.95)"
   ]
  },
  {
   "cell_type": "markdown",
   "metadata": {},
   "source": [
    "### Final results for Value Iteration"
   ]
  },
  {
   "cell_type": "code",
   "execution_count": 5,
   "metadata": {},
   "outputs": [
    {
     "name": "stdout",
     "output_type": "stream",
     "text": [
      "Reshaped Grid Policy (0=up, 1=right, 2=down, 3=left):\n",
      "\n",
      "↓↓↓↓↓←↓↓↓←←←←↓↓↓↓↓→↓\n",
      "↓↓↓↓↓←↓↓↓↓↓↓↓↓→↓↓↓↓↓\n",
      "↓↓↓↓↓←↓↓↓↓↓↓↓↓→↓←←←←\n",
      "↓↓↓↓↓↓↓↓↓↓←←←←→↓↓↑↑↑\n",
      "↓↓↓↓↓↓↓↓↓↓↓↓↓→→→↓↓↓↓\n",
      "↓↓↓←←←←←←←←←←←→→→↓↓↓\n",
      "↓←←↑↑↑↑↑↑↑↑↑↑←→→→↓↓↓\n",
      "↓↓↓↓←↓↓↑↑↑↑↑←→→→→→←←\n",
      "↓↓↓↓↓↓←←←←←←←→→→→↑↑↑\n",
      "→→↓←←←←↑↑↑↑↑↑→→→→↑↑↑\n",
      "\n",
      "\n",
      "Value Function:\n",
      "\n"
     ]
    },
    {
     "data": {
      "image/png": "[encoded data removed]",
      "text/plain": [
       "<Figure size 432x288 with 1 Axes>"
      ]
     },
     "metadata": {
      "needs_background": "light"
     },
     "output_type": "display_data"
    }
   ],
   "source": [
    "print(\"Reshaped Grid Policy (0=up, 1=right, 2=down, 3=left):\")\n",
    "print(\"\")\n",
    "env.render_policy(np.reshape(np.argmax(policy_1, axis=1), env.shape))\n",
    "print(\"\")\n",
    "\n",
    "print(\"Value Function:\")\n",
    "plt.imshow(v_1.reshape(env.shape))\n",
    "print(\"\")"
   ]
  },
  {
   "cell_type": "markdown",
   "metadata": {},
   "source": [
    "# Policy Evaluation"
   ]
  },
  {
   "cell_type": "code",
   "execution_count": 6,
   "metadata": {},
   "outputs": [],
   "source": [
    "def policy_eval(policy, env, discount_factor=0.99, theta=0.000001):\n",
    "    \"\"\"\n",
    "    Evaluate a policy given an environment and a full description of the environment's dynamics.\n",
    "    \n",
    "    Args:\n",
    "        policy: [S, A] shaped matrix representing the policy.\n",
    "        env: OpenAI env. env.P represents the transition probabilities of the environment.\n",
    "            env.P[s][a] is a list of transition tuples (prob, next_state, reward, done).\n",
    "            env.nS is a number of states in the environment. \n",
    "            env.nA is a number of actions in the environment.\n",
    "        theta: We stop evaluation once our value function change is less than theta for all states.\n",
    "        discount_factor: Gamma discount factor.\n",
    "    \n",
    "    Returns:\n",
    "        Vector of length env.nS representing the value function.\n",
    "    \"\"\"\n",
    "    \n",
    "    # Start with a random (all 0) value function\n",
    "\n",
    "    V = np.zeros(env.nS)\n",
    "    while True:\n",
    "        delta = 0\n",
    "        # For each state, perform a \"full backup\"\n",
    "        for s in range(env.nS):  # for all the states\n",
    "            v = 0\n",
    "            # Look at the possible next actions\n",
    "            for a, action_prob in enumerate(policy[s]):\n",
    "                \n",
    "                # For each action, look at the possible next states...\n",
    "                for  prob, next_state, reward, done in env.P[s][a]:\n",
    "                    \n",
    "                    # Calculate the expected value. Ref: Sutton book eq. 4.6.\n",
    "                    v += action_prob * prob * (reward + discount_factor * V[next_state])\n",
    "                    \n",
    "            # How much our value function changed (across any states)\n",
    "            delta = max(delta, np.abs(v - V[s]))\n",
    "            V[s] = v\n",
    "            \n",
    "        # Stop evaluating once our value function change is below a threshold\n",
    "        #print(delta)\n",
    "        if delta < theta:\n",
    "            break\n",
    "    return np.array(V), delta"
   ]
  },
  {
   "cell_type": "code",
   "execution_count": 7,
   "metadata": {},
   "outputs": [],
   "source": [
    "random_policy = np.ones([env.nS, env.nA]) / env.nA\n",
    "v, delta = policy_eval(random_policy, env, 0.9)"
   ]
  },
  {
   "cell_type": "code",
   "execution_count": 8,
   "metadata": {},
   "outputs": [
    {
     "name": "stdout",
     "output_type": "stream",
     "text": [
      "Reshaped Grid Value Function:\n",
      "[[-14.7 -14.1 -12.7 -9.8 -5.11 -7.33 -25.2 -58.7 -116 -222 -346 -446 -482 -412 -304 -197 -112 -73.8 -48.9 -28.8]\n",
      " [-17.4 -16.9 -15.3 -11.5 -4.46 -7.13 -25 -56.6 -126 -298 -298 -373 -359 -311 -227 -148 -110 -88.8 -73.8 -53.8]\n",
      " [-23.8 -23.7 -22.4 -17.3 -12.1 -6.28 -25.9 -49.8 -84.6 -148 -194 -222 -215 -171 -143 -132 -136 -133 -144 -115]\n",
      " [-36.6 -37.7 -39 -38.5 -28.6 -34.5 -36.8 -49.7 -60.3 -74.9 -81.5 -89.5 -91.1 -96.6 -115 -153 -226 -216 -216 -230]\n",
      " [-60.1 -63.7 -70.2 -81.9 -85.5 -84.5 -84.7 -69.4 -54.5 -38.8 -31.5 -22.2 -32.7 -48.1 -115 -115 -171 -206 -269 -261]\n",
      " [-102 -111 -135 -165 -181 -202 -181 -115 -69.4 -39.8 -16.1 -6.73 -2.82 -22.6 -46.4 -66.8 -97.3 -146 -179 -187]\n",
      " [-177 -199 -250 -345 -345 -338 -288 -187 -94.4 -48.2 -21.8 -7.63 -3.56 -6.05 -21.1 -33.9 -44 -53 -78.3 -89.9]\n",
      " [-302 -344 -438 -438 -445 -442 -350 -221 -110 -53.9 -20.6 -9.55 -2.04 -3.27 -10.3 -14.5 -6.94 -18.9 -21.9 -39.8]\n",
      " [-328 -400 -493 -493 -530 -498 -381 -219 -116 -56.3 -26.2 -7.76 -4.82 -4.55 -6.63 -8.8 -5.64 2.05 -12.6 -20.8]\n",
      " [-254 -288 -391 -506 -583 -528 -401 -250 -125 -62 -27.4 -13.9 -8.31 -5.44 -7.1 -7.92 -6.94 -5.89 -11 -14.8]]\n"
     ]
    }
   ],
   "source": [
    "print(\"Reshaped Grid Value Function:\")\n",
    "vv = v.reshape(env.shape)\n",
    "\n",
    "np.set_printoptions( threshold=20, edgeitems=10, linewidth=140,formatter = dict( float = lambda x: \"%.3g\" % x )) \n",
    "\n",
    "print(np.around(vv, 2))"
   ]
  },
  {
   "cell_type": "code",
   "execution_count": 9,
   "metadata": {},
   "outputs": [
    {
     "data": {
      "text/plain": [
       "<matplotlib.image.AxesImage at 0x23ca317c7c8>"
      ]
     },
     "execution_count": 9,
     "metadata": {},
     "output_type": "execute_result"
    },
    {
     "data": {
      "image/png": "[encoded data removed]",
      "text/plain": [
       "<Figure size 432x288 with 1 Axes>"
      ]
     },
     "metadata": {
      "needs_background": "light"
     },
     "output_type": "display_data"
    }
   ],
   "source": [
    "plt.imshow(vv)"
   ]
  },
  {
   "cell_type": "markdown",
   "metadata": {},
   "source": [
    "# Policy Iteration"
   ]
  },
  {
   "cell_type": "code",
   "execution_count": 10,
   "metadata": {},
   "outputs": [],
   "source": [
    "def policy_improvement(env, policy_eval_fn=policy_eval, discount_factor=1):\n",
    "    \"\"\"\n",
    "    Policy Improvement Algorithm. Iteratively evaluates and improves a policy\n",
    "    until an optimal policy is found.\n",
    "    \n",
    "    Args:\n",
    "        env: The OpenAI environment.\n",
    "        policy_eval_fn: Policy Evaluation function that takes 3 arguments:\n",
    "            policy, env, discount_factor.\n",
    "        discount_factor: gamma discount factor.\n",
    "        \n",
    "    Returns:\n",
    "        A tuple (policy, V). \n",
    "        policy is the optimal policy, a matrix of shape [S, A] where each state s\n",
    "        contains a valid probability distribution over actions.\n",
    "        V is the value function for the optimal policy.\n",
    "        \n",
    "    \"\"\"\n",
    "    \n",
    "    \n",
    "\n",
    "    def one_step_lookahead(state, V):\n",
    "        \"\"\"\n",
    "        Helper function to calculate the value for all action in a given state.\n",
    "        \n",
    "        Args:\n",
    "            state: The state to consider (int)\n",
    "            V: The value to use as an estimator, Vector of length env.nS\n",
    "        \n",
    "        Returns:\n",
    "            A vector of length env.nA containing the expected value of each action.\n",
    "        \"\"\"\n",
    "        A = np.zeros(env.nA)\n",
    "        for a in range(env.nA):\n",
    "            for prob, next_state, reward, done in env.P[state][a]:\n",
    "                A[a] += prob * (reward + discount_factor * V[next_state])\n",
    "        return A\n",
    "    \n",
    "    # Start with a random policy\n",
    "    policy = np.ones([env.nS, env.nA]) / env.nA\n",
    "    ancient_V = np.zeros(env.nS)\n",
    "\n",
    "    #while True:\n",
    "    for i in range(30):\n",
    "        \n",
    "        # Evaluate the current policy\n",
    "        V, delta = policy_eval_fn(policy, env, discount_factor)\n",
    "        print(\"###############################    STEP  : \", i, \"   ##############################\")\n",
    "        # Will be set to false if we make any changes to the policy\n",
    "        policy_stable = True\n",
    "        \n",
    "        # For each state...\n",
    "        for s in range(env.nS):\n",
    "            # The best action we would take under the current policy\n",
    "            chosen_a = np.argmax(policy[s])\n",
    "            \n",
    "            # Find the best action by one-step lookahead\n",
    "            # Ties are resolved arbitarily\n",
    "            action_values = one_step_lookahead(s, V)\n",
    "            best_a = np.argmax(action_values)\n",
    "            \n",
    "            # Greedily update the policy\n",
    "            if chosen_a != best_a:\n",
    "                policy_stable = False\n",
    "            policy[s] = np.eye(env.nA)[best_a]\n",
    "        \n",
    "        # If the policy is stable we've found an optimal policy. Return it\n",
    "        if policy_stable :\n",
    "            print(\"\")\n",
    "            print(\"----------> STABLE POLICY\")\n",
    "            return policy, V\n",
    "        \n",
    "        print(\"\")\n",
    "        print(\"CURRENT POLICY\")\n",
    "        env.render_policy(np.reshape(np.argmax(policy, axis=1), env.shape))\n",
    "        print(\"\")\n",
    "        \n",
    "        print(\"DIFFERENCES WITH PREVIOUS VALUE FUNCTION\")\n",
    "        plt.imshow(np.reshape(V - ancient_V, env.shape))\n",
    "        plt.show()\n",
    "        print(\"\")\n",
    "        \n",
    "        print(\"CURRENT VALUE FUNCTION\")\n",
    "        plt.imshow(np.reshape(V, env.shape))\n",
    "        plt.show()\n",
    "        print(\"\")\n",
    "        print(\"\")\n",
    "        \n",
    "    \n",
    "        ancient_V = V\n",
    "        \n",
    "        #rint(np.reshape(np.argmax(policy, axis=1), env.shape))\n",
    "        #rint(V.reshape(env.shape))\n",
    "        \n",
    "    return policy, V"
   ]
  },
  {
   "cell_type": "code",
   "execution_count": 11,
   "metadata": {},
   "outputs": [
    {
     "name": "stdout",
     "output_type": "stream",
     "text": [
      "###############################    STEP  :  0    ##############################\n",
      "\n",
      "CURRENT POLICY\n",
      "→→→→→↑←←←←←←↓↓→→→→→↑\n",
      "↑↑→→→↑←←←↓↓↓↓↓↓→→→→↑\n",
      "↑↑↑→→↑←←←↓↓↓↓↓↓→↑↑↑↑\n",
      "↑↑↑↑→↑←←←↓↓↓↓↓←↑↑↑↑↑\n",
      "↑↑↑↑↑↑↑↑→→→→←↓↓↓↓↓↓↓\n",
      "↑↑↑↑↑↑↑↑→→↑↑↑↓←↓↓↓↓↓\n",
      "↑↑↑↑↑↑↑→→→→→→↑←↓↓↓↓↓\n",
      "↑↑↑↑↑↑→→→→→→→↑←←→↓←↓\n",
      "↓↓↑↑→→→→→→→→→↑←←←↑←↓\n",
      "↓←←←→→→→→→→→→↑←←←←←←\n",
      "\n",
      "\n",
      "DIFFERENCES WITH PREVIOUS VALUE FUNCTION\n"
     ]
    },
    {
     "data": {
      "image/png": "[encoded data removed]",
      "text/plain": [
       "<Figure size 432x288 with 1 Axes>"
      ]
     },
     "metadata": {
      "needs_background": "light"
     },
     "output_type": "display_data"
    },
    {
     "name": "stdout",
     "output_type": "stream",
     "text": [
      "\n",
      "CURRENT VALUE FUNCTION\n"
     ]
    },
    {
     "data": {
      "image/png": "[encoded data removed]",
      "text/plain": [
       "<Figure size 432x288 with 1 Axes>"
      ]
     },
     "metadata": {
      "needs_background": "light"
     },
     "output_type": "display_data"
    },
    {
     "name": "stdout",
     "output_type": "stream",
     "text": [
      "\n",
      "\n",
      "###############################    STEP  :  1    ##############################\n",
      "\n",
      "CURRENT POLICY\n",
      "→→→→→↑←←↓↓←←→→→→→→→↓\n",
      "↑→→↓↓↑←→←↓↓↓→→→→→→→↓\n",
      "↑→→→←←←←↑→↓↓↓↑→→→→→↓\n",
      "↑→→↑↑↑←←→→↓↓↓↓→↓↓↓↓→\n",
      "↑→→↑←↑↑↑→→→→←↓→→↓↓↓←\n",
      "↑→→↑←↑↑↑↑↑↑↑↑↓←→→↓↓←\n",
      "↑→↑↑↑↑↑↓↓↓↓↓→↑←→→↓↓←\n",
      "↓↑↑↑↑↓→→→→→←←↑←→→→←←\n",
      "↑↓↑↑→→→→→→↑↑→↑←←→↑↑←\n",
      "↓→↓←←↑↑↑↑↑↑↑↑↑↑↑↑↑↑←\n",
      "\n",
      "\n",
      "DIFFERENCES WITH PREVIOUS VALUE FUNCTION\n"
     ]
    },
    {
     "data": {
      "image/png": "[encoded data removed]",
      "text/plain": [
       "<Figure size 432x288 with 1 Axes>"
      ]
     },
     "metadata": {
      "needs_background": "light"
     },
     "output_type": "display_data"
    },
    {
     "name": "stdout",
     "output_type": "stream",
     "text": [
      "\n",
      "CURRENT VALUE FUNCTION\n"
     ]
    },
    {
     "data": {
      "image/png": "[encoded data removed]",
      "text/plain": [
       "<Figure size 432x288 with 1 Axes>"
      ]
     },
     "metadata": {
      "needs_background": "light"
     },
     "output_type": "display_data"
    },
    {
     "name": "stdout",
     "output_type": "stream",
     "text": [
      "\n",
      "\n",
      "###############################    STEP  :  2    ##############################\n",
      "\n",
      "CURRENT POLICY\n",
      "→↓↓↓↓↑←→↓←←←↓↓↓→→→→↑\n",
      "→→→→↓←→→↑↓↓→→→←→→→→↑\n",
      "→→→→↑←←↑↑←↓↓→↑↓↓↓↓→↑\n",
      "→↑↑↑↑←←←↑→↓↓↓→→↓↓↓↓↑\n",
      "→↓↓↑↑←↑↑→→→→←→→→↓↓↓↓\n",
      "→→↓←↑←↑↓↓↓↓↓↑↓→→→↓↓↓\n",
      "↓↑↑↑↑←→→→→→↓↓↑→→→↓↓↓\n",
      "↓↑↑↑↑↓→→→→→↑←←→→→↑←←\n",
      "↓↓↓↓↓→→→→→↑↑↑↑←↑↑↑↑↑\n",
      "→→↓←←←↑↑↑↑↑↑←↑↑→↑↑↑↑\n",
      "\n",
      "\n",
      "DIFFERENCES WITH PREVIOUS VALUE FUNCTION\n"
     ]
    },
    {
     "data": {
      "image/png": "[encoded data removed]",
      "text/plain": [
       "<Figure size 432x288 with 1 Axes>"
      ]
     },
     "metadata": {
      "needs_background": "light"
     },
     "output_type": "display_data"
    },
    {
     "name": "stdout",
     "output_type": "stream",
     "text": [
      "\n",
      "CURRENT VALUE FUNCTION\n"
     ]
    },
    {
     "data": {
      "image/png": "[encoded data removed]",
      "text/plain": [
       "<Figure size 432x288 with 1 Axes>"
      ]
     },
     "metadata": {
      "needs_background": "light"
     },
     "output_type": "display_data"
    },
    {
     "name": "stdout",
     "output_type": "stream",
     "text": [
      "\n",
      "\n",
      "###############################    STEP  :  3    ##############################\n",
      "\n",
      "CURRENT POLICY\n",
      "→→→→↓←→→↓←←←→↓↓→→→→↓\n",
      "→→→→↓←→→↑↑↑→→→↓↓↓↓→↓\n",
      "→→→→↑←↑↑↑←←→→→→↓←←←↓\n",
      "↓↓↓↑↑←←↑↑↑↓↓→→→↓↓↓↓↓\n",
      "→→↓↓↑←←↓↑↓↓↓→→→→↓↓↓↓\n",
      "↓→↑←←↑←→→→→↓↓→→→→↓↓↓\n",
      "↓←↑↑↑↑→→→→→↓↓→→→→↓↓↓\n",
      "↓↓↓↓↓↓→→→→→↑←→→→→↑←←\n",
      "↓↓↓↓↓↓→→→→↑↑↑←↑↑↑↑↑↑\n",
      "→→↓←←←←↑↑↑↑↑↑←→↑↑↑↑↑\n",
      "\n",
      "\n",
      "DIFFERENCES WITH PREVIOUS VALUE FUNCTION\n"
     ]
    },
    {
     "data": {
      "image/png": "[encoded data removed]",
      "text/plain": [
       "<Figure size 432x288 with 1 Axes>"
      ]
     },
     "metadata": {
      "needs_background": "light"
     },
     "output_type": "display_data"
    },
    {
     "name": "stdout",
     "output_type": "stream",
     "text": [
      "\n",
      "CURRENT VALUE FUNCTION\n"
     ]
    },
    {
     "data": {
      "image/png": "[encoded data removed]",
      "text/plain": [
       "<Figure size 432x288 with 1 Axes>"
      ]
     },
     "metadata": {
      "needs_background": "light"
     },
     "output_type": "display_data"
    },
    {
     "name": "stdout",
     "output_type": "stream",
     "text": [
      "\n",
      "\n",
      "###############################    STEP  :  4    ##############################\n",
      "\n",
      "CURRENT POLICY\n",
      "→→→→↓←→→↓←←→→↓↓↓↓↓→↓\n",
      "→→→→↓←→→↑→→↓→→→↓↓↓↓↓\n",
      "→→→→↑←↑↑↑←→→→→→↓←←←←\n",
      "→→↓↑↑←↑↑↑↑↑→→→→↓↓↑↑↓\n",
      "↓→↓↓↑←←↑↑↑↓↓→→→→↓↓↓↓\n",
      "↓↓↑←←←↑→↑→→↓↓→→→→↓↓↓\n",
      "↓←←↓↓↓↑→→→→↓↓→→→→↓↓↓\n",
      "↓↓↓↓←↓←→→→→↑←→→→→↑←←\n",
      "↓↓↓↓↓↓←→→→↑↑↑→↑↑↑↑↑↑\n",
      "→→↓←←←←←↑↑↑↑↑→↑↑↑↑↑↑\n",
      "\n",
      "\n",
      "DIFFERENCES WITH PREVIOUS VALUE FUNCTION\n"
     ]
    },
    {
     "data": {
      "image/png": "[encoded data removed]",
      "text/plain": [
       "<Figure size 432x288 with 1 Axes>"
      ]
     },
     "metadata": {
      "needs_background": "light"
     },
     "output_type": "display_data"
    },
    {
     "name": "stdout",
     "output_type": "stream",
     "text": [
      "\n",
      "CURRENT VALUE FUNCTION\n"
     ]
    },
    {
     "data": {
      "image/png": "[encoded data removed]",
      "text/plain": [
       "<Figure size 432x288 with 1 Axes>"
      ]
     },
     "metadata": {
      "needs_background": "light"
     },
     "output_type": "display_data"
    },
    {
     "name": "stdout",
     "output_type": "stream",
     "text": [
      "\n",
      "\n",
      "###############################    STEP  :  5    ##############################\n",
      "\n",
      "CURRENT POLICY\n",
      "→→→→↓←→→↓↓←↓→↓↓↓↓↓→↓\n",
      "→→→→↓←→→→↓↓↓→→→↓↓↓↓↓\n",
      "→→→→↑←↑↑↑→→→→→→↓←←←←\n",
      "↓→↓↑↑←↑↑↑→→→→→→↓↓↑↑↑\n",
      "↓↓↓↓↑←←↑↑↑↑↑→→→→↓↓↓↓\n",
      "↓↓↓↓↓↓←↑↑→→↓↓→→→→↓↓↓\n",
      "↓←←↓↓←↓→→→→↓↓→→→→↓↓↓\n",
      "↓↓↓↓←↓↓←→→→↑←→→→→↑←←\n",
      "↓↓↓↓↓↓←←→→↑↑↑→↑↑↑↑↑↑\n",
      "→→↓←←←←←←↑↑↑→→↑↑↑↑↑↑\n",
      "\n",
      "\n",
      "DIFFERENCES WITH PREVIOUS VALUE FUNCTION\n"
     ]
    },
    {
     "data": {
      "image/png": "[encoded data removed]",
      "text/plain": [
       "<Figure size 432x288 with 1 Axes>"
      ]
     },
     "metadata": {
      "needs_background": "light"
     },
     "output_type": "display_data"
    },
    {
     "name": "stdout",
     "output_type": "stream",
     "text": [
      "\n",
      "CURRENT VALUE FUNCTION\n"
     ]
    },
    {
     "data": {
      "image/png": "[encoded data removed]",
      "text/plain": [
       "<Figure size 432x288 with 1 Axes>"
      ]
     },
     "metadata": {
      "needs_background": "light"
     },
     "output_type": "display_data"
    },
    {
     "name": "stdout",
     "output_type": "stream",
     "text": [
      "\n",
      "\n",
      "###############################    STEP  :  6    ##############################\n",
      "\n",
      "CURRENT POLICY\n",
      "→→→→↓→→→↓↓←←→↓↓↓↓↓→↓\n",
      "→→→→↓→→→→↓↓↓→→→↓↓↓↓↓\n",
      "↓↓↓→↑→→↑→→→→→→→↓←←←←\n",
      "↓↓↓←↑→→↑→→→→→→→↓↓↑↑↑\n",
      "↓↓↓←↓↓↓↑→↑↑↑→→→→↓↓↓↓\n",
      "↓↓↓←↓←←←↑↑→↓↓→→→→↓↓↓\n",
      "↓←←↓↓←↓↓↑→→↓↓→→→→↓↓↓\n",
      "↓↓↓↓←↓↓↓←→→↑←→→→→↑←←\n",
      "↓↓↓↓↓↓←←←→↑↑↓→↑↑↑↑↑↑\n",
      "→→↓←←←←↑←←↑→→→↑↑↑↑↑↑\n",
      "\n",
      "\n",
      "DIFFERENCES WITH PREVIOUS VALUE FUNCTION\n"
     ]
    },
    {
     "data": {
      "image/png": "[encoded data removed]",
      "text/plain": [
       "<Figure size 432x288 with 1 Axes>"
      ]
     },
     "metadata": {
      "needs_background": "light"
     },
     "output_type": "display_data"
    },
    {
     "name": "stdout",
     "output_type": "stream",
     "text": [
      "\n",
      "CURRENT VALUE FUNCTION\n"
     ]
    },
    {
     "data": {
      "image/png": "[encoded data removed]",
      "text/plain": [
       "<Figure size 432x288 with 1 Axes>"
      ]
     },
     "metadata": {
      "needs_background": "light"
     },
     "output_type": "display_data"
    },
    {
     "name": "stdout",
     "output_type": "stream",
     "text": [
      "\n",
      "\n",
      "###############################    STEP  :  7    ##############################\n",
      "\n",
      "CURRENT POLICY\n",
      "→→→→↓→→→↓↓←←→↓↓↓↓↓→↓\n",
      "↓↓↓→↓→→→→↓↓↓→→→↓↓↓↓↓\n",
      "↓↓↓↓↑→→→→→→→→→→↓←←←←\n",
      "↓↓↓↓←↓↓→→→→→→→→↓↓↑↑↑\n",
      "↓↓↓↓←↓↓↓→↑↑↑→→→→↓↓↓↓\n",
      "↓↓↓←←←←↓←↑←↓↓→→→→↓↓↓\n",
      "↓←←↓↓←→↓↓↑→↓↓→→→→↓↓↓\n",
      "↓↓↓↓←↓↓↓↓←→↑↓→→→→↑←←\n",
      "↓↓↓↓↓↓←←←←↑→↓→↑↑↑↑↑↑\n",
      "→→↓←←←←↑↑←←→→→↑↑↑↑↑↑\n",
      "\n",
      "\n",
      "DIFFERENCES WITH PREVIOUS VALUE FUNCTION\n"
     ]
    },
    {
     "data": {
      "image/png": "[encoded data removed]",
      "text/plain": [
       "<Figure size 432x288 with 1 Axes>"
      ]
     },
     "metadata": {
      "needs_background": "light"
     },
     "output_type": "display_data"
    },
    {
     "name": "stdout",
     "output_type": "stream",
     "text": [
      "\n",
      "CURRENT VALUE FUNCTION\n"
     ]
    },
    {
     "data": {
      "image/png": "[encoded data removed]",
      "text/plain": [
       "<Figure size 432x288 with 1 Axes>"
      ]
     },
     "metadata": {
      "needs_background": "light"
     },
     "output_type": "display_data"
    },
    {
     "name": "stdout",
     "output_type": "stream",
     "text": [
      "\n",
      "\n",
      "###############################    STEP  :  8    ##############################\n",
      "\n",
      "CURRENT POLICY\n",
      "↓↓↓→↓→→→↓↓←←→↓↓↓↓↓→↓\n",
      "↓↓↓↓↓→→→→↓↓↓→→→↓↓↓↓↓\n",
      "↓↓↓↓↓→↓→→→→→→→→↓←←←←\n",
      "↓↓↓↓↓↓↓←→→→→→→→↓↓↑↑↑\n",
      "↓↓↓↓↓↓↓←↓↑↑↑→→→→↓↓↓↓\n",
      "↓↓↓←←←←←↓←←→↓→→→→↓↓↓\n",
      "↓←←↑↑↑↑↓↓↓↑→↓→→→→↓↓↓\n",
      "↓↓↓↓←↓↓↓↓↓←→↓→→→→↑←←\n",
      "↓↓↓↓↓↓←←←←←→↓→↑↑↑↑↑↑\n",
      "→→↓←←←←↑↑↑←←→→↑↑↑↑↑↑\n",
      "\n",
      "\n",
      "DIFFERENCES WITH PREVIOUS VALUE FUNCTION\n"
     ]
    },
    {
     "data": {
      "image/png": "[encoded data removed]",
      "text/plain": [
       "<Figure size 432x288 with 1 Axes>"
      ]
     },
     "metadata": {
      "needs_background": "light"
     },
     "output_type": "display_data"
    },
    {
     "name": "stdout",
     "output_type": "stream",
     "text": [
      "\n",
      "CURRENT VALUE FUNCTION\n"
     ]
    },
    {
     "data": {
      "image/png": "[encoded data removed]",
      "text/plain": [
       "<Figure size 432x288 with 1 Axes>"
      ]
     },
     "metadata": {
      "needs_background": "light"
     },
     "output_type": "display_data"
    },
    {
     "name": "stdout",
     "output_type": "stream",
     "text": [
      "\n",
      "\n",
      "###############################    STEP  :  9    ##############################\n",
      "\n",
      "CURRENT POLICY\n",
      "↓↓↓↓↓←→→↓↓←←→↓↓↓↓↓→↓\n",
      "↓↓↓↓↓←↓→→↓↓↓→→→↓↓↓↓↓\n",
      "↓↓↓↓↓←↓↓→→→→→→→↓←←←←\n",
      "↓↓↓↓↓↓↓↓←→→→→→→↓↓↑↑↑\n",
      "↓↓↓↓↓↓↓↓←↓↓↑→→→→↓↓↓↓\n",
      "↓↓↓←←←←←←↓←←↓→→→→↓↓↓\n",
      "↓←←↑↑↑↑↑↓↓↓←↓→→→→↓↓↓\n",
      "↓↓↓↓←↓↓↓↓↓↓←↓→→→→↑←←\n",
      "↓↓↓↓↓↓←←←←←←↓→↑↑↑↑↑↑\n",
      "→→↓←←←←↑↑↑↑←←→↑↑↑↑↑↑\n",
      "\n",
      "\n",
      "DIFFERENCES WITH PREVIOUS VALUE FUNCTION\n"
     ]
    },
    {
     "data": {
      "image/png": "[encoded data removed]",
      "text/plain": [
       "<Figure size 432x288 with 1 Axes>"
      ]
     },
     "metadata": {
      "needs_background": "light"
     },
     "output_type": "display_data"
    },
    {
     "name": "stdout",
     "output_type": "stream",
     "text": [
      "\n",
      "CURRENT VALUE FUNCTION\n"
     ]
    },
    {
     "data": {
      "image/png": "[encoded data removed]",
      "text/plain": [
       "<Figure size 432x288 with 1 Axes>"
      ]
     },
     "metadata": {
      "needs_background": "light"
     },
     "output_type": "display_data"
    },
    {
     "name": "stdout",
     "output_type": "stream",
     "text": [
      "\n",
      "\n",
      "###############################    STEP  :  10    ##############################\n",
      "\n",
      "CURRENT POLICY\n",
      "↓↓↓↓↓←↓→↓↓←←→↓↓↓↓↓→↓\n",
      "↓↓↓↓↓←↓↓→↓↓↓→→→↓↓↓↓↓\n",
      "↓↓↓↓↓←↓↓↓→→→→→→↓←←←←\n",
      "↓↓↓↓↓↓↓↓↓←→→→→→↓↓↑↑↑\n",
      "↓↓↓↓↓↓↓↓↓←↓↓→→→→↓↓↓↓\n",
      "↓↓↓←←←←←←←↓↓←→→→→↓↓↓\n",
      "↓←←↑↑↑↑↑↑↓↓↓←→→→→↓↓↓\n",
      "↓↓↓↓←↓↓↑↓↓↓↓←→→→→↑←←\n",
      "↓↓↓↓↓↓←←←←←←←→↑↑↑↑↑↑\n",
      "→→↓←←←←↑↑↑↑↑←→↑↑↑↑↑↑\n",
      "\n",
      "\n",
      "DIFFERENCES WITH PREVIOUS VALUE FUNCTION\n"
     ]
    },
    {
     "data": {
      "image/png": "[encoded data removed]",
      "text/plain": [
       "<Figure size 432x288 with 1 Axes>"
      ]
     },
     "metadata": {
      "needs_background": "light"
     },
     "output_type": "display_data"
    },
    {
     "name": "stdout",
     "output_type": "stream",
     "text": [
      "\n",
      "CURRENT VALUE FUNCTION\n"
     ]
    },
    {
     "data": {
      "image/png": "[encoded data removed]",
      "text/plain": [
       "<Figure size 432x288 with 1 Axes>"
      ]
     },
     "metadata": {
      "needs_background": "light"
     },
     "output_type": "display_data"
    },
    {
     "name": "stdout",
     "output_type": "stream",
     "text": [
      "\n",
      "\n",
      "###############################    STEP  :  11    ##############################\n",
      "\n",
      "CURRENT POLICY\n",
      "↓↓↓↓↓←↓↓↓↓←←→↓↓↓↓↓→↓\n",
      "↓↓↓↓↓←↓↓↓↓↓↓→→→↓↓↓↓↓\n",
      "↓↓↓↓↓←↓↓↓↓→→→→→↓←←←←\n",
      "↓↓↓↓↓↓↓↓↓↓←→→→→↓↓↑↑↑\n",
      "↓↓↓↓↓↓↓↓↓↓←↓→→→→↓↓↓↓\n",
      "↓↓↓←←←←←←←←↓↓→→→→↓↓↓\n",
      "↓←←↑↑↑↑↑↑↑↓↓↓→→→→↓↓↓\n",
      "↓↓↓↓←↓↓↑↑↓↓↓←→→→→↑←←\n",
      "↓↓↓↓↓↓←←←←←←←→↑↑↑↑↑↑\n",
      "→→↓←←←←↑↑↑↑↑↑→↑↑↑↑↑↑\n",
      "\n",
      "\n",
      "DIFFERENCES WITH PREVIOUS VALUE FUNCTION\n"
     ]
    },
    {
     "data": {
      "image/png": "[encoded data removed]",
      "text/plain": [
       "<Figure size 432x288 with 1 Axes>"
      ]
     },
     "metadata": {
      "needs_background": "light"
     },
     "output_type": "display_data"
    },
    {
     "name": "stdout",
     "output_type": "stream",
     "text": [
      "\n",
      "CURRENT VALUE FUNCTION\n"
     ]
    },
    {
     "data": {
      "image/png": "[encoded data removed]",
      "text/plain": [
       "<Figure size 432x288 with 1 Axes>"
      ]
     },
     "metadata": {
      "needs_background": "light"
     },
     "output_type": "display_data"
    },
    {
     "name": "stdout",
     "output_type": "stream",
     "text": [
      "\n",
      "\n",
      "###############################    STEP  :  12    ##############################\n",
      "\n",
      "CURRENT POLICY\n",
      "↓↓↓↓↓←↓↓↓←←←→↓↓↓↓↓→↓\n",
      "↓↓↓↓↓←↓↓↓↓↓↓→→→↓↓↓↓↓\n",
      "↓↓↓↓↓←↓↓↓↓↓→→→→↓←←←←\n",
      "↓↓↓↓↓↓↓↓↓↓←←→→→↓↓↑↑↑\n",
      "↓↓↓↓↓↓↓↓↓↓↓↓→→→→↓↓↓↓\n",
      "↓↓↓←←←←←←←←←↓→→→→↓↓↓\n",
      "↓←←↑↑↑↑↑↑↑↑↓↓→→→→↓↓↓\n",
      "↓↓↓↓←↓↓↑↑↑↓↓←→→→→↑←←\n",
      "↓↓↓↓↓↓←←←←←←←→↑↑↑↑↑↑\n",
      "→→↓←←←←↑↑↑↑↑↑→↑↑↑↑↑↑\n",
      "\n",
      "\n",
      "DIFFERENCES WITH PREVIOUS VALUE FUNCTION\n"
     ]
    },
    {
     "data": {
      "image/png": "[encoded data removed]",
      "text/plain": [
       "<Figure size 432x288 with 1 Axes>"
      ]
     },
     "metadata": {
      "needs_background": "light"
     },
     "output_type": "display_data"
    },
    {
     "name": "stdout",
     "output_type": "stream",
     "text": [
      "\n",
      "CURRENT VALUE FUNCTION\n"
     ]
    },
    {
     "data": {
      "image/png": "[encoded data removed]",
      "text/plain": [
       "<Figure size 432x288 with 1 Axes>"
      ]
     },
     "metadata": {
      "needs_background": "light"
     },
     "output_type": "display_data"
    },
    {
     "name": "stdout",
     "output_type": "stream",
     "text": [
      "\n",
      "\n",
      "###############################    STEP  :  13    ##############################\n",
      "\n",
      "CURRENT POLICY\n",
      "↓↓↓↓↓←↓↓↓←←←←↓↓↓↓↓→↓\n",
      "↓↓↓↓↓←↓↓↓↓↓↓→→→↓↓↓↓↓\n",
      "↓↓↓↓↓←↓↓↓↓↓↓→→→↓←←←←\n",
      "↓↓↓↓↓↓↓↓↓↓←←←→→↓↓↑↑↑\n",
      "↓↓↓↓↓↓↓↓↓↓↓↓→→→→↓↓↓↓\n",
      "↓↓↓←←←←←←←←←←→→→→↓↓↓\n",
      "↓←←↑↑↑↑↑↑↑↑↑↓→→→→↓↓↓\n",
      "↓↓↓↓←↓↓↑↑↑↑↓←→→→→↑←←\n",
      "↓↓↓↓↓↓←←←←←←←→↑↑↑↑↑↑\n",
      "→→↓←←←←↑↑↑↑↑↑→↑↑↑↑↑↑\n",
      "\n",
      "\n",
      "DIFFERENCES WITH PREVIOUS VALUE FUNCTION\n"
     ]
    },
    {
     "data": {
      "image/png": "[encoded data removed]",
      "text/plain": [
       "<Figure size 432x288 with 1 Axes>"
      ]
     },
     "metadata": {
      "needs_background": "light"
     },
     "output_type": "display_data"
    },
    {
     "name": "stdout",
     "output_type": "stream",
     "text": [
      "\n",
      "CURRENT VALUE FUNCTION\n"
     ]
    },
    {
     "data": {
      "image/png": "[encoded data removed]",
      "text/plain": [
       "<Figure size 432x288 with 1 Axes>"
      ]
     },
     "metadata": {
      "needs_background": "light"
     },
     "output_type": "display_data"
    },
    {
     "name": "stdout",
     "output_type": "stream",
     "text": [
      "\n",
      "\n",
      "###############################    STEP  :  14    ##############################\n",
      "\n",
      "CURRENT POLICY\n",
      "↓↓↓↓↓←↓↓↓←←←←↓↓↓↓↓→↓\n",
      "↓↓↓↓↓←↓↓↓↓↓↓→→→↓↓↓↓↓\n",
      "↓↓↓↓↓←↓↓↓↓↓↓↓→→↓←←←←\n",
      "↓↓↓↓↓↓↓↓↓↓←←←←→↓↓↑↑↑\n",
      "↓↓↓↓↓↓↓↓↓↓↓↓↓→→→↓↓↓↓\n",
      "↓↓↓←←←←←←←←←←←→→→↓↓↓\n",
      "↓←←↑↑↑↑↑↑↑↑↑↑→→→→↓↓↓\n",
      "↓↓↓↓←↓↓↑↑↑↑↑←→→→→↑←←\n",
      "↓↓↓↓↓↓←←←←←←←→↑↑↑↑↑↑\n",
      "→→↓←←←←↑↑↑↑↑↑→↑↑↑↑↑↑\n",
      "\n",
      "\n",
      "DIFFERENCES WITH PREVIOUS VALUE FUNCTION\n"
     ]
    },
    {
     "data": {
      "image/png": "[encoded data removed]",
      "text/plain": [
       "<Figure size 432x288 with 1 Axes>"
      ]
     },
     "metadata": {
      "needs_background": "light"
     },
     "output_type": "display_data"
    },
    {
     "name": "stdout",
     "output_type": "stream",
     "text": [
      "\n",
      "CURRENT VALUE FUNCTION\n"
     ]
    },
    {
     "data": {
      "image/png": "[encoded data removed]",
      "text/plain": [
       "<Figure size 432x288 with 1 Axes>"
      ]
     },
     "metadata": {
      "needs_background": "light"
     },
     "output_type": "display_data"
    },
    {
     "name": "stdout",
     "output_type": "stream",
     "text": [
      "\n",
      "\n",
      "###############################    STEP  :  15    ##############################\n",
      "\n",
      "CURRENT POLICY\n",
      "↓↓↓↓↓←↓↓↓←←←←↓↓↓↓↓→↓\n",
      "↓↓↓↓↓←↓↓↓↓↓↓↓→→↓↓↓↓↓\n",
      "↓↓↓↓↓←↓↓↓↓↓↓↓↓→↓←←←←\n",
      "↓↓↓↓↓↓↓↓↓↓←←←←→↓↓↑↑↑\n",
      "↓↓↓↓↓↓↓↓↓↓↓↓↓→→→↓↓↓↓\n",
      "↓↓↓←←←←←←←←←←←→→→↓↓↓\n",
      "↓←←↑↑↑↑↑↑↑↑↑↑←→→→↓↓↓\n",
      "↓↓↓↓←↓↓↑↑↑↑↑←→→→→↑←←\n",
      "↓↓↓↓↓↓←←←←←←←→↑↑↑↑↑↑\n",
      "→→↓←←←←↑↑↑↑↑↑→↑↑↑↑↑↑\n",
      "\n",
      "\n",
      "DIFFERENCES WITH PREVIOUS VALUE FUNCTION\n"
     ]
    },
    {
     "data": {
      "image/png": "[encoded data removed]",
      "text/plain": [
       "<Figure size 432x288 with 1 Axes>"
      ]
     },
     "metadata": {
      "needs_background": "light"
     },
     "output_type": "display_data"
    },
    {
     "name": "stdout",
     "output_type": "stream",
     "text": [
      "\n",
      "CURRENT VALUE FUNCTION\n"
     ]
    },
    {
     "data": {
      "image/png": "[encoded data removed]",
      "text/plain": [
       "<Figure size 432x288 with 1 Axes>"
      ]
     },
     "metadata": {
      "needs_background": "light"
     },
     "output_type": "display_data"
    },
    {
     "name": "stdout",
     "output_type": "stream",
     "text": [
      "\n",
      "\n",
      "###############################    STEP  :  16    ##############################\n",
      "\n",
      "CURRENT POLICY\n",
      "↓↓↓↓↓←↓↓↓←←←←↓↓↓↓↓→↓\n",
      "↓↓↓↓↓←↓↓↓↓↓↓↓↓→↓↓↓↓↓\n",
      "↓↓↓↓↓←↓↓↓↓↓↓↓↓→↓←←←←\n",
      "↓↓↓↓↓↓↓↓↓↓←←←←→↓↓↑↑↑\n",
      "↓↓↓↓↓↓↓↓↓↓↓↓↓→→→↓↓↓↓\n",
      "↓↓↓←←←←←←←←←←←→→→↓↓↓\n",
      "↓←←↑↑↑↑↑↑↑↑↑↑←→→→↓↓↓\n",
      "↓↓↓↓←↓↓↑↑↑↑↑←→→→→↑←←\n",
      "↓↓↓↓↓↓←←←←←←←→↑↑↑↑↑↑\n",
      "→→↓←←←←↑↑↑↑↑↑→↑↑↑↑↑↑\n",
      "\n",
      "\n",
      "DIFFERENCES WITH PREVIOUS VALUE FUNCTION\n"
     ]
    },
    {
     "data": {
      "image/png": "[encoded data removed]",
      "text/plain": [
       "<Figure size 432x288 with 1 Axes>"
      ]
     },
     "metadata": {
      "needs_background": "light"
     },
     "output_type": "display_data"
    },
    {
     "name": "stdout",
     "output_type": "stream",
     "text": [
      "\n",
      "CURRENT VALUE FUNCTION\n"
     ]
    },
    {
     "data": {
      "image/png": "[encoded data removed]",
      "text/plain": [
       "<Figure size 432x288 with 1 Axes>"
      ]
     },
     "metadata": {
      "needs_background": "light"
     },
     "output_type": "display_data"
    },
    {
     "name": "stdout",
     "output_type": "stream",
     "text": [
      "\n",
      "\n",
      "###############################    STEP  :  17    ##############################\n",
      "\n",
      "----------> STABLE POLICY\n"
     ]
    }
   ],
   "source": [
    "policy_2, v_2 = policy_improvement(env, discount_factor = 0.95)"
   ]
  },
  {
   "cell_type": "markdown",
   "metadata": {},
   "source": [
    "### Final results for Policy Iteration"
   ]
  },
  {
   "cell_type": "code",
   "execution_count": 12,
   "metadata": {},
   "outputs": [
    {
     "name": "stdout",
     "output_type": "stream",
     "text": [
      "Final policy\n",
      "\n",
      "↓↓↓↓↓←↓↓↓←←←←↓↓↓↓↓→↓\n",
      "↓↓↓↓↓←↓↓↓↓↓↓↓↓→↓↓↓↓↓\n",
      "↓↓↓↓↓←↓↓↓↓↓↓↓↓→↓←←←←\n",
      "↓↓↓↓↓↓↓↓↓↓←←←←→↓↓↑↑↑\n",
      "↓↓↓↓↓↓↓↓↓↓↓↓↓→→→↓↓↓↓\n",
      "↓↓↓←←←←←←←←←←←→→→↓↓↓\n",
      "↓←←↑↑↑↑↑↑↑↑↑↑←→→→↓↓↓\n",
      "↓↓↓↓←↓↓↑↑↑↑↑←→→→→↑←←\n",
      "↓↓↓↓↓↓←←←←←←←→↑↑↑↑↑↑\n",
      "→→↓←←←←↑↑↑↑↑↑→↑↑↑↑↑↑\n",
      "\n",
      "Final Value Function:\n"
     ]
    },
    {
     "data": {
      "text/plain": [
       "<matplotlib.image.AxesImage at 0x23ca2031888>"
      ]
     },
     "execution_count": 12,
     "metadata": {},
     "output_type": "execute_result"
    },
    {
     "data": {
      "image/png": "[encoded data removed]",
      "text/plain": [
       "<Figure size 432x288 with 1 Axes>"
      ]
     },
     "metadata": {
      "needs_background": "light"
     },
     "output_type": "display_data"
    }
   ],
   "source": [
    "print(\"Final policy\")\n",
    "print(\"\")\n",
    "env.render_policy(np.reshape(np.argmax(policy_2, axis=1), env.shape))\n",
    "\n",
    "print(\"Final Value Function:\")\n",
    "plt.imshow(v_2.reshape(env.shape))"
   ]
  },
  {
   "cell_type": "markdown",
   "metadata": {},
   "source": [
    "## Comments : \n",
    "- With a discount rate of 0.95, the policy is stable at the end... it's not the case with smaller discount rates (like 0.9 for example). \n",
    "- We need 16 steps to get the optimal policy and we therefore can say that the initial value function estimation (found with the random policy) wasn't the optimal one. \n"
   ]
  },
  {
   "cell_type": "code",
   "execution_count": 13,
   "metadata": {},
   "outputs": [
    {
     "data": {
      "text/plain": [
       "<matplotlib.colorbar.Colorbar at 0x23ca3353688>"
      ]
     },
     "execution_count": 13,
     "metadata": {},
     "output_type": "execute_result"
    },
    {
     "data": {
      "image/png": "[encoded data removed]",
      "text/plain": [
       "<Figure size 432x288 with 2 Axes>"
      ]
     },
     "metadata": {
      "needs_background": "light"
     },
     "output_type": "display_data"
    }
   ],
   "source": [
    "plt.imshow((v_2 - v_1).reshape(env.shape))\n",
    "plt.colorbar()"
   ]
  },
  {
   "cell_type": "markdown",
   "metadata": {},
   "source": [
    "- the value function given by Policy Iteration slightly differs from the one given by Value Iteration"
   ]
  },
  {
   "cell_type": "code",
   "execution_count": 14,
   "metadata": {},
   "outputs": [
    {
     "data": {
      "text/plain": [
       "array([[ 0,  0,  0,  0,  0,  0,  0,  0,  0,  0,  0,  0,  0,  0,  0,  0,  0,  0,  0,  0],\n",
       "       [ 0,  0,  0,  0,  0,  0,  0,  0,  0,  0,  0,  0,  0,  0,  0,  0,  0,  0,  0,  0],\n",
       "       [ 0,  0,  0,  0,  0,  0,  0,  0,  0,  0,  0,  0,  0,  0,  0,  0,  0,  0,  0,  0],\n",
       "       [ 0,  0,  0,  0,  0,  0,  0,  0,  0,  0,  0,  0,  0,  0,  0,  0,  0,  0,  0,  0],\n",
       "       [ 0,  0,  0,  0,  0,  0,  0,  0,  0,  0,  0,  0,  0,  0,  0,  0,  0,  0,  0,  0],\n",
       "       [ 0,  0,  0,  0,  0,  0,  0,  0,  0,  0,  0,  0,  0,  0,  0,  0,  0,  0,  0,  0],\n",
       "       [ 0,  0,  0,  0,  0,  0,  0,  0,  0,  0,  0,  0,  0,  0,  0,  0,  0,  0,  0,  0],\n",
       "       [ 0,  0,  0,  0,  0,  0,  0,  0,  0,  0,  0,  0,  0,  0,  0,  0,  0, -1,  0,  0],\n",
       "       [ 0,  0,  0,  0,  0,  0,  0,  0,  0,  0,  0,  0,  0,  0, -1, -1, -1,  0,  0,  0],\n",
       "       [ 0,  0,  0,  0,  0,  0,  0,  0,  0,  0,  0,  0,  0,  0, -1, -1, -1,  0,  0,  0]], dtype=int64)"
      ]
     },
     "execution_count": 14,
     "metadata": {},
     "output_type": "execute_result"
    }
   ],
   "source": [
    "np.reshape(np.argmax(policy_2, axis=1) - np.argmax(policy_1, axis=1), env.shape)"
   ]
  },
  {
   "cell_type": "markdown",
   "metadata": {},
   "source": [
    "#### - And those little differences in the value function are sufficient to generate different policies ! (Bottom right zone)"
   ]
  },
  {
   "cell_type": "code",
   "execution_count": null,
   "metadata": {},
   "outputs": [],
   "source": []
  }
 ],
 "metadata": {
  "kernelspec": {
   "display_name": "Python 3",
   "language": "python",
   "name": "python3"
  },
  "language_info": {
   "codemirror_mode": {
    "name": "ipython",
    "version": 3
   },
   "file_extension": ".py",
   "mimetype": "text/x-python",
   "name": "python",
   "nbconvert_exporter": "python",
   "pygments_lexer": "ipython3",
   "version": "3.7.4"
  }
 },
 "nbformat": 4,
 "nbformat_minor": 2
}
