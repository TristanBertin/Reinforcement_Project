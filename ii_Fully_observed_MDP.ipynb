{
 "cells": [
  {
   "cell_type": "code",
   "execution_count": 1,
   "metadata": {},
   "outputs": [
    {
     "name": "stdout",
     "output_type": "stream",
     "text": [
      "importing Jupyter notebook from i_creation_environnement.ipynb\n"
     ]
    },
    {
     "data": {
      "image/png": "[encoded data removed]",
      "text/plain": [
       "<Figure size 720x360 with 1 Axes>"
      ]
     },
     "metadata": {
      "needs_background": "light"
     },
     "output_type": "display_data"
    }
   ],
   "source": [
    "import import_ipynb\n",
    "import i_creation_environnement\n",
    "import numpy as np\n",
    "import matplotlib.pyplot as plt"
   ]
  },
  {
   "cell_type": "code",
   "execution_count": 2,
   "metadata": {},
   "outputs": [],
   "source": [
    "env = i_creation_environnement.AugmentedGridworldEnv()"
   ]
  },
  {
   "cell_type": "markdown",
   "metadata": {},
   "source": [
    "# Value Iteration"
   ]
  },
  {
   "cell_type": "code",
   "execution_count": 3,
   "metadata": {},
   "outputs": [],
   "source": [
    "def value_iteration(env, theta=0.0001, discount_factor=0.9):\n",
    "    \"\"\"\n",
    "    Value Iteration Algorithm.\n",
    "    \n",
    "    Args:\n",
    "        env: OpenAI env. env.P represents the transition probabilities of the environment.\n",
    "            env.P[s][a] is a list of transition tuples (prob, next_state, reward, done).\n",
    "            env.nS is a number of states in the environment. \n",
    "            env.nA is a number of actions in the environment.\n",
    "        theta: We stop evaluation once our value function change is less than theta for all states.\n",
    "        discount_factor: Gamma discount factor.\n",
    "        \n",
    "    Returns:\n",
    "        A tuple (policy, V) of the optimal policy and the optimal value function.\n",
    "    \"\"\"\n",
    "    \n",
    "    def one_step_lookahead(state, V):\n",
    "        \"\"\"\n",
    "        Helper function to calculate the value for all action in a given state.\n",
    "        \n",
    "        Args:\n",
    "            state: The state to consider (int)\n",
    "            V: The value to use as an estimator, Vector of length env.nS\n",
    "        \n",
    "        Returns:\n",
    "            A vector of length env.nA containing the expected value of each action.\n",
    "        \"\"\"\n",
    "        A = np.zeros(env.nA)\n",
    "        for a in range(env.nA):\n",
    "            for prob, next_state, reward, done in env.P[state][a]:\n",
    "                if done == False:\n",
    "                    A[a] += prob * (reward + discount_factor * V[next_state])\n",
    "                else:\n",
    "                    A[a] += prob * reward \n",
    "        return A\n",
    "    \n",
    "    V = np.zeros(env.nS)\n",
    "    for i in range(10000):\n",
    "        # Stopping condition\n",
    "        delta = 0\n",
    "        # Update each state...\n",
    "        for s in range(env.nS):\n",
    "            # Do a one-step lookahead to find the best action\n",
    "            A = one_step_lookahead(s, V)\n",
    "            best_action_value = np.max(A)\n",
    "            # Calculate delta across all states seen so far\n",
    "            delta = max(delta, np.abs(best_action_value - V[s]))\n",
    "            V[s] = best_action_value        \n",
    "        # Check if we can stop \n",
    "        if delta < theta:\n",
    "            print(\"\")\n",
    "            print(\" --------- >       VALUE FUNCTION STABLE\")\n",
    "            break\n",
    "            \n",
    "        if i%30==0:\n",
    "            print(\"Step :\", i, \"     Delta : \", delta)\n",
    "            plt.imshow(V.reshape(env.shape))\n",
    "            plt.colorbar()\n",
    "            plt.show()\n",
    "    \n",
    "    # Create a deterministic policy using the optimal value function\n",
    "    policy = np.zeros([env.nS, env.nA])\n",
    "    for s in range(env.nS):\n",
    "        # One step lookahead to find the best action for this state\n",
    "        A = one_step_lookahead(s, V)\n",
    "        best_action = np.argmax(A)\n",
    "        # Always take the best action\n",
    "        policy[s, best_action] = 1.0\n",
    "    \n",
    "    return policy, V"
   ]
  },
  {
   "cell_type": "code",
   "execution_count": 4,
   "metadata": {},
   "outputs": [
    {
     "data": {
      "image/png": "[encoded data removed]",
      "text/plain": [
       "<Figure size 720x360 with 1 Axes>"
      ]
     },
     "metadata": {
      "needs_background": "light"
     },
     "output_type": "display_data"
    }
   ],
   "source": [
    "env.render_trajectory([0,1,2])"
   ]
  },
  {
   "cell_type": "code",
   "execution_count": 5,
   "metadata": {},
   "outputs": [
    {
     "name": "stdout",
     "output_type": "stream",
     "text": [
      "Step : 0      Delta :  50.0\n"
     ]
    },
    {
     "data": {
      "image/png": "[encoded data removed]",
      "text/plain": [
       "<Figure size 432x288 with 2 Axes>"
      ]
     },
     "metadata": {
      "needs_background": "light"
     },
     "output_type": "display_data"
    },
    {
     "name": "stdout",
     "output_type": "stream",
     "text": [
      "Step : 30      Delta :  0.022846210480093276\n"
     ]
    },
    {
     "data": {
      "image/png": "[encoded data removed]",
      "text/plain": [
       "<Figure size 432x288 with 2 Axes>"
      ]
     },
     "metadata": {
      "needs_background": "light"
     },
     "output_type": "display_data"
    },
    {
     "name": "stdout",
     "output_type": "stream",
     "text": [
      "Step : 60      Delta :  0.001052520324432038\n"
     ]
    },
    {
     "data": {
      "image/png": "[encoded data removed]",
      "text/plain": [
       "<Figure size 432x288 with 2 Axes>"
      ]
     },
     "metadata": {
      "needs_background": "light"
     },
     "output_type": "display_data"
    },
    {
     "name": "stdout",
     "output_type": "stream",
     "text": [
      "Step : 90      Delta :  4.848939977719624e-05\n"
     ]
    },
    {
     "data": {
      "image/png": "[encoded data removed]",
      "text/plain": [
       "<Figure size 432x288 with 2 Axes>"
      ]
     },
     "metadata": {
      "needs_background": "light"
     },
     "output_type": "display_data"
    },
    {
     "name": "stdout",
     "output_type": "stream",
     "text": [
      "Step : 120      Delta :  2.2338969003499187e-06\n"
     ]
    },
    {
     "data": {
      "image/png": "[encoded data removed]",
      "text/plain": [
       "<Figure size 432x288 with 2 Axes>"
      ]
     },
     "metadata": {
      "needs_background": "light"
     },
     "output_type": "display_data"
    },
    {
     "name": "stdout",
     "output_type": "stream",
     "text": [
      "Step : 150      Delta :  1.0291518037774949e-07\n"
     ]
    },
    {
     "data": {
      "image/png": "[encoded data removed]",
      "text/plain": [
       "<Figure size 432x288 with 2 Axes>"
      ]
     },
     "metadata": {
      "needs_background": "light"
     },
     "output_type": "display_data"
    },
    {
     "name": "stdout",
     "output_type": "stream",
     "text": [
      "\n",
      " --------- >       VALUE FUNCTION STABLE\n"
     ]
    }
   ],
   "source": [
    "policy_1, v_1 = value_iteration(env, discount_factor = 0.95, theta=0.0000001)"
   ]
  },
  {
   "cell_type": "markdown",
   "metadata": {},
   "source": [
    "### Final results for Value Iteration"
   ]
  },
  {
   "cell_type": "code",
   "execution_count": 6,
   "metadata": {},
   "outputs": [
    {
     "name": "stdout",
     "output_type": "stream",
     "text": [
      "Value Function:\n"
     ]
    },
    {
     "data": {
      "image/png": "[encoded data removed]",
      "text/plain": [
       "<Figure size 432x288 with 1 Axes>"
      ]
     },
     "metadata": {
      "needs_background": "light"
     },
     "output_type": "display_data"
    },
    {
     "name": "stdout",
     "output_type": "stream",
     "text": [
      "\n",
      "Reshaped Grid Policy :\n",
      "\n",
      "↓↓↓↓↓←→→↓←←←←↓→↓↓↓↓↓\n",
      "↓↓↓↓↓←→→↓↓↓↓→→→↓↓↓↓←\n",
      "↓↓↓↓↓←↓→↑→→→→→→↓←←←←\n",
      "↓↓↓↓↓↓↓↓→→→→→→→↓↑↑↑↑\n",
      "↓↓↓↓↓↓↓↓↓↑↑↑→→→→↓↓↓↓\n",
      "↓↓↓←←←←←←←→↓↓→→→→↓↓↓\n",
      "↓←←↑↑↑↑↑↑→→↓↓→→→→↓↓↓\n",
      "↓↑↑↑↑↓→↑→→→→↓→→→→↑←←\n",
      "↓↓↑↑→→→→→→→→↓↓↑↑↑↑↑↑\n",
      "→→↓←↑↑→→→→→→→→→↑↑↑↑↑\n",
      "\n",
      "\n"
     ]
    }
   ],
   "source": [
    "print(\"Value Function:\")\n",
    "plt.imshow(v_1.reshape(env.shape))\n",
    "plt.show()\n",
    "print(\"\")\n",
    "\n",
    "print(\"Reshaped Grid Policy :\")\n",
    "print(\"\")\n",
    "env.render_policy(np.reshape(np.argmax(policy_1, axis=1), env.shape))\n",
    "print(\"\")"
   ]
  },
  {
   "cell_type": "markdown",
   "metadata": {},
   "source": [
    "# Policy Evaluation"
   ]
  },
  {
   "cell_type": "code",
   "execution_count": 20,
   "metadata": {},
   "outputs": [],
   "source": [
    "def policy_eval(policy, env, discount_factor=0.9, theta=0.000001):\n",
    "    \"\"\"\n",
    "    Evaluate a policy given an environment and a full description of the environment's dynamics.\n",
    "    \n",
    "    Args:\n",
    "        policy: [S, A] shaped matrix representing the policy.\n",
    "        env: OpenAI env. env.P represents the transition probabilities of the environment.\n",
    "            env.P[s][a] is a list of transition tuples (prob, next_state, reward, done).\n",
    "            env.nS is a number of states in the environment. \n",
    "            env.nA is a number of actions in the environment.\n",
    "        theta: We stop evaluation once our value function change is less than theta for all states.\n",
    "        discount_factor: Gamma discount factor.\n",
    "    \n",
    "    Returns:\n",
    "        Vector of length env.nS representing the value function.\n",
    "    \"\"\"\n",
    "    \n",
    "    # Start with a random (all 0) value function\n",
    "\n",
    "    V = np.zeros(env.nS)\n",
    "    while True:\n",
    "        delta = 0\n",
    "        # For each state, perform a \"full backup\"\n",
    "        for s in range(env.nS):  # for all the states\n",
    "            v = 0\n",
    "            # Look at the possible next actions\n",
    "            for a, action_prob in enumerate(policy[s]):\n",
    "                \n",
    "                # For each action, look at the possible next states...\n",
    "                for  prob, next_state, reward, done in env.P[s][a]:\n",
    "                    \n",
    "                    if done==True:\n",
    "                        # Calculate the expected value. Ref: Sutton book eq. 4.6.\n",
    "                        v += action_prob * prob * reward\n",
    "                        \n",
    "                    else:\n",
    "                        # Calculate the expected value. Ref: Sutton book eq. 4.6.\n",
    "                        v += action_prob * prob * (reward + discount_factor * V[next_state])\n",
    "                    \n",
    "            # How much our value function changed (across any states)\n",
    "            delta = max(delta, np.abs(v - V[s]))\n",
    "            V[s] = v\n",
    "            \n",
    "        # Stop evaluating once our value function change is below a threshold\n",
    "        #print(delta)\n",
    "        if delta < theta:\n",
    "            break\n",
    "    return np.array(V), delta"
   ]
  },
  {
   "cell_type": "code",
   "execution_count": 21,
   "metadata": {},
   "outputs": [],
   "source": [
    "random_policy = np.ones([env.nS, env.nA]) / env.nA\n",
    "vv, delta = policy_eval(random_policy, env, 1)"
   ]
  },
  {
   "cell_type": "markdown",
   "metadata": {},
   "source": [
    "# Policy Iteration"
   ]
  },
  {
   "cell_type": "code",
   "execution_count": 22,
   "metadata": {},
   "outputs": [],
   "source": [
    "def policy_improvement(env, policy_eval_fn=policy_eval, discount_factor=1):\n",
    "    \"\"\"\n",
    "    Policy Improvement Algorithm. Iteratively evaluates and improves a policy\n",
    "    until an optimal policy is found.\n",
    "    \n",
    "    Args:\n",
    "        env: The OpenAI environment.\n",
    "        policy_eval_fn: Policy Evaluation function that takes 3 arguments:\n",
    "            policy, env, discount_factor.\n",
    "        discount_factor: gamma discount factor.\n",
    "        \n",
    "    Returns:\n",
    "        A tuple (policy, V). \n",
    "        policy is the optimal policy, a matrix of shape [S, A] where each state s\n",
    "        contains a valid probability distribution over actions.\n",
    "        V is the value function for the optimal policy.\n",
    "        \n",
    "    \"\"\"\n",
    "    \n",
    "    \n",
    "\n",
    "    def one_step_lookahead(state, V):\n",
    "        \"\"\"\n",
    "        Helper function to calculate the value for all action in a given state.\n",
    "        \n",
    "        Args:\n",
    "            state: The state to consider (int)\n",
    "            V: The value to use as an estimator, Vector of length env.nS\n",
    "        \n",
    "        Returns:\n",
    "            A vector of length env.nA containing the expected value of each action.\n",
    "        \"\"\"\n",
    "        A = np.zeros(env.nA)\n",
    "        for a in range(env.nA):\n",
    "            for prob, next_state, reward, done in env.P[state][a]:\n",
    "                if done == False:\n",
    "                    A[a] += prob * (reward + discount_factor * V[next_state])\n",
    "                else:\n",
    "                    A[a] += prob * reward \n",
    "        return A\n",
    "    \n",
    "    # Start with a random policy\n",
    "    policy = np.ones([env.nS, env.nA]) / env.nA\n",
    "    ancient_V = np.zeros(env.nS)\n",
    "\n",
    "    #while True:\n",
    "    for i in range(30):\n",
    "        \n",
    "        # Evaluate the current policy\n",
    "        V, delta = policy_eval_fn(policy, env, discount_factor)\n",
    "        print(\"###############################    STEP  : \", i, \"   ##############################\")\n",
    "        # Will be set to false if we make any changes to the policy\n",
    "        policy_stable = True\n",
    "        \n",
    "        # For each state...\n",
    "        for s in range(env.nS):\n",
    "            # The best action we would take under the current policy\n",
    "            chosen_a = np.argmax(policy[s])\n",
    "            \n",
    "            # Find the best action by one-step lookahead\n",
    "            # Ties are resolved arbitarily\n",
    "            action_values = one_step_lookahead(s, V)\n",
    "            best_a = np.argmax(action_values)\n",
    "            \n",
    "            # Greedily update the policy\n",
    "            if chosen_a != best_a:\n",
    "                policy_stable = False\n",
    "            policy[s] = np.eye(env.nA)[best_a]\n",
    "        \n",
    "        # If the policy is stable we've found an optimal policy. Return it\n",
    "        if policy_stable :\n",
    "            print(\"\")\n",
    "            print(\"----------> STABLE POLICY\")\n",
    "            return policy, V\n",
    "        \n",
    "        print(\"\")\n",
    "        print(\"CURRENT POLICY\")\n",
    "        env.render_policy(np.reshape(np.argmax(policy, axis=1), env.shape))\n",
    "        print(\"\")\n",
    "        \n",
    "        print(\"DIFFERENCES WITH PREVIOUS VALUE FUNCTION\")\n",
    "        plt.imshow(np.reshape(V - ancient_V, env.shape))\n",
    "        plt.show()\n",
    "        print(\"\")\n",
    "        \n",
    "        print(\"CURRENT VALUE FUNCTION\")\n",
    "        plt.imshow(np.reshape(V, env.shape))\n",
    "        plt.colorbar()\n",
    "        plt.show()\n",
    "        print(\"\")\n",
    "        print(\"\")\n",
    "        \n",
    "    \n",
    "        ancient_V = V\n",
    "        \n",
    "        #rint(np.reshape(np.argmax(policy, axis=1), env.shape))\n",
    "        #rint(V.reshape(env.shape))\n",
    "        \n",
    "    return policy, V"
   ]
  },
  {
   "cell_type": "code",
   "execution_count": 23,
   "metadata": {},
   "outputs": [
    {
     "name": "stdout",
     "output_type": "stream",
     "text": [
      "###############################    STEP  :  0    ##############################\n",
      "\n",
      "CURRENT POLICY\n",
      "→→→→→↑←←←←←←←↓→→→→→↑\n",
      "↑→→→→↑←←←↓↓↓↓↓↓→→→↑↑\n",
      "↑↑→→→↑←←←↓↓↓↓↓↓←↑↑↑↑\n",
      "↑↑↑→→↑←←←↓↓↓↓↓←↑↑↑↑↑\n",
      "↑↑↑↑↑↑↑↑→→→→←↓↓↓↓↓↓↓\n",
      "↑↑↑↑↑↑↑↑→→↑↑↑↓←←↓↓↓↓\n",
      "↑↑↑↑↑↑↑→→→→→→↑←←→↓↓↓\n",
      "↓↑↑↑↑↓→→→→→→→↑←→→→←←\n",
      "↓↓↑↑→→→→→→→↑→↑←↑↑↑↑↑\n",
      "→→↓←↑↑→→→→↑↑↑↑←↑↑↑↑↑\n",
      "\n",
      "\n",
      "DIFFERENCES WITH PREVIOUS VALUE FUNCTION\n"
     ]
    },
    {
     "data": {
      "image/png": "[encoded data removed]",
      "text/plain": [
       "<Figure size 432x288 with 1 Axes>"
      ]
     },
     "metadata": {
      "needs_background": "light"
     },
     "output_type": "display_data"
    },
    {
     "name": "stdout",
     "output_type": "stream",
     "text": [
      "\n",
      "CURRENT VALUE FUNCTION\n"
     ]
    },
    {
     "data": {
      "image/png": "[encoded data removed]",
      "text/plain": [
       "<Figure size 432x288 with 2 Axes>"
      ]
     },
     "metadata": {
      "needs_background": "light"
     },
     "output_type": "display_data"
    },
    {
     "name": "stdout",
     "output_type": "stream",
     "text": [
      "\n",
      "\n",
      "###############################    STEP  :  1    ##############################\n",
      "\n",
      "CURRENT POLICY\n",
      "→→→→→↑←←↓↓←←←↓↓↓↓↓↓↑\n",
      "→→↓↓↓↑←→←↓↓↓→↓←↓→→←←\n",
      "→→→→←←←←↑→↓↓↓↑↓←←↑↑←\n",
      "→→↑↑↑↑←←→→↓↓↓↓←↓↑↑↑↑\n",
      "→→↓←↑↑↑↑→→→→←↓→→↓↓↓↓\n",
      "→→↓←↑↑↑↑↑↑↑↑↑↓←→→↓↓↓\n",
      "↓→↑↑↑↑↑↓↓↓↓↓→↑←→→↓↓↓\n",
      "↓↑↑↑↓↓↓↓↓↓↓↓←↑→→→↑←←\n",
      "↓↓→→→→→→→→↓←←↑→↑↑↑↑↑\n",
      "→→↓←↑↑↑↑↑↑↑←←↑→↑↑↑↑↑\n",
      "\n",
      "\n",
      "DIFFERENCES WITH PREVIOUS VALUE FUNCTION\n"
     ]
    },
    {
     "data": {
      "image/png": "[encoded data removed]",
      "text/plain": [
       "<Figure size 432x288 with 1 Axes>"
      ]
     },
     "metadata": {
      "needs_background": "light"
     },
     "output_type": "display_data"
    },
    {
     "name": "stdout",
     "output_type": "stream",
     "text": [
      "\n",
      "CURRENT VALUE FUNCTION\n"
     ]
    },
    {
     "data": {
      "image/png": "[encoded data removed]",
      "text/plain": [
       "<Figure size 432x288 with 2 Axes>"
      ]
     },
     "metadata": {
      "needs_background": "light"
     },
     "output_type": "display_data"
    },
    {
     "name": "stdout",
     "output_type": "stream",
     "text": [
      "\n",
      "\n",
      "###############################    STEP  :  2    ##############################\n",
      "\n",
      "CURRENT POLICY\n",
      "↓↓↓↓↓↑←→↓←←←←↓↓→→→↓↓\n",
      "→→→→↓←→→↓↓↓↓→→←←→→→←\n",
      "→→→→↓←←→↑←↓↓→↑↑↓→→↑↑\n",
      "↓↓↓→↑←←←↑→↓↓↓↑→↓↑↑↑↑\n",
      "→→↓↓↑←↑↑→→→→←→→→↓↓↓↓\n",
      "↓→→←←←↑↓↓↓↓↓↑↓→→→↓↓↓\n",
      "↓←↑↑↑←→→→→→↓↓↑→→→↓↓↓\n",
      "↓↑↑↑↑↓→→→→→→←→→→→↑←←\n",
      "↓↓↑↑→→→→→→→↑↑←↑↑↑↑↑↑\n",
      "→→↓←↑↑→→→→↑↑↑→→↑↑↑↑↑\n",
      "\n",
      "\n",
      "DIFFERENCES WITH PREVIOUS VALUE FUNCTION\n"
     ]
    },
    {
     "data": {
      "image/png": "[encoded data removed]",
      "text/plain": [
       "<Figure size 432x288 with 1 Axes>"
      ]
     },
     "metadata": {
      "needs_background": "light"
     },
     "output_type": "display_data"
    },
    {
     "name": "stdout",
     "output_type": "stream",
     "text": [
      "\n",
      "CURRENT VALUE FUNCTION\n"
     ]
    },
    {
     "data": {
      "image/png": "[encoded data removed]",
      "text/plain": [
       "<Figure size 432x288 with 2 Axes>"
      ]
     },
     "metadata": {
      "needs_background": "light"
     },
     "output_type": "display_data"
    },
    {
     "name": "stdout",
     "output_type": "stream",
     "text": [
      "\n",
      "\n",
      "###############################    STEP  :  3    ##############################\n",
      "\n",
      "CURRENT POLICY\n",
      "→→→→↓←→→↓←←←←↓↓↓→→↓↓\n",
      "→→→→↓←→→↓↑↑↑→→←↓→→→←\n",
      "→→→→↓←→→↑←←→→↑→↓←→↑↑\n",
      "→→↓→↑←←→↑↑↓↓→→→↓↑↑↑↑\n",
      "↓→↓↓↑←←↓↑↓↓↓→→→→↓↓↓↓\n",
      "↓↓→←←←←→→→→↓↓→→→→↓↓↓\n",
      "↓←←↑↑↑→→→→→↓↓→→→→↓↓↓\n",
      "↓↑↑↑↑↓→→→→→→←→→→→↑←←\n",
      "↓↓↑↑→→→→→→→↑↑↓↑↑↑↑↑↑\n",
      "→→↓←↑↑→→→→↑↑→→→↑↑↑↑↑\n",
      "\n",
      "\n",
      "DIFFERENCES WITH PREVIOUS VALUE FUNCTION\n"
     ]
    },
    {
     "data": {
      "image/png": "[encoded data removed]",
      "text/plain": [
       "<Figure size 432x288 with 1 Axes>"
      ]
     },
     "metadata": {
      "needs_background": "light"
     },
     "output_type": "display_data"
    },
    {
     "name": "stdout",
     "output_type": "stream",
     "text": [
      "\n",
      "CURRENT VALUE FUNCTION\n"
     ]
    },
    {
     "data": {
      "image/png": "[encoded data removed]",
      "text/plain": [
       "<Figure size 432x288 with 2 Axes>"
      ]
     },
     "metadata": {
      "needs_background": "light"
     },
     "output_type": "display_data"
    },
    {
     "name": "stdout",
     "output_type": "stream",
     "text": [
      "\n",
      "\n",
      "###############################    STEP  :  4    ##############################\n",
      "\n",
      "CURRENT POLICY\n",
      "→→→→↓←→→↓←←←←↓→↓←→↓↓\n",
      "→→→→↓←→→↓↓↓↓→→→↓↓→→←\n",
      "→→→→↓←→→↑←←→↓→→↓←←↑↑\n",
      "↓→↓→↑←→→↑↑↑→→→→↓↑↑↑↑\n",
      "↓↓↓↓↑←←→↑↑↓↓→→→→↓↓↓↓\n",
      "↓↓↓←←←←←↑→→↓↓→→→→↓↓↓\n",
      "↓←←↑↑↑↑→→→→↓↓→→→→↓↓↓\n",
      "↓↑↑↑↑↓→→→→→→←→→→→↑←←\n",
      "↓↓↑↑→→→→→→→↑↓↓↑↑↑↑↑↑\n",
      "→→↓←↑↑→→→→↑→→→→↑↑↑↑↑\n",
      "\n",
      "\n",
      "DIFFERENCES WITH PREVIOUS VALUE FUNCTION\n"
     ]
    },
    {
     "data": {
      "image/png": "[encoded data removed]",
      "text/plain": [
       "<Figure size 432x288 with 1 Axes>"
      ]
     },
     "metadata": {
      "needs_background": "light"
     },
     "output_type": "display_data"
    },
    {
     "name": "stdout",
     "output_type": "stream",
     "text": [
      "\n",
      "CURRENT VALUE FUNCTION\n"
     ]
    },
    {
     "data": {
      "image/png": "[encoded data removed]",
      "text/plain": [
       "<Figure size 432x288 with 2 Axes>"
      ]
     },
     "metadata": {
      "needs_background": "light"
     },
     "output_type": "display_data"
    },
    {
     "name": "stdout",
     "output_type": "stream",
     "text": [
      "\n",
      "\n",
      "###############################    STEP  :  5    ##############################\n",
      "\n",
      "CURRENT POLICY\n",
      "→→→→↓←→→↓←←←←↓→↓↓←↓↓\n",
      "→→→→↓←→→↓↓↓↓→→→↓↓↓→←\n",
      "↓↓↓→↓←→→↑←→→→→→↓←←←↑\n",
      "↓↓↓↓↑←→→↑↑→→→→→↓↑↑↑↑\n",
      "↓↓↓↓↓↓↓↓↑↑↓↑→→→→↓↓↓↓\n",
      "↓↓↓←←←←←←→→↓↓→→→→↓↓↓\n",
      "↓←←↑↑↑↑↑→→→↓↓→→→→↓↓↓\n",
      "↓↑↑↑↑↓→→→→→→↓→→→→↑←←\n",
      "↓↓↑↑→→→→→→→→↓↓↑↑↑↑↑↑\n",
      "→→↓←↑↑→→→→→→→→→↑↑↑↑↑\n",
      "\n",
      "\n",
      "DIFFERENCES WITH PREVIOUS VALUE FUNCTION\n"
     ]
    },
    {
     "data": {
      "image/png": "[encoded data removed]",
      "text/plain": [
       "<Figure size 432x288 with 1 Axes>"
      ]
     },
     "metadata": {
      "needs_background": "light"
     },
     "output_type": "display_data"
    },
    {
     "name": "stdout",
     "output_type": "stream",
     "text": [
      "\n",
      "CURRENT VALUE FUNCTION\n"
     ]
    },
    {
     "data": {
      "image/png": "[encoded data removed]",
      "text/plain": [
       "<Figure size 432x288 with 2 Axes>"
      ]
     },
     "metadata": {
      "needs_background": "light"
     },
     "output_type": "display_data"
    },
    {
     "name": "stdout",
     "output_type": "stream",
     "text": [
      "\n",
      "\n",
      "###############################    STEP  :  6    ##############################\n",
      "\n",
      "CURRENT POLICY\n",
      "→→→→↓←→→↓←←←←↓→↓↓↓←↓\n",
      "↓↓↓→↓←→→↓↓↓↓→→→↓↓↓↓←\n",
      "↓↓↓↓↓←→→↑→→→→→→↓←←←←\n",
      "↓↓↓↓↓↓↓↓↑→→→→→→↓↑↑↑↑\n",
      "↓↓↓↓↓↓↓↓↓↓↑↑→→→→↓↓↓↓\n",
      "↓↓↓←←←←←←←→↓↓→→→→↓↓↓\n",
      "↓←←↑↑↑↑↑↑→→↓↓→→→→↓↓↓\n",
      "↓↑↑↑↑↓→↑→→→→↓→→→→↑←←\n",
      "↓↓↑↑→→→→→→→→↓↓↑↑↑↑↑↑\n",
      "→→↓←↑↑→→→→→→→→→↑↑↑↑↑\n",
      "\n",
      "\n",
      "DIFFERENCES WITH PREVIOUS VALUE FUNCTION\n"
     ]
    },
    {
     "data": {
      "image/png": "[encoded data removed]",
      "text/plain": [
       "<Figure size 432x288 with 1 Axes>"
      ]
     },
     "metadata": {
      "needs_background": "light"
     },
     "output_type": "display_data"
    },
    {
     "name": "stdout",
     "output_type": "stream",
     "text": [
      "\n",
      "CURRENT VALUE FUNCTION\n"
     ]
    },
    {
     "data": {
      "image/png": "[encoded data removed]",
      "text/plain": [
       "<Figure size 432x288 with 2 Axes>"
      ]
     },
     "metadata": {
      "needs_background": "light"
     },
     "output_type": "display_data"
    },
    {
     "name": "stdout",
     "output_type": "stream",
     "text": [
      "\n",
      "\n",
      "###############################    STEP  :  7    ##############################\n",
      "\n",
      "CURRENT POLICY\n",
      "↓↓↓→↓←→→↓←←←←↓→↓↓↓↓↓\n",
      "↓↓↓↓↓←→→↓↓↓↓→→→↓↓↓↓←\n",
      "↓↓↓↓↓←↓→↑→→→→→→↓←←←←\n",
      "↓↓↓↓↓↓↓↓→→→→→→→↓↑↑↑↑\n",
      "↓↓↓↓↓↓↓↓↓↑↑↑→→→→↓↓↓↓\n",
      "↓↓↓←←←←←←←→↓↓→→→→↓↓↓\n",
      "↓←←↑↑↑↑↑↑→→↓↓→→→→↓↓↓\n",
      "↓↑↑↑↑↓→↑→→→→↓→→→→↑←←\n",
      "↓↓↑↑→→→→→→→→↓↓↑↑↑↑↑↑\n",
      "→→↓←↑↑→→→→→→→→→↑↑↑↑↑\n",
      "\n",
      "\n",
      "DIFFERENCES WITH PREVIOUS VALUE FUNCTION\n"
     ]
    },
    {
     "data": {
      "image/png": "[encoded data removed]",
      "text/plain": [
       "<Figure size 432x288 with 1 Axes>"
      ]
     },
     "metadata": {
      "needs_background": "light"
     },
     "output_type": "display_data"
    },
    {
     "name": "stdout",
     "output_type": "stream",
     "text": [
      "\n",
      "CURRENT VALUE FUNCTION\n"
     ]
    },
    {
     "data": {
      "image/png": "[encoded data removed]",
      "text/plain": [
       "<Figure size 432x288 with 2 Axes>"
      ]
     },
     "metadata": {
      "needs_background": "light"
     },
     "output_type": "display_data"
    },
    {
     "name": "stdout",
     "output_type": "stream",
     "text": [
      "\n",
      "\n",
      "###############################    STEP  :  8    ##############################\n",
      "\n",
      "CURRENT POLICY\n",
      "↓↓↓↓↓←→→↓←←←←↓→↓↓↓↓↓\n",
      "↓↓↓↓↓←→→↓↓↓↓→→→↓↓↓↓←\n",
      "↓↓↓↓↓←↓→↑→→→→→→↓←←←←\n",
      "↓↓↓↓↓↓↓↓→→→→→→→↓↑↑↑↑\n",
      "↓↓↓↓↓↓↓↓↓↑↑↑→→→→↓↓↓↓\n",
      "↓↓↓←←←←←←←→↓↓→→→→↓↓↓\n",
      "↓←←↑↑↑↑↑↑→→↓↓→→→→↓↓↓\n",
      "↓↑↑↑↑↓→↑→→→→↓→→→→↑←←\n",
      "↓↓↑↑→→→→→→→→↓↓↑↑↑↑↑↑\n",
      "→→↓←↑↑→→→→→→→→→↑↑↑↑↑\n",
      "\n",
      "\n",
      "DIFFERENCES WITH PREVIOUS VALUE FUNCTION\n"
     ]
    },
    {
     "data": {
      "image/png": "[encoded data removed]",
      "text/plain": [
       "<Figure size 432x288 with 1 Axes>"
      ]
     },
     "metadata": {
      "needs_background": "light"
     },
     "output_type": "display_data"
    },
    {
     "name": "stdout",
     "output_type": "stream",
     "text": [
      "\n",
      "CURRENT VALUE FUNCTION\n"
     ]
    },
    {
     "data": {
      "image/png": "[encoded data removed]",
      "text/plain": [
       "<Figure size 432x288 with 2 Axes>"
      ]
     },
     "metadata": {
      "needs_background": "light"
     },
     "output_type": "display_data"
    },
    {
     "name": "stdout",
     "output_type": "stream",
     "text": [
      "\n",
      "\n",
      "###############################    STEP  :  9    ##############################\n",
      "\n",
      "----------> STABLE POLICY\n"
     ]
    }
   ],
   "source": [
    "policy_2, v_2 = policy_improvement(env, discount_factor = 0.95)"
   ]
  },
  {
   "cell_type": "markdown",
   "metadata": {},
   "source": [
    "### Final results for Policy Iteration"
   ]
  },
  {
   "cell_type": "code",
   "execution_count": 24,
   "metadata": {},
   "outputs": [
    {
     "name": "stdout",
     "output_type": "stream",
     "text": [
      "Final policy\n",
      "\n",
      "↓↓↓↓↓←→→↓←←←←↓→↓↓↓↓↓\n",
      "↓↓↓↓↓←→→↓↓↓↓→→→↓↓↓↓←\n",
      "↓↓↓↓↓←↓→↑→→→→→→↓←←←←\n",
      "↓↓↓↓↓↓↓↓→→→→→→→↓↑↑↑↑\n",
      "↓↓↓↓↓↓↓↓↓↑↑↑→→→→↓↓↓↓\n",
      "↓↓↓←←←←←←←→↓↓→→→→↓↓↓\n",
      "↓←←↑↑↑↑↑↑→→↓↓→→→→↓↓↓\n",
      "↓↑↑↑↑↓→↑→→→→↓→→→→↑←←\n",
      "↓↓↑↑→→→→→→→→↓↓↑↑↑↑↑↑\n",
      "→→↓←↑↑→→→→→→→→→↑↑↑↑↑\n",
      "\n",
      "Final Value Function:\n"
     ]
    },
    {
     "data": {
      "text/plain": [
       "<matplotlib.colorbar.Colorbar at 0x1257b9aa588>"
      ]
     },
     "execution_count": 24,
     "metadata": {},
     "output_type": "execute_result"
    },
    {
     "data": {
      "image/png": "[encoded data removed]",
      "text/plain": [
       "<Figure size 432x288 with 2 Axes>"
      ]
     },
     "metadata": {
      "needs_background": "light"
     },
     "output_type": "display_data"
    }
   ],
   "source": [
    "print(\"Final policy\")\n",
    "print(\"\")\n",
    "env.render_policy(np.reshape(np.argmax(policy_2, axis=1), env.shape))\n",
    "\n",
    "print(\"Final Value Function:\")\n",
    "plt.imshow(v_2.reshape(env.shape))\n",
    "plt.colorbar()"
   ]
  },
  {
   "cell_type": "markdown",
   "metadata": {},
   "source": [
    "## Comments : \n",
    "- With a discount rate of 0.95, the policy is stable at the end... it's not the case with smaller discount rates (like 0.9 for example). \n",
    "- We need 16 steps to get the optimal policy and we therefore can say that the initial value function estimation (found with the random policy) wasn't the optimal one. \n"
   ]
  },
  {
   "cell_type": "code",
   "execution_count": 25,
   "metadata": {},
   "outputs": [
    {
     "data": {
      "text/plain": [
       "<matplotlib.colorbar.Colorbar at 0x1257bab5e48>"
      ]
     },
     "execution_count": 25,
     "metadata": {},
     "output_type": "execute_result"
    },
    {
     "data": {
      "image/png": "[encoded data removed]",
      "text/plain": [
       "<Figure size 432x288 with 2 Axes>"
      ]
     },
     "metadata": {
      "needs_background": "light"
     },
     "output_type": "display_data"
    }
   ],
   "source": [
    "plt.imshow((v_2 - v_1).reshape(env.shape))\n",
    "plt.colorbar()"
   ]
  },
  {
   "cell_type": "markdown",
   "metadata": {},
   "source": [
    "- the value function given by Policy Iteration slightly differs from the one given by Value Iteration"
   ]
  },
  {
   "cell_type": "code",
   "execution_count": 26,
   "metadata": {},
   "outputs": [
    {
     "data": {
      "text/plain": [
       "array([[0, 0, 0, 0, 0, 0, 0, 0, 0, 0, 0, 0, 0, 0, 0, 0, 0, 0, 0, 0],\n",
       "       [0, 0, 0, 0, 0, 0, 0, 0, 0, 0, 0, 0, 0, 0, 0, 0, 0, 0, 0, 0],\n",
       "       [0, 0, 0, 0, 0, 0, 0, 0, 0, 0, 0, 0, 0, 0, 0, 0, 0, 0, 0, 0],\n",
       "       [0, 0, 0, 0, 0, 0, 0, 0, 0, 0, 0, 0, 0, 0, 0, 0, 0, 0, 0, 0],\n",
       "       [0, 0, 0, 0, 0, 0, 0, 0, 0, 0, 0, 0, 0, 0, 0, 0, 0, 0, 0, 0],\n",
       "       [0, 0, 0, 0, 0, 0, 0, 0, 0, 0, 0, 0, 0, 0, 0, 0, 0, 0, 0, 0],\n",
       "       [0, 0, 0, 0, 0, 0, 0, 0, 0, 0, 0, 0, 0, 0, 0, 0, 0, 0, 0, 0],\n",
       "       [0, 0, 0, 0, 0, 0, 0, 0, 0, 0, 0, 0, 0, 0, 0, 0, 0, 0, 0, 0],\n",
       "       [0, 0, 0, 0, 0, 0, 0, 0, 0, 0, 0, 0, 0, 0, 0, 0, 0, 0, 0, 0],\n",
       "       [0, 0, 0, 0, 0, 0, 0, 0, 0, 0, 0, 0, 0, 0, 0, 0, 0, 0, 0, 0]],\n",
       "      dtype=int64)"
      ]
     },
     "execution_count": 26,
     "metadata": {},
     "output_type": "execute_result"
    }
   ],
   "source": [
    "np.reshape(np.argmax(policy_2, axis=1) - np.argmax(policy_1, axis=1), env.shape)"
   ]
  },
  {
   "cell_type": "markdown",
   "metadata": {},
   "source": [
    "#### - But policies are the same ! "
   ]
  }
 ],
 "metadata": {
  "kernelspec": {
   "display_name": "Python 3",
   "language": "python",
   "name": "python3"
  },
  "language_info": {
   "codemirror_mode": {
    "name": "ipython",
    "version": 3
   },
   "file_extension": ".py",
   "mimetype": "text/x-python",
   "name": "python",
   "nbconvert_exporter": "python",
   "pygments_lexer": "ipython3",
   "version": "3.7.4"
  }
 },
 "nbformat": 4,
 "nbformat_minor": 2
}
